{
 "cells": [
  {
   "cell_type": "markdown",
   "metadata": {},
   "source": [
    "# Nivel de Ingresos por Entidad Federativa\n",
    "\n",
    "El dataset analizado en este notebook fue extraído de la [página web del Gobierno de Mexico](https://datos.gob.mx/busca/dataset/indicadores-estrategicos-poblacion-ocupada-por-nivel-de-ingresos). Dicho análisis tiene como objetivo tener una visión generalizada y estimativa de los ingresos de las personas en cada Entidad Federativa (provincia), teniendo en cuenta la distribución de precios por provincia calculada previamente."
   ]
  },
  {
   "cell_type": "code",
   "execution_count": 43,
   "metadata": {},
   "outputs": [],
   "source": [
    "import pandas as pd\n",
    "from mpl_toolkits.basemap import Basemap\n",
    "import matplotlib.pyplot as plt\n",
    "import seaborn as sns; sns.set()\n",
    "import numpy as np"
   ]
  },
  {
   "cell_type": "code",
   "execution_count": 44,
   "metadata": {},
   "outputs": [],
   "source": [
    "df = pd.read_csv('./data/Poblacion_Ocupada_Nivel_Ingresos.csv', encoding='utf-8',dtype={'Entidad_Federativa':'category', 'Nivel_Ingresos':'category'})\n",
    "\n",
    "#Fuente: https://datos.gob.mx/busca/dataset/indicadores-estrategicos-poblacion-ocupada-por-nivel-de-ingresos"
   ]
  },
  {
   "cell_type": "code",
   "execution_count": 45,
   "metadata": {},
   "outputs": [
    {
     "data": {
      "text/plain": [
       "(133855, 6)"
      ]
     },
     "execution_count": 45,
     "metadata": {},
     "output_type": "execute_result"
    }
   ],
   "source": [
    "df.shape"
   ]
  },
  {
   "cell_type": "code",
   "execution_count": 46,
   "metadata": {},
   "outputs": [
    {
     "data": {
      "text/plain": [
       "Periodo                  int64\n",
       "Entidad_Federativa    category\n",
       "Sexo                    object\n",
       "Grupo_edad              object\n",
       "Nivel_Ingresos        category\n",
       "Numero_personas          int64\n",
       "dtype: object"
      ]
     },
     "execution_count": 46,
     "metadata": {},
     "output_type": "execute_result"
    }
   ],
   "source": [
    "df['Numero_personas'] = df['Numero_personas'].fillna(-1)\n",
    "df['Numero_personas'] = df['Numero_personas'].astype(np.int64)\n",
    "df.dtypes"
   ]
  },
  {
   "cell_type": "markdown",
   "metadata": {},
   "source": [
    "El dataset corresponde desde 2005 hasta 2019:"
   ]
  },
  {
   "cell_type": "code",
   "execution_count": 47,
   "metadata": {},
   "outputs": [
    {
     "data": {
      "text/plain": [
       "(20190601, 20050301)"
      ]
     },
     "execution_count": 47,
     "metadata": {},
     "output_type": "execute_result"
    }
   ],
   "source": [
    "(df['Periodo'].max(),df['Periodo'].min())"
   ]
  },
  {
   "cell_type": "markdown",
   "metadata": {},
   "source": [
    "# Depuración del dataset\n",
    "Como podemos observar a continuación, el dataset presenta numerosas inconsistencias tipográficas, las cuales se arreglarán para una mejor interpretación del mismo."
   ]
  },
  {
   "cell_type": "code",
   "execution_count": 48,
   "metadata": {},
   "outputs": [
    {
     "data": {
      "text/plain": [
       "M s de 1 hasta 2 s.m.     15982\n",
       "M s de 2 hasta 3 s.m.     15910\n",
       "No especificado           15772\n",
       "Menos de 1 s.m.           15724\n",
       "M s de 3 hasta 5 s.m.     15635\n",
       "No recibe ingresos        15540\n",
       "M s de 5 hasta 10 s.m.    14918\n",
       "M s de 10 s.m.            12596\n",
       "1 salario m¡nimo          11778\n",
       "Name: Nivel_Ingresos, dtype: int64"
      ]
     },
     "execution_count": 48,
     "metadata": {},
     "output_type": "execute_result"
    }
   ],
   "source": [
    "df['Nivel_Ingresos'].value_counts()"
   ]
  },
  {
   "cell_type": "code",
   "execution_count": 49,
   "metadata": {},
   "outputs": [
    {
     "data": {
      "text/html": [
       "<div>\n",
       "<style scoped>\n",
       "    .dataframe tbody tr th:only-of-type {\n",
       "        vertical-align: middle;\n",
       "    }\n",
       "\n",
       "    .dataframe tbody tr th {\n",
       "        vertical-align: top;\n",
       "    }\n",
       "\n",
       "    .dataframe thead th {\n",
       "        text-align: right;\n",
       "    }\n",
       "</style>\n",
       "<table border=\"1\" class=\"dataframe\">\n",
       "  <thead>\n",
       "    <tr style=\"text-align: right;\">\n",
       "      <th></th>\n",
       "      <th>Periodo</th>\n",
       "      <th>Entidad_Federativa</th>\n",
       "      <th>Nivel_Ingresos</th>\n",
       "      <th>Numero_personas</th>\n",
       "    </tr>\n",
       "  </thead>\n",
       "  <tbody>\n",
       "    <tr>\n",
       "      <th>61966</th>\n",
       "      <td>20120301</td>\n",
       "      <td>Aguascalientes</td>\n",
       "      <td>Menos de 1 s.m.</td>\n",
       "      <td>6126</td>\n",
       "    </tr>\n",
       "    <tr>\n",
       "      <th>61967</th>\n",
       "      <td>20120301</td>\n",
       "      <td>Aguascalientes</td>\n",
       "      <td>1 salario m¡nimo</td>\n",
       "      <td>210</td>\n",
       "    </tr>\n",
       "    <tr>\n",
       "      <th>61968</th>\n",
       "      <td>20120301</td>\n",
       "      <td>Aguascalientes</td>\n",
       "      <td>M s de 1 hasta 2 s.m.</td>\n",
       "      <td>18265</td>\n",
       "    </tr>\n",
       "    <tr>\n",
       "      <th>61969</th>\n",
       "      <td>20120301</td>\n",
       "      <td>Aguascalientes</td>\n",
       "      <td>M s de 2 hasta 3 s.m.</td>\n",
       "      <td>14686</td>\n",
       "    </tr>\n",
       "    <tr>\n",
       "      <th>61970</th>\n",
       "      <td>20120301</td>\n",
       "      <td>Aguascalientes</td>\n",
       "      <td>M s de 3 hasta 5 s.m.</td>\n",
       "      <td>3635</td>\n",
       "    </tr>\n",
       "    <tr>\n",
       "      <th>61971</th>\n",
       "      <td>20120301</td>\n",
       "      <td>Aguascalientes</td>\n",
       "      <td>M s de 5 hasta 10 s.m.</td>\n",
       "      <td>705</td>\n",
       "    </tr>\n",
       "    <tr>\n",
       "      <th>61972</th>\n",
       "      <td>20120301</td>\n",
       "      <td>Aguascalientes</td>\n",
       "      <td>M s de 10 s.m.</td>\n",
       "      <td>108</td>\n",
       "    </tr>\n",
       "    <tr>\n",
       "      <th>61973</th>\n",
       "      <td>20120301</td>\n",
       "      <td>Aguascalientes</td>\n",
       "      <td>No recibe ingresos</td>\n",
       "      <td>2706</td>\n",
       "    </tr>\n",
       "    <tr>\n",
       "      <th>61974</th>\n",
       "      <td>20120301</td>\n",
       "      <td>Aguascalientes</td>\n",
       "      <td>No especificado</td>\n",
       "      <td>13159</td>\n",
       "    </tr>\n",
       "    <tr>\n",
       "      <th>61975</th>\n",
       "      <td>20120301</td>\n",
       "      <td>Aguascalientes</td>\n",
       "      <td>Menos de 1 s.m.</td>\n",
       "      <td>3561</td>\n",
       "    </tr>\n",
       "  </tbody>\n",
       "</table>\n",
       "</div>"
      ],
      "text/plain": [
       "        Periodo Entidad_Federativa          Nivel_Ingresos  Numero_personas\n",
       "61966  20120301     Aguascalientes         Menos de 1 s.m.             6126\n",
       "61967  20120301     Aguascalientes        1 salario m¡nimo              210\n",
       "61968  20120301     Aguascalientes   M s de 1 hasta 2 s.m.            18265\n",
       "61969  20120301     Aguascalientes   M s de 2 hasta 3 s.m.            14686\n",
       "61970  20120301     Aguascalientes   M s de 3 hasta 5 s.m.             3635\n",
       "61971  20120301     Aguascalientes  M s de 5 hasta 10 s.m.              705\n",
       "61972  20120301     Aguascalientes          M s de 10 s.m.              108\n",
       "61973  20120301     Aguascalientes      No recibe ingresos             2706\n",
       "61974  20120301     Aguascalientes         No especificado            13159\n",
       "61975  20120301     Aguascalientes         Menos de 1 s.m.             3561"
      ]
     },
     "execution_count": 49,
     "metadata": {},
     "output_type": "execute_result"
    }
   ],
   "source": [
    "dfa = df.loc[(~df['Entidad_Federativa'].isnull()) & (~df['Nivel_Ingresos'].isnull()) & (~df['Numero_personas'].isnull()) & (df['Numero_personas'] > 0) & (~df['Periodo'].isnull())].copy()\n",
    "dat = dfa.loc[:,['Periodo','Entidad_Federativa', 'Nivel_Ingresos','Numero_personas']].copy()\n",
    "#Solamente entre 2012 y 2016\n",
    "datos = dat.loc[(df['Periodo'] >= 20120101) & (df['Periodo'] < 20170101)]\n",
    "\n",
    "datos.head(10)"
   ]
  },
  {
   "cell_type": "code",
   "execution_count": 50,
   "metadata": {},
   "outputs": [
    {
     "data": {
      "text/html": [
       "<div>\n",
       "<style scoped>\n",
       "    .dataframe tbody tr th:only-of-type {\n",
       "        vertical-align: middle;\n",
       "    }\n",
       "\n",
       "    .dataframe tbody tr th {\n",
       "        vertical-align: top;\n",
       "    }\n",
       "\n",
       "    .dataframe thead th {\n",
       "        text-align: right;\n",
       "    }\n",
       "</style>\n",
       "<table border=\"1\" class=\"dataframe\">\n",
       "  <thead>\n",
       "    <tr style=\"text-align: right;\">\n",
       "      <th></th>\n",
       "      <th>Periodo</th>\n",
       "      <th>Entidad_Federativa</th>\n",
       "      <th>Nivel_Ingresos</th>\n",
       "      <th>Numero_personas</th>\n",
       "    </tr>\n",
       "  </thead>\n",
       "  <tbody>\n",
       "    <tr>\n",
       "      <th>61966</th>\n",
       "      <td>20120301</td>\n",
       "      <td>Aguascalientes</td>\n",
       "      <td>Menos de 1 salario minimo</td>\n",
       "      <td>6126</td>\n",
       "    </tr>\n",
       "    <tr>\n",
       "      <th>61967</th>\n",
       "      <td>20120301</td>\n",
       "      <td>Aguascalientes</td>\n",
       "      <td>1 salario minimo</td>\n",
       "      <td>210</td>\n",
       "    </tr>\n",
       "    <tr>\n",
       "      <th>61968</th>\n",
       "      <td>20120301</td>\n",
       "      <td>Aguascalientes</td>\n",
       "      <td>Mas de 1 hasta 2 salarios minimos</td>\n",
       "      <td>18265</td>\n",
       "    </tr>\n",
       "    <tr>\n",
       "      <th>61969</th>\n",
       "      <td>20120301</td>\n",
       "      <td>Aguascalientes</td>\n",
       "      <td>Mas de 2 hasta 3 salarios minimos</td>\n",
       "      <td>14686</td>\n",
       "    </tr>\n",
       "    <tr>\n",
       "      <th>61970</th>\n",
       "      <td>20120301</td>\n",
       "      <td>Aguascalientes</td>\n",
       "      <td>Mas de 3 hasta 5 salarios minimos</td>\n",
       "      <td>3635</td>\n",
       "    </tr>\n",
       "    <tr>\n",
       "      <th>61971</th>\n",
       "      <td>20120301</td>\n",
       "      <td>Aguascalientes</td>\n",
       "      <td>Mas de 5 hasta 10 salarios minimos</td>\n",
       "      <td>705</td>\n",
       "    </tr>\n",
       "    <tr>\n",
       "      <th>61972</th>\n",
       "      <td>20120301</td>\n",
       "      <td>Aguascalientes</td>\n",
       "      <td>Mas de 10 salarios minimos</td>\n",
       "      <td>108</td>\n",
       "    </tr>\n",
       "    <tr>\n",
       "      <th>61973</th>\n",
       "      <td>20120301</td>\n",
       "      <td>Aguascalientes</td>\n",
       "      <td>No recibe ingresos</td>\n",
       "      <td>2706</td>\n",
       "    </tr>\n",
       "    <tr>\n",
       "      <th>61974</th>\n",
       "      <td>20120301</td>\n",
       "      <td>Aguascalientes</td>\n",
       "      <td>No especificado</td>\n",
       "      <td>13159</td>\n",
       "    </tr>\n",
       "    <tr>\n",
       "      <th>61975</th>\n",
       "      <td>20120301</td>\n",
       "      <td>Aguascalientes</td>\n",
       "      <td>Menos de 1 salario minimo</td>\n",
       "      <td>3561</td>\n",
       "    </tr>\n",
       "    <tr>\n",
       "      <th>61976</th>\n",
       "      <td>20120301</td>\n",
       "      <td>Aguascalientes</td>\n",
       "      <td>1 salario minimo</td>\n",
       "      <td>562</td>\n",
       "    </tr>\n",
       "    <tr>\n",
       "      <th>61977</th>\n",
       "      <td>20120301</td>\n",
       "      <td>Aguascalientes</td>\n",
       "      <td>Mas de 1 hasta 2 salarios minimos</td>\n",
       "      <td>24320</td>\n",
       "    </tr>\n",
       "    <tr>\n",
       "      <th>61978</th>\n",
       "      <td>20120301</td>\n",
       "      <td>Aguascalientes</td>\n",
       "      <td>Mas de 2 hasta 3 salarios minimos</td>\n",
       "      <td>36917</td>\n",
       "    </tr>\n",
       "    <tr>\n",
       "      <th>61979</th>\n",
       "      <td>20120301</td>\n",
       "      <td>Aguascalientes</td>\n",
       "      <td>Mas de 3 hasta 5 salarios minimos</td>\n",
       "      <td>25988</td>\n",
       "    </tr>\n",
       "    <tr>\n",
       "      <th>61980</th>\n",
       "      <td>20120301</td>\n",
       "      <td>Aguascalientes</td>\n",
       "      <td>Mas de 5 hasta 10 salarios minimos</td>\n",
       "      <td>9518</td>\n",
       "    </tr>\n",
       "  </tbody>\n",
       "</table>\n",
       "</div>"
      ],
      "text/plain": [
       "        Periodo Entidad_Federativa                      Nivel_Ingresos  \\\n",
       "61966  20120301     Aguascalientes           Menos de 1 salario minimo   \n",
       "61967  20120301     Aguascalientes                    1 salario minimo   \n",
       "61968  20120301     Aguascalientes   Mas de 1 hasta 2 salarios minimos   \n",
       "61969  20120301     Aguascalientes   Mas de 2 hasta 3 salarios minimos   \n",
       "61970  20120301     Aguascalientes   Mas de 3 hasta 5 salarios minimos   \n",
       "61971  20120301     Aguascalientes  Mas de 5 hasta 10 salarios minimos   \n",
       "61972  20120301     Aguascalientes          Mas de 10 salarios minimos   \n",
       "61973  20120301     Aguascalientes                  No recibe ingresos   \n",
       "61974  20120301     Aguascalientes                     No especificado   \n",
       "61975  20120301     Aguascalientes           Menos de 1 salario minimo   \n",
       "61976  20120301     Aguascalientes                    1 salario minimo   \n",
       "61977  20120301     Aguascalientes   Mas de 1 hasta 2 salarios minimos   \n",
       "61978  20120301     Aguascalientes   Mas de 2 hasta 3 salarios minimos   \n",
       "61979  20120301     Aguascalientes   Mas de 3 hasta 5 salarios minimos   \n",
       "61980  20120301     Aguascalientes  Mas de 5 hasta 10 salarios minimos   \n",
       "\n",
       "       Numero_personas  \n",
       "61966             6126  \n",
       "61967              210  \n",
       "61968            18265  \n",
       "61969            14686  \n",
       "61970             3635  \n",
       "61971              705  \n",
       "61972              108  \n",
       "61973             2706  \n",
       "61974            13159  \n",
       "61975             3561  \n",
       "61976              562  \n",
       "61977            24320  \n",
       "61978            36917  \n",
       "61979            25988  \n",
       "61980             9518  "
      ]
     },
     "execution_count": 50,
     "metadata": {},
     "output_type": "execute_result"
    }
   ],
   "source": [
    "datos= datos.copy()\n",
    "categorias = {'M\\xa0s de 1 hasta 2 s.m.': 'Mas de 1 hasta 2 salarios minimos',\n",
    "            'M\\xa0s de 2 hasta 3 s.m.': 'Mas de 2 hasta 3 salarios minimos',\n",
    "            'Menos de 1 s.m.': 'Menos de 1 salario minimo',\n",
    "            'M\\xa0s de 3 hasta 5 s.m.': 'Mas de 3 hasta 5 salarios minimos',\n",
    "            'M\\xa0s de 5 hasta 10 s.m.': 'Mas de 5 hasta 10 salarios minimos',\n",
    "            'M\\xa0s de 10 s.m.': 'Mas de 10 salarios minimos',\n",
    "            '1 salario m¡nimo': '1 salario minimo'}\n",
    "\n",
    "datos['Nivel_Ingresos'] = datos['Nivel_Ingresos'].replace(categorias)\n",
    "\n",
    "\n",
    "estados = {'Estado de M‚xico': 'Estado de Mexico',\n",
    "           'Ciudad de M‚xico':'Ciudad de Mexico',\n",
    "           'Nuevo Le¢n':'Nuevo Leon'}\n",
    "\n",
    "datos['Entidad_Federativa'] = datos['Entidad_Federativa'].replace(estados)\n",
    "\n",
    "datos.head(15)"
   ]
  },
  {
   "cell_type": "code",
   "execution_count": 51,
   "metadata": {},
   "outputs": [
    {
     "data": {
      "text/html": [
       "<div>\n",
       "<style scoped>\n",
       "    .dataframe tbody tr th:only-of-type {\n",
       "        vertical-align: middle;\n",
       "    }\n",
       "\n",
       "    .dataframe tbody tr th {\n",
       "        vertical-align: top;\n",
       "    }\n",
       "\n",
       "    .dataframe thead th {\n",
       "        text-align: right;\n",
       "    }\n",
       "</style>\n",
       "<table border=\"1\" class=\"dataframe\">\n",
       "  <thead>\n",
       "    <tr style=\"text-align: right;\">\n",
       "      <th></th>\n",
       "      <th>Entidad_Federativa</th>\n",
       "      <th>Nivel_Ingresos</th>\n",
       "      <th>sum</th>\n",
       "    </tr>\n",
       "  </thead>\n",
       "  <tbody>\n",
       "    <tr>\n",
       "      <th>0</th>\n",
       "      <td>Aguascalientes</td>\n",
       "      <td>1 salario minimo</td>\n",
       "      <td>38801</td>\n",
       "    </tr>\n",
       "    <tr>\n",
       "      <th>1</th>\n",
       "      <td>Aguascalientes</td>\n",
       "      <td>Mas de 1 hasta 2 salarios minimos</td>\n",
       "      <td>2261174</td>\n",
       "    </tr>\n",
       "    <tr>\n",
       "      <th>2</th>\n",
       "      <td>Aguascalientes</td>\n",
       "      <td>Mas de 10 salarios minimos</td>\n",
       "      <td>109900</td>\n",
       "    </tr>\n",
       "    <tr>\n",
       "      <th>3</th>\n",
       "      <td>Aguascalientes</td>\n",
       "      <td>Mas de 2 hasta 3 salarios minimos</td>\n",
       "      <td>2134304</td>\n",
       "    </tr>\n",
       "    <tr>\n",
       "      <th>4</th>\n",
       "      <td>Aguascalientes</td>\n",
       "      <td>Mas de 3 hasta 5 salarios minimos</td>\n",
       "      <td>1295252</td>\n",
       "    </tr>\n",
       "    <tr>\n",
       "      <th>5</th>\n",
       "      <td>Aguascalientes</td>\n",
       "      <td>Mas de 5 hasta 10 salarios minimos</td>\n",
       "      <td>512174</td>\n",
       "    </tr>\n",
       "    <tr>\n",
       "      <th>6</th>\n",
       "      <td>Aguascalientes</td>\n",
       "      <td>Menos de 1 salario minimo</td>\n",
       "      <td>680846</td>\n",
       "    </tr>\n",
       "    <tr>\n",
       "      <th>7</th>\n",
       "      <td>Aguascalientes</td>\n",
       "      <td>No especificado</td>\n",
       "      <td>2804582</td>\n",
       "    </tr>\n",
       "    <tr>\n",
       "      <th>8</th>\n",
       "      <td>Aguascalientes</td>\n",
       "      <td>No recibe ingresos</td>\n",
       "      <td>343050</td>\n",
       "    </tr>\n",
       "    <tr>\n",
       "      <th>9</th>\n",
       "      <td>Baja California</td>\n",
       "      <td>1 salario minimo</td>\n",
       "      <td>112316</td>\n",
       "    </tr>\n",
       "    <tr>\n",
       "      <th>10</th>\n",
       "      <td>Baja California</td>\n",
       "      <td>Mas de 1 hasta 2 salarios minimos</td>\n",
       "      <td>6274928</td>\n",
       "    </tr>\n",
       "    <tr>\n",
       "      <th>11</th>\n",
       "      <td>Baja California</td>\n",
       "      <td>Mas de 10 salarios minimos</td>\n",
       "      <td>591014</td>\n",
       "    </tr>\n",
       "    <tr>\n",
       "      <th>12</th>\n",
       "      <td>Baja California</td>\n",
       "      <td>Mas de 2 hasta 3 salarios minimos</td>\n",
       "      <td>9142591</td>\n",
       "    </tr>\n",
       "    <tr>\n",
       "      <th>13</th>\n",
       "      <td>Baja California</td>\n",
       "      <td>Mas de 3 hasta 5 salarios minimos</td>\n",
       "      <td>5744708</td>\n",
       "    </tr>\n",
       "    <tr>\n",
       "      <th>14</th>\n",
       "      <td>Baja California</td>\n",
       "      <td>Mas de 5 hasta 10 salarios minimos</td>\n",
       "      <td>2284954</td>\n",
       "    </tr>\n",
       "  </tbody>\n",
       "</table>\n",
       "</div>"
      ],
      "text/plain": [
       "   Entidad_Federativa                      Nivel_Ingresos      sum\n",
       "0      Aguascalientes                    1 salario minimo    38801\n",
       "1      Aguascalientes   Mas de 1 hasta 2 salarios minimos  2261174\n",
       "2      Aguascalientes          Mas de 10 salarios minimos   109900\n",
       "3      Aguascalientes   Mas de 2 hasta 3 salarios minimos  2134304\n",
       "4      Aguascalientes   Mas de 3 hasta 5 salarios minimos  1295252\n",
       "5      Aguascalientes  Mas de 5 hasta 10 salarios minimos   512174\n",
       "6      Aguascalientes           Menos de 1 salario minimo   680846\n",
       "7      Aguascalientes                     No especificado  2804582\n",
       "8      Aguascalientes                  No recibe ingresos   343050\n",
       "9     Baja California                    1 salario minimo   112316\n",
       "10    Baja California   Mas de 1 hasta 2 salarios minimos  6274928\n",
       "11    Baja California          Mas de 10 salarios minimos   591014\n",
       "12    Baja California   Mas de 2 hasta 3 salarios minimos  9142591\n",
       "13    Baja California   Mas de 3 hasta 5 salarios minimos  5744708\n",
       "14    Baja California  Mas de 5 hasta 10 salarios minimos  2284954"
      ]
     },
     "execution_count": 51,
     "metadata": {},
     "output_type": "execute_result"
    }
   ],
   "source": [
    "#Agrupo por Entidad Federativa, por Nivel de Ingresos y aplico la suma para calcular la cantidad de personas\n",
    "datos_new = datos.groupby(['Entidad_Federativa','Nivel_Ingresos'])['Numero_personas'].agg(['sum']).fillna(0).reset_index()\n",
    "datos_new.head(15)"
   ]
  },
  {
   "cell_type": "code",
   "execution_count": 52,
   "metadata": {},
   "outputs": [],
   "source": [
    "leyenda = ['No recibe ingresos',\n",
    "           'Menos de 1 salario minimo',\n",
    "           '1 salario minimo',\n",
    "           'Mas de 1 hasta 2 salarios minimos',\n",
    "           'Mas de 2 hasta 3 salarios minimos',\n",
    "           'Mas de 3 hasta 5 salarios minimos',\n",
    "           'Mas de 5 hasta 10 salarios minimos',\n",
    "           'Mas de 10 salarios minimos']"
   ]
  },
  {
   "cell_type": "code",
   "execution_count": 53,
   "metadata": {},
   "outputs": [
    {
     "data": {
      "image/png": "[encoded data removed]",
      "text/plain": [
       "<Figure size 936x504 with 1 Axes>"
      ]
     },
     "metadata": {},
     "output_type": "display_data"
    }
   ],
   "source": [
    "ciudades_caras = ['Estado de Mexico','Ciudad de Mexico','Nuevo Leon', 'Jalisco']\n",
    "\n",
    "sns.set(style=\"whitegrid\")\n",
    "plt.figure(figsize=(13, 7))\n",
    "plt.ticklabel_format(style='plain')\n",
    "sns.barplot(palette = 'inferno_r', order = ciudades_caras, data = datos_new, hue_order = leyenda, hue = \"Nivel_Ingresos\", x=\"Entidad_Federativa\", y=\"sum\")\n",
    "plt.legend(title='Nivel de Ingresos')\n",
    "plt.title(\"Nivel de ingresos por Entidad Federativa más cara\", loc='center',fontsize=18)\n",
    "plt.xlabel('Entidad Federativa',fontsize=12)\n",
    "plt.ylabel('Numero de personas',fontsize=15)\n",
    "plt.savefig(\"NivelIngresosEntidadCara.png\",bbox_inches='tight')"
   ]
  },
  {
   "cell_type": "code",
   "execution_count": 54,
   "metadata": {
    "scrolled": true
   },
   "outputs": [
    {
     "data": {
      "image/png": "[encoded data removed]",
      "text/plain": [
       "<Figure size 936x504 with 1 Axes>"
      ]
     },
     "metadata": {},
     "output_type": "display_data"
    }
   ],
   "source": [
    "ciudades_baratas = ['Tlaxcala','Baja California','Baja California Sur','Hidalgo','Durango','Zacatecas']\n",
    "\n",
    "sns.set(style=\"whitegrid\")\n",
    "plt.figure(figsize=(13, 7))\n",
    "plt.ticklabel_format(style='plain')\n",
    "sns.barplot(palette = 'inferno_r', order = ciudades_baratas, data = datos_new,hue_order = leyenda, hue = \"Nivel_Ingresos\", x=\"Entidad_Federativa\", y=\"sum\")\n",
    "plt.legend(title='Nivel de Ingresos')\n",
    "plt.title(\"Nivel de ingresos por Entidad Federativa más barata\", loc='center',fontsize=18)\n",
    "plt.xlabel('Entidad Federativa',fontsize=12)\n",
    "plt.ylabel('Numero de personas',fontsize=15)\n",
    "plt.savefig(\"NivelIngresosEntidadBarata.png\",bbox_inches='tight')"
   ]
  }
 ],
 "metadata": {
  "kernelspec": {
   "display_name": "Python 3",
   "language": "python",
   "name": "python3"
  },
  "language_info": {
   "codemirror_mode": {
    "name": "ipython",
    "version": 3
   },
   "file_extension": ".py",
   "mimetype": "text/x-python",
   "name": "python",
   "nbconvert_exporter": "python",
   "pygments_lexer": "ipython3",
   "version": "3.7.3"
  }
 },
 "nbformat": 4,
 "nbformat_minor": 2
}
