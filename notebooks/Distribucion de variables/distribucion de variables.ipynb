{
 "cells": [
  {
   "cell_type": "markdown",
   "metadata": {},
   "source": [
    "# [TEMPLATE] DATASET DEPURADO"
   ]
  },
  {
   "cell_type": "code",
   "execution_count": 2,
   "metadata": {},
   "outputs": [],
   "source": [
    "import pandas as pd\n",
    "import numpy as np\n",
    "import matplotlib.pyplot as plt\n",
    "import seaborn as sns"
   ]
  },
  {
   "cell_type": "code",
   "execution_count": 3,
   "metadata": {},
   "outputs": [],
   "source": [
    "df = pd.read_csv('./data/train.csv', dtype={'id':'uint32', 'provincia':'category',\n",
    "                                            'tipodepropiedad':'category', 'gimnasio':'bool',\n",
    "                                            'usosmultiples':'bool', 'piscina':'bool', 'escuelascercanas':'bool',\n",
    "                                            'centroscomercialescercanos':'bool'})\n",
    "\n",
    "# OJO, debe tener el archivo train.csv en la carpeta data."
   ]
  },
  {
   "cell_type": "code",
   "execution_count": 4,
   "metadata": {},
   "outputs": [],
   "source": [
    "df['antiguedad'] = df['antiguedad'].fillna(-1)\n",
    "df['antiguedad'] = df['antiguedad'].astype(np.int8)\n",
    "df['habitaciones'] = df['habitaciones'].fillna(-1)\n",
    "df['habitaciones'] = df['habitaciones'].astype(np.int8)\n",
    "df['garages'] = df['garages'].fillna(-1)\n",
    "df['garages'] = df['garages'].astype(np.int8)\n",
    "df['banos'] = df['banos'].fillna(-1)\n",
    "df['banos'] = df['banos'].astype(np.int8)\n",
    "df['idzona'] = df['idzona'].fillna(-1)\n",
    "df['idzona'] = df['idzona'].astype(np.int32)\n",
    "df['metroscubiertos'] = df['metroscubiertos'].fillna(-1)\n",
    "df['metroscubiertos'] = df['metroscubiertos'].astype(np.int16)\n",
    "df['metrostotales'] = df['metrostotales'].fillna(-1)\n",
    "df['metrostotales'] = df['metrostotales'].astype(np.int16)\n",
    "df['precio'] = df['precio'].astype(np.uint32)\n",
    "df['fecha'] = pd.to_datetime(df['fecha'])\n",
    "\n",
    "# OJO, los valores \"-1\" representan nulls."
   ]
  },
  {
   "cell_type": "code",
   "execution_count": 5,
   "metadata": {},
   "outputs": [],
   "source": [
    "# Colores a utilizar\n",
    "\n",
    "amarillo = '#FCAA67'\n",
    "rojo = '#B0413E'\n",
    "verde = '#FFFFC7'\n",
    "azul = '#548687'\n",
    "marron = '#473335'\n",
    "otro = '#FAEFBF'"
   ]
  },
  {
   "cell_type": "markdown",
   "metadata": {},
   "source": [
    "<hr>"
   ]
  },
  {
   "cell_type": "markdown",
   "metadata": {},
   "source": [
    "# Analisis de las diferentes distribuciones de las variables"
   ]
  },
  {
   "cell_type": "code",
   "execution_count": 6,
   "metadata": {},
   "outputs": [
    {
     "data": {
      "text/plain": [
       "Index(['id', 'titulo', 'descripcion', 'tipodepropiedad', 'direccion', 'ciudad',\n",
       "       'provincia', 'antiguedad', 'habitaciones', 'garages', 'banos',\n",
       "       'metroscubiertos', 'metrostotales', 'idzona', 'lat', 'lng', 'fecha',\n",
       "       'gimnasio', 'usosmultiples', 'piscina', 'escuelascercanas',\n",
       "       'centroscomercialescercanos', 'precio'],\n",
       "      dtype='object')"
      ]
     },
     "execution_count": 6,
     "metadata": {},
     "output_type": "execute_result"
    }
   ],
   "source": [
    "df.columns"
   ]
  },
  {
   "cell_type": "code",
   "execution_count": 7,
   "metadata": {},
   "outputs": [],
   "source": [
    "df = df[['tipodepropiedad', 'ciudad', 'provincia', 'antiguedad', 'habitaciones', 'garages', 'banos',\n",
    "         'metroscubiertos', 'metrostotales', 'fecha', 'gimnasio', 'usosmultiples', 'piscina', 'escuelascercanas',\n",
    "         'centroscomercialescercanos', 'precio']]"
   ]
  },
  {
   "cell_type": "markdown",
   "metadata": {},
   "source": [
    "### Distribucion segun tipo de propiedad"
   ]
  },
  {
   "cell_type": "code",
   "execution_count": 8,
   "metadata": {},
   "outputs": [],
   "source": [
    "p2 = df.copy()\n",
    "p2 = p2[['tipodepropiedad']]\n",
    "conservar = ['Casa', 'Apartamento', 'Casa en condominio', 'Terreno', 'Edificio', 'Local Comercial', 'Oficina comercial']\n",
    "p2['tipodepropiedad'] = p2['tipodepropiedad'].map(lambda x: x if x in conservar else 'Otros')\n",
    "p2 = p2['tipodepropiedad'].value_counts(normalize=True).map(lambda x: round(x*100)).to_frame()\\\n",
    "    .reset_index().rename(columns={'index':'tipodepropiedad','tipodepropiedad':'porcentual'})"
   ]
  },
  {
   "cell_type": "code",
   "execution_count": 9,
   "metadata": {},
   "outputs": [],
   "source": [
    "p2['label'] = p2['tipodepropiedad'] + \" \"\n",
    "p2['label'] += \"(\" + p2['porcentual'].map(lambda x: str(x)) + \"%)\""
   ]
  },
  {
   "cell_type": "code",
   "execution_count": 10,
   "metadata": {
    "scrolled": true
   },
   "outputs": [
    {
     "data": {
      "text/html": [
       "<div>\n",
       "<style scoped>\n",
       "    .dataframe tbody tr th:only-of-type {\n",
       "        vertical-align: middle;\n",
       "    }\n",
       "\n",
       "    .dataframe tbody tr th {\n",
       "        vertical-align: top;\n",
       "    }\n",
       "\n",
       "    .dataframe thead th {\n",
       "        text-align: right;\n",
       "    }\n",
       "</style>\n",
       "<table border=\"1\" class=\"dataframe\">\n",
       "  <thead>\n",
       "    <tr style=\"text-align: right;\">\n",
       "      <th></th>\n",
       "      <th>tipodepropiedad</th>\n",
       "      <th>porcentual</th>\n",
       "      <th>label</th>\n",
       "    </tr>\n",
       "  </thead>\n",
       "  <tbody>\n",
       "    <tr>\n",
       "      <td>0</td>\n",
       "      <td>Casa</td>\n",
       "      <td>59</td>\n",
       "      <td>Casa (59%)</td>\n",
       "    </tr>\n",
       "    <tr>\n",
       "      <td>1</td>\n",
       "      <td>Apartamento</td>\n",
       "      <td>24</td>\n",
       "      <td>Apartamento (24%)</td>\n",
       "    </tr>\n",
       "    <tr>\n",
       "      <td>2</td>\n",
       "      <td>Casa en condominio</td>\n",
       "      <td>8</td>\n",
       "      <td>Casa en condominio (8%)</td>\n",
       "    </tr>\n",
       "    <tr>\n",
       "      <td>3</td>\n",
       "      <td>Terreno</td>\n",
       "      <td>4</td>\n",
       "      <td>Terreno (4%)</td>\n",
       "    </tr>\n",
       "    <tr>\n",
       "      <td>4</td>\n",
       "      <td>Otros</td>\n",
       "      <td>2</td>\n",
       "      <td>Otros (2%)</td>\n",
       "    </tr>\n",
       "    <tr>\n",
       "      <td>5</td>\n",
       "      <td>Local Comercial</td>\n",
       "      <td>1</td>\n",
       "      <td>Local Comercial (1%)</td>\n",
       "    </tr>\n",
       "    <tr>\n",
       "      <td>6</td>\n",
       "      <td>Oficina comercial</td>\n",
       "      <td>1</td>\n",
       "      <td>Oficina comercial (1%)</td>\n",
       "    </tr>\n",
       "    <tr>\n",
       "      <td>7</td>\n",
       "      <td>Edificio</td>\n",
       "      <td>1</td>\n",
       "      <td>Edificio (1%)</td>\n",
       "    </tr>\n",
       "  </tbody>\n",
       "</table>\n",
       "</div>"
      ],
      "text/plain": [
       "      tipodepropiedad  porcentual                    label\n",
       "0                Casa          59               Casa (59%)\n",
       "1         Apartamento          24        Apartamento (24%)\n",
       "2  Casa en condominio           8  Casa en condominio (8%)\n",
       "3             Terreno           4             Terreno (4%)\n",
       "4               Otros           2               Otros (2%)\n",
       "5     Local Comercial           1     Local Comercial (1%)\n",
       "6   Oficina comercial           1   Oficina comercial (1%)\n",
       "7            Edificio           1            Edificio (1%)"
      ]
     },
     "execution_count": 10,
     "metadata": {},
     "output_type": "execute_result"
    }
   ],
   "source": [
    "p2"
   ]
  },
  {
   "cell_type": "code",
   "execution_count": 11,
   "metadata": {},
   "outputs": [
    {
     "data": {
      "image/png": "[encoded data removed]",
      "text/plain": [
       "<Figure size 576x576 with 1 Axes>"
      ]
     },
     "metadata": {},
     "output_type": "display_data"
    }
   ],
   "source": [
    "plt.figure(figsize=(8,8))\n",
    "\n",
    "\n",
    "my_circle=plt.Circle( (0,0), 0.5, color='white')\n",
    "\n",
    "plt.title('Distribucion tipos de propiedad', fontsize=22)\n",
    "plt.pie(p2['porcentual'], labels=p2['label'], colors=[marron, azul, rojo, amarillo, verde])\n",
    "p=plt.gcf()\n",
    "p.gca().add_artist(my_circle)\n",
    "\n",
    "plt.savefig('distribucion tipos propiedad.png', transparent=True, bbox_inches='tight')\n"
   ]
  },
  {
   "cell_type": "markdown",
   "metadata": {},
   "source": [
    "<hr>"
   ]
  },
  {
   "cell_type": "markdown",
   "metadata": {},
   "source": [
    "### Distribuciones segun atributos"
   ]
  },
  {
   "cell_type": "code",
   "execution_count": 12,
   "metadata": {
    "scrolled": false
   },
   "outputs": [
    {
     "data": {
      "text/html": [
       "<div>\n",
       "<style scoped>\n",
       "    .dataframe tbody tr th:only-of-type {\n",
       "        vertical-align: middle;\n",
       "    }\n",
       "\n",
       "    .dataframe tbody tr th {\n",
       "        vertical-align: top;\n",
       "    }\n",
       "\n",
       "    .dataframe thead th {\n",
       "        text-align: right;\n",
       "    }\n",
       "</style>\n",
       "<table border=\"1\" class=\"dataframe\">\n",
       "  <thead>\n",
       "    <tr style=\"text-align: right;\">\n",
       "      <th></th>\n",
       "      <th>garages</th>\n",
       "      <th>gimnasio</th>\n",
       "      <th>piscina</th>\n",
       "      <th>usosmultiples</th>\n",
       "      <th>escuelascercanas</th>\n",
       "      <th>centroscomercialescercanos</th>\n",
       "    </tr>\n",
       "  </thead>\n",
       "  <tbody>\n",
       "    <tr>\n",
       "      <td>0</td>\n",
       "      <td>1</td>\n",
       "      <td>False</td>\n",
       "      <td>False</td>\n",
       "      <td>False</td>\n",
       "      <td>False</td>\n",
       "      <td>False</td>\n",
       "    </tr>\n",
       "    <tr>\n",
       "      <td>1</td>\n",
       "      <td>2</td>\n",
       "      <td>False</td>\n",
       "      <td>False</td>\n",
       "      <td>False</td>\n",
       "      <td>True</td>\n",
       "      <td>True</td>\n",
       "    </tr>\n",
       "    <tr>\n",
       "      <td>2</td>\n",
       "      <td>2</td>\n",
       "      <td>False</td>\n",
       "      <td>False</td>\n",
       "      <td>False</td>\n",
       "      <td>False</td>\n",
       "      <td>False</td>\n",
       "    </tr>\n",
       "    <tr>\n",
       "      <td>3</td>\n",
       "      <td>1</td>\n",
       "      <td>False</td>\n",
       "      <td>False</td>\n",
       "      <td>False</td>\n",
       "      <td>True</td>\n",
       "      <td>True</td>\n",
       "    </tr>\n",
       "    <tr>\n",
       "      <td>4</td>\n",
       "      <td>1</td>\n",
       "      <td>False</td>\n",
       "      <td>False</td>\n",
       "      <td>False</td>\n",
       "      <td>False</td>\n",
       "      <td>False</td>\n",
       "    </tr>\n",
       "  </tbody>\n",
       "</table>\n",
       "</div>"
      ],
      "text/plain": [
       "   garages  gimnasio  piscina  usosmultiples  escuelascercanas  \\\n",
       "0        1     False    False          False             False   \n",
       "1        2     False    False          False              True   \n",
       "2        2     False    False          False             False   \n",
       "3        1     False    False          False              True   \n",
       "4        1     False    False          False             False   \n",
       "\n",
       "   centroscomercialescercanos  \n",
       "0                       False  \n",
       "1                        True  \n",
       "2                       False  \n",
       "3                        True  \n",
       "4                       False  "
      ]
     },
     "execution_count": 12,
     "metadata": {},
     "output_type": "execute_result"
    }
   ],
   "source": [
    "p1 = df.copy()\n",
    "p1 = p1[['garages', 'gimnasio', 'piscina', 'usosmultiples', 'escuelascercanas', 'centroscomercialescercanos']]\n",
    "p1.head()"
   ]
  },
  {
   "cell_type": "code",
   "execution_count": 13,
   "metadata": {
    "scrolled": false
   },
   "outputs": [
    {
     "data": {
      "text/plain": [
       "False    202235\n",
       "True      37765\n",
       "Name: garages, dtype: int64"
      ]
     },
     "execution_count": 13,
     "metadata": {},
     "output_type": "execute_result"
    }
   ],
   "source": [
    "# Veo los nulos\n",
    "(p1['garages'] == -1).value_counts()"
   ]
  },
  {
   "cell_type": "code",
   "execution_count": 14,
   "metadata": {
    "scrolled": true
   },
   "outputs": [
    {
     "data": {
      "text/plain": [
       "Tiene       87\n",
       "No tiene    13\n",
       "Name: garages, dtype: int64"
      ]
     },
     "execution_count": 14,
     "metadata": {},
     "output_type": "execute_result"
    }
   ],
   "source": [
    "garages = p1.copy()\n",
    "garages = garages.loc[garages['garages'] != -1]['garages']\n",
    "garages = garages.map(lambda x: True if (x>=1) else False).value_counts(normalize=True).map(lambda x: round(x*100))\n",
    "garages.index = ['Tiene', 'No tiene']\n",
    "garages"
   ]
  },
  {
   "cell_type": "code",
   "execution_count": 15,
   "metadata": {},
   "outputs": [],
   "source": [
    "gimnasios= p1['gimnasio'].value_counts(normalize=True).rename(index={True:'Tiene', False:'No tiene'}).map(lambda x: round(x*100))\n",
    "piscinas= p1['piscina'].value_counts(normalize=True).rename(index={True:'Tiene', False:'No tiene'}).map(lambda x: round(x*100))\n",
    "sums=p1['usosmultiples'].value_counts(normalize=True).rename(index={True:'Tiene', False:'No tiene'}).map(lambda x: round(x*100))\n",
    "escuelas=p1['escuelascercanas'].value_counts(normalize=True).rename(index={True:'Tiene', False:'No tiene'}).map(lambda x: round(x*100))\n",
    "comerciales=p1['centroscomercialescercanos'].value_counts(normalize=True).rename(index={True:'Tiene', False:'No tiene'}).map(lambda x: round(x*100))"
   ]
  },
  {
   "cell_type": "code",
   "execution_count": 16,
   "metadata": {
    "scrolled": true
   },
   "outputs": [],
   "source": [
    "si = 'Tiene'\n",
    "no = 'No tiene'"
   ]
  },
  {
   "cell_type": "code",
   "execution_count": 17,
   "metadata": {},
   "outputs": [
    {
     "data": {
      "image/png": "[encoded data removed]",
      "text/plain": [
       "<Figure size 864x648 with 1 Axes>"
      ]
     },
     "metadata": {
      "needs_background": "light"
     },
     "output_type": "display_data"
    }
   ],
   "source": [
    "from matplotlib import rc\n",
    "\n",
    "tiene = [piscinas[si], sums[si], gimnasios[si], garages[si], escuelas[si], comerciales[si]] \n",
    "no_tiene = [piscinas[no], sums[no], gimnasios[no], garages[no], escuelas[no], comerciales[no]]\n",
    "\n",
    " \n",
    "# config\n",
    "plt.rc('axes', axisbelow=True)\n",
    "plt.figure(figsize=(12,9))\n",
    "plt.ticklabel_format(style='plain')\n",
    "\n",
    "# Data\n",
    "r = [0,1,2,3,4,5]\n",
    "raw_data = {'pTiene': tiene, 'pNoTiene': no_tiene}\n",
    "data = pd.DataFrame(raw_data)\n",
    "names = ('Piscina', 'SUM', 'Gimnasio', 'Garaje', 'Escuelas cercanas', 'Shoppings cercanos')\n",
    "\n",
    "# plot\n",
    "barWidth = 0.85\n",
    "lol = plt.bar(r, data['pTiene'], color=amarillo, edgecolor='white', width=barWidth, label=\"Tiene\")\n",
    "plt.bar(r, data['pNoTiene'], bottom=data['pTiene'], color=marron, edgecolor='white', width=barWidth, label=\"No tiene\")\n",
    "\n",
    "plt.xlabel(\"Atributo de la propiedad\", fontsize=18)\n",
    "plt.ylabel(\"Propiedades (%)\", fontsize=18)\n",
    "plt.xticks(r, names, rotation=10)\n",
    "plt.yticks(np.arange(0, 105, step=5))\n",
    "plt.title('Porcentaje de propiedades que cuentan con atributos',fontsize=22)\n",
    "\n",
    "plt.grid(axis='y')\n",
    "plt.tick_params(colors=marron, grid_alpha=0.8, labelsize=12)\n",
    "\n",
    "# Make some labels.\n",
    "rects= lol.patches\n",
    "\n",
    "for rect in rects:\n",
    "    height = rect.get_height()\n",
    "    plt.text(rect.get_x() + rect.get_width() / 2, height+1, str(height)+'%', ha='center', va='bottom',\n",
    "            color='white', size=12)    \n",
    "    \n",
    "    \n",
    "# Add a legend\n",
    "plt.legend(loc='upper left', bbox_to_anchor=(1,1), ncol=1)\n",
    "\n",
    "plt.savefig(\"atributos porcentuales.png\", transparent=True, bbox_inches='tight')\n",
    "\n",
    "\n"
   ]
  },
  {
   "cell_type": "code",
   "execution_count": null,
   "metadata": {},
   "outputs": [],
   "source": []
  },
  {
   "cell_type": "markdown",
   "metadata": {},
   "source": [
    "### Distribucion metros cubiertos vs metros totales"
   ]
  },
  {
   "cell_type": "code",
   "execution_count": 18,
   "metadata": {},
   "outputs": [],
   "source": [
    "p3 = df.copy()\n",
    "p3 = p3[['tipodepropiedad', 'metroscubiertos', 'metrostotales']]\n",
    "p3 = p3.loc[(p3['metrostotales'] != -1) & (p3['metroscubiertos'] != -1) & (p3['metrostotales']>p3['metroscubiertos'])]"
   ]
  },
  {
   "cell_type": "code",
   "execution_count": 19,
   "metadata": {},
   "outputs": [
    {
     "data": {
      "text/plain": [
       "(62954, 3)"
      ]
     },
     "execution_count": 19,
     "metadata": {},
     "output_type": "execute_result"
    }
   ],
   "source": [
    "p3.shape"
   ]
  },
  {
   "cell_type": "code",
   "execution_count": 20,
   "metadata": {},
   "outputs": [],
   "source": [
    "p3['metrosdescubiertos'] = p3['metrostotales'] - p3['metroscubiertos']\n"
   ]
  },
  {
   "cell_type": "code",
   "execution_count": 21,
   "metadata": {},
   "outputs": [],
   "source": [
    "p3['metroscubiertos'] = (p3['metroscubiertos'] / p3['metrostotales'])*100\n",
    "p3['metrosdescubiertos'] = (p3['metrosdescubiertos'] / p3['metrostotales'])*100"
   ]
  },
  {
   "cell_type": "code",
   "execution_count": 22,
   "metadata": {},
   "outputs": [
    {
     "data": {
      "text/html": [
       "<div>\n",
       "<style scoped>\n",
       "    .dataframe tbody tr th:only-of-type {\n",
       "        vertical-align: middle;\n",
       "    }\n",
       "\n",
       "    .dataframe tbody tr th {\n",
       "        vertical-align: top;\n",
       "    }\n",
       "\n",
       "    .dataframe thead th {\n",
       "        text-align: right;\n",
       "    }\n",
       "</style>\n",
       "<table border=\"1\" class=\"dataframe\">\n",
       "  <thead>\n",
       "    <tr style=\"text-align: right;\">\n",
       "      <th></th>\n",
       "      <th>tipodepropiedad</th>\n",
       "      <th>metroscubiertos</th>\n",
       "      <th>metrostotales</th>\n",
       "      <th>metrosdescubiertos</th>\n",
       "    </tr>\n",
       "  </thead>\n",
       "  <tbody>\n",
       "    <tr>\n",
       "      <td>2</td>\n",
       "      <td>Casa</td>\n",
       "      <td>86.746988</td>\n",
       "      <td>166</td>\n",
       "      <td>13.253012</td>\n",
       "    </tr>\n",
       "    <tr>\n",
       "      <td>3</td>\n",
       "      <td>Casa</td>\n",
       "      <td>94.029851</td>\n",
       "      <td>67</td>\n",
       "      <td>5.970149</td>\n",
       "    </tr>\n",
       "    <tr>\n",
       "      <td>5</td>\n",
       "      <td>Apartamento</td>\n",
       "      <td>83.333333</td>\n",
       "      <td>90</td>\n",
       "      <td>16.666667</td>\n",
       "    </tr>\n",
       "    <tr>\n",
       "      <td>6</td>\n",
       "      <td>Casa</td>\n",
       "      <td>87.500000</td>\n",
       "      <td>160</td>\n",
       "      <td>12.500000</td>\n",
       "    </tr>\n",
       "    <tr>\n",
       "      <td>15</td>\n",
       "      <td>Casa</td>\n",
       "      <td>72.000000</td>\n",
       "      <td>250</td>\n",
       "      <td>28.000000</td>\n",
       "    </tr>\n",
       "  </tbody>\n",
       "</table>\n",
       "</div>"
      ],
      "text/plain": [
       "   tipodepropiedad  metroscubiertos  metrostotales  metrosdescubiertos\n",
       "2             Casa        86.746988            166           13.253012\n",
       "3             Casa        94.029851             67            5.970149\n",
       "5      Apartamento        83.333333             90           16.666667\n",
       "6             Casa        87.500000            160           12.500000\n",
       "15            Casa        72.000000            250           28.000000"
      ]
     },
     "execution_count": 22,
     "metadata": {},
     "output_type": "execute_result"
    }
   ],
   "source": [
    "p3.head()"
   ]
  },
  {
   "cell_type": "code",
   "execution_count": 23,
   "metadata": {},
   "outputs": [],
   "source": [
    "p3['tipodepropiedad'] = p3['tipodepropiedad'].map(lambda x: x if x in ['Casa', 'Apartamento'] else 'Otros')"
   ]
  },
  {
   "cell_type": "code",
   "execution_count": 24,
   "metadata": {},
   "outputs": [],
   "source": [
    "p3 = p3.groupby('tipodepropiedad').agg({'metroscubiertos':'mean', 'metrosdescubiertos':'mean'})\\\n",
    "        .applymap(lambda x: round(x))"
   ]
  },
  {
   "cell_type": "code",
   "execution_count": 25,
   "metadata": {},
   "outputs": [
    {
     "data": {
      "text/html": [
       "<div>\n",
       "<style scoped>\n",
       "    .dataframe tbody tr th:only-of-type {\n",
       "        vertical-align: middle;\n",
       "    }\n",
       "\n",
       "    .dataframe tbody tr th {\n",
       "        vertical-align: top;\n",
       "    }\n",
       "\n",
       "    .dataframe thead th {\n",
       "        text-align: right;\n",
       "    }\n",
       "</style>\n",
       "<table border=\"1\" class=\"dataframe\">\n",
       "  <thead>\n",
       "    <tr style=\"text-align: right;\">\n",
       "      <th></th>\n",
       "      <th>metroscubiertos</th>\n",
       "      <th>metrosdescubiertos</th>\n",
       "    </tr>\n",
       "    <tr>\n",
       "      <th>tipodepropiedad</th>\n",
       "      <th></th>\n",
       "      <th></th>\n",
       "    </tr>\n",
       "  </thead>\n",
       "  <tbody>\n",
       "    <tr>\n",
       "      <td>Apartamento</td>\n",
       "      <td>79</td>\n",
       "      <td>21</td>\n",
       "    </tr>\n",
       "    <tr>\n",
       "      <td>Casa</td>\n",
       "      <td>74</td>\n",
       "      <td>26</td>\n",
       "    </tr>\n",
       "    <tr>\n",
       "      <td>Otros</td>\n",
       "      <td>74</td>\n",
       "      <td>26</td>\n",
       "    </tr>\n",
       "  </tbody>\n",
       "</table>\n",
       "</div>"
      ],
      "text/plain": [
       "                 metroscubiertos  metrosdescubiertos\n",
       "tipodepropiedad                                     \n",
       "Apartamento                   79                  21\n",
       "Casa                          74                  26\n",
       "Otros                         74                  26"
      ]
     },
     "execution_count": 25,
     "metadata": {},
     "output_type": "execute_result"
    }
   ],
   "source": [
    "p3"
   ]
  },
  {
   "cell_type": "code",
   "execution_count": 30,
   "metadata": {},
   "outputs": [
    {
     "data": {
      "image/png": "[encoded data removed]",
      "text/plain": [
       "<Figure size 864x648 with 1 Axes>"
      ]
     },
     "metadata": {
      "needs_background": "light"
     },
     "output_type": "display_data"
    }
   ],
   "source": [
    "\n",
    "cubiertos= p3['metroscubiertos']\n",
    "descubiertos=p3['metrosdescubiertos']\n",
    " \n",
    "# config\n",
    "plt.rc('axes', axisbelow=True)\n",
    "plt.figure(figsize=(12,9))\n",
    "plt.ticklabel_format(style='plain')\n",
    "\n",
    "# Data\n",
    "r = [0,1,2]\n",
    "raw_data = {'cubiertos': cubiertos, 'descubiertos': descubiertos}\n",
    "data = pd.DataFrame(raw_data)\n",
    "names = ('Apartamento', 'Casa', 'Otros')\n",
    "\n",
    "# plot\n",
    "barWidth = 0.85\n",
    "lol = plt.bar(r, data['cubiertos'], color=azul, edgecolor='white', width=barWidth, label=\"Metros cubiertos\")\n",
    "plt.bar(r, data['descubiertos'], bottom=data['cubiertos'], color=marron, edgecolor='white', width=barWidth, label=\"Metros descubiertos\")\n",
    "\n",
    "plt.xlabel(\"Tipo de propiedad\", fontsize=18)\n",
    "plt.ylabel(\"Metros cubiertos (%)\", fontsize=18)\n",
    "plt.xticks(r, names, rotation=0)\n",
    "plt.yticks(np.arange(0, 105, step=5))\n",
    "plt.title('Proporción de metros cubiertos sobre totales segun tipo de propiedad',fontsize=22)\n",
    "\n",
    "plt.grid(axis='y')\n",
    "plt.tick_params(colors=marron, grid_alpha=0.8, labelsize=12)\n",
    "\n",
    "# Make some labels.\n",
    "rects = lol.patches\n",
    "\n",
    "for rect in rects:\n",
    "    height = rect.get_height()\n",
    "    plt.text(rect.get_x() + rect.get_width() / 2, height+1, str(height)+'%', ha='center', va='bottom',\n",
    "            color='white', size=12)\n",
    "    \n",
    "    \n",
    "# Add a legend\n",
    "plt.legend(loc='upper left', bbox_to_anchor=(1,1), ncol=1)\n",
    "\n",
    "plt.savefig(\"metros cubiertos porcentuales.png\", transparent=True, bbox_inches='tight')\n",
    "\n",
    "\n"
   ]
  },
  {
   "cell_type": "markdown",
   "metadata": {},
   "source": [
    "<hr>\n",
    "\n",
    "### Antiguedad"
   ]
  },
  {
   "cell_type": "code",
   "execution_count": 31,
   "metadata": {},
   "outputs": [],
   "source": [
    "# funcion aux\n",
    "\n",
    "def parsear_antiguedad_1(anti):\n",
    "    div5 = anti//5\n",
    "    if (anti==0):\n",
    "        return 'A'\n",
    "        #return 'A estrenar'\n",
    "    if (div5==0):\n",
    "        return 'B'\n",
    "        #return 'Menos de 5'\n",
    "    elif (div5<10):\n",
    "        return ('C{}'.format(div5))\n",
    "        #return ('Entre {} y {}'.format((div5*5),((div5+1)*5)))\n",
    "    else:\n",
    "        return 'D'\n",
    "        #return '50 o más'\n",
    "    \n",
    "def parsear_antiguedad_2(anti):\n",
    "    if (anti=='A'):\n",
    "        return 'A estrenar'\n",
    "    elif (anti=='B'):\n",
    "        return 'Menos de 5'\n",
    "    elif (anti[0]=='C'):\n",
    "        div5=int(anti[1])\n",
    "        return ('Entre {} y {}'.format((div5*5),((div5+1)*5)))\n",
    "    else:\n",
    "        return '50 o más'\n",
    "        "
   ]
  },
  {
   "cell_type": "code",
   "execution_count": 32,
   "metadata": {},
   "outputs": [],
   "source": [
    "p4 = df.copy()\n",
    "p4 = p4.loc[p4['antiguedad'] != -1][['antiguedad']]\n",
    "p4 = p4['antiguedad'].value_counts()"
   ]
  },
  {
   "cell_type": "code",
   "execution_count": 33,
   "metadata": {},
   "outputs": [],
   "source": [
    "p4.index = p4.index.map(parsear_antiguedad_1)\n",
    "p4 = p4.to_frame().reset_index().rename(columns={'index':'antiguedad', 'antiguedad':'cantidad'})"
   ]
  },
  {
   "cell_type": "code",
   "execution_count": 34,
   "metadata": {},
   "outputs": [],
   "source": [
    "p4=p4.groupby('antiguedad').sum().reset_index()"
   ]
  },
  {
   "cell_type": "code",
   "execution_count": 35,
   "metadata": {},
   "outputs": [],
   "source": [
    "p4['antiguedad'] = p4['antiguedad'].map(parsear_antiguedad_2)"
   ]
  },
  {
   "cell_type": "code",
   "execution_count": 36,
   "metadata": {},
   "outputs": [],
   "source": [
    "p4['porcentual'] = p4['cantidad'].map(lambda x: (x/(p4['cantidad'].sum()))*100)\n",
    "p4['label'] = p4['porcentual'].map(lambda x: '<1%' if (int(x)==0) else str(int(x))+'%')"
   ]
  },
  {
   "cell_type": "code",
   "execution_count": 37,
   "metadata": {},
   "outputs": [
    {
     "data": {
      "text/html": [
       "<div>\n",
       "<style scoped>\n",
       "    .dataframe tbody tr th:only-of-type {\n",
       "        vertical-align: middle;\n",
       "    }\n",
       "\n",
       "    .dataframe tbody tr th {\n",
       "        vertical-align: top;\n",
       "    }\n",
       "\n",
       "    .dataframe thead th {\n",
       "        text-align: right;\n",
       "    }\n",
       "</style>\n",
       "<table border=\"1\" class=\"dataframe\">\n",
       "  <thead>\n",
       "    <tr style=\"text-align: right;\">\n",
       "      <th></th>\n",
       "      <th>antiguedad</th>\n",
       "      <th>cantidad</th>\n",
       "      <th>porcentual</th>\n",
       "      <th>label</th>\n",
       "    </tr>\n",
       "  </thead>\n",
       "  <tbody>\n",
       "    <tr>\n",
       "      <td>0</td>\n",
       "      <td>A estrenar</td>\n",
       "      <td>50335</td>\n",
       "      <td>25.622948</td>\n",
       "      <td>25%</td>\n",
       "    </tr>\n",
       "    <tr>\n",
       "      <td>1</td>\n",
       "      <td>Menos de 5</td>\n",
       "      <td>30972</td>\n",
       "      <td>15.766245</td>\n",
       "      <td>15%</td>\n",
       "    </tr>\n",
       "    <tr>\n",
       "      <td>2</td>\n",
       "      <td>Entre 5 y 10</td>\n",
       "      <td>41966</td>\n",
       "      <td>21.362722</td>\n",
       "      <td>21%</td>\n",
       "    </tr>\n",
       "    <tr>\n",
       "      <td>3</td>\n",
       "      <td>Entre 10 y 15</td>\n",
       "      <td>32963</td>\n",
       "      <td>16.779760</td>\n",
       "      <td>16%</td>\n",
       "    </tr>\n",
       "    <tr>\n",
       "      <td>4</td>\n",
       "      <td>Entre 15 y 20</td>\n",
       "      <td>6413</td>\n",
       "      <td>3.264527</td>\n",
       "      <td>3%</td>\n",
       "    </tr>\n",
       "    <tr>\n",
       "      <td>5</td>\n",
       "      <td>Entre 20 y 25</td>\n",
       "      <td>21669</td>\n",
       "      <td>11.030568</td>\n",
       "      <td>11%</td>\n",
       "    </tr>\n",
       "    <tr>\n",
       "      <td>6</td>\n",
       "      <td>Entre 25 y 30</td>\n",
       "      <td>3577</td>\n",
       "      <td>1.820866</td>\n",
       "      <td>1%</td>\n",
       "    </tr>\n",
       "    <tr>\n",
       "      <td>7</td>\n",
       "      <td>Entre 30 y 35</td>\n",
       "      <td>3634</td>\n",
       "      <td>1.849882</td>\n",
       "      <td>1%</td>\n",
       "    </tr>\n",
       "    <tr>\n",
       "      <td>8</td>\n",
       "      <td>Entre 35 y 40</td>\n",
       "      <td>1330</td>\n",
       "      <td>0.677034</td>\n",
       "      <td>&lt;1%</td>\n",
       "    </tr>\n",
       "    <tr>\n",
       "      <td>9</td>\n",
       "      <td>Entre 40 y 45</td>\n",
       "      <td>1519</td>\n",
       "      <td>0.773244</td>\n",
       "      <td>&lt;1%</td>\n",
       "    </tr>\n",
       "    <tr>\n",
       "      <td>10</td>\n",
       "      <td>Entre 45 y 50</td>\n",
       "      <td>453</td>\n",
       "      <td>0.230599</td>\n",
       "      <td>&lt;1%</td>\n",
       "    </tr>\n",
       "    <tr>\n",
       "      <td>11</td>\n",
       "      <td>50 o más</td>\n",
       "      <td>1614</td>\n",
       "      <td>0.821604</td>\n",
       "      <td>&lt;1%</td>\n",
       "    </tr>\n",
       "  </tbody>\n",
       "</table>\n",
       "</div>"
      ],
      "text/plain": [
       "       antiguedad  cantidad  porcentual label\n",
       "0      A estrenar     50335   25.622948   25%\n",
       "1      Menos de 5     30972   15.766245   15%\n",
       "2    Entre 5 y 10     41966   21.362722   21%\n",
       "3   Entre 10 y 15     32963   16.779760   16%\n",
       "4   Entre 15 y 20      6413    3.264527    3%\n",
       "5   Entre 20 y 25     21669   11.030568   11%\n",
       "6   Entre 25 y 30      3577    1.820866    1%\n",
       "7   Entre 30 y 35      3634    1.849882    1%\n",
       "8   Entre 35 y 40      1330    0.677034   <1%\n",
       "9   Entre 40 y 45      1519    0.773244   <1%\n",
       "10  Entre 45 y 50       453    0.230599   <1%\n",
       "11       50 o más      1614    0.821604   <1%"
      ]
     },
     "execution_count": 37,
     "metadata": {},
     "output_type": "execute_result"
    }
   ],
   "source": [
    "p4"
   ]
  },
  {
   "cell_type": "code",
   "execution_count": 38,
   "metadata": {
    "scrolled": true
   },
   "outputs": [
    {
     "data": {
      "image/png": "[encoded data removed]",
      "text/plain": [
       "<Figure size 864x648 with 1 Axes>"
      ]
     },
     "metadata": {
      "needs_background": "light"
     },
     "output_type": "display_data"
    }
   ],
   "source": [
    "plt.rc('axes', axisbelow=True)\n",
    "plt.figure(figsize=(12,9))\n",
    "plt.ticklabel_format(style='plain')\n",
    "\n",
    "# plot\n",
    "ja = plt.bar(x=p4['antiguedad'], height=p4['porcentual'], color=[marron, azul, rojo, amarillo])\n",
    "\n",
    "plt.title('Distribución de propiedades según antiguedad (en años)', fontsize=22)\n",
    "plt.xlabel(\"Antiguedad [años]\", fontsize=18)\n",
    "plt.ylabel(\"Propiedades (%)\", fontsize=18)\n",
    "plt.xticks(rotation=20)\n",
    "plt.yticks(np.arange(0, 30, step=2))\n",
    "\n",
    "plt.grid(axis='both')\n",
    "plt.tick_params(colors=marron, grid_alpha=0.3, labelsize=12)\n",
    "\n",
    "\n",
    "\n",
    "# Make some labels.\n",
    "rectss = ja.patches\n",
    "\n",
    "i=0\n",
    "for rect in rectss:\n",
    "    height = rect.get_height()\n",
    "    labell = p4['label'][i]\n",
    "    i += 1\n",
    "    plt.text(rect.get_x() + rect.get_width() / 2, height, labell, ha='center', va='bottom',\n",
    "            color=marron, size=12)\n",
    "    \n",
    "\n",
    "plt.savefig(\"antiguedad.png\", transparent=True, bbox_inches='tight')\n",
    "\n",
    "\n"
   ]
  },
  {
   "cell_type": "markdown",
   "metadata": {},
   "source": [
    "<hr>\n",
    "\n",
    "### Cantidad de habitaciones"
   ]
  },
  {
   "cell_type": "code",
   "execution_count": 39,
   "metadata": {},
   "outputs": [],
   "source": [
    "p5 = df.copy()\n",
    "p5 = p5.loc[p5['habitaciones'] != -1]\n",
    "p5 = p5['habitaciones'].value_counts().to_frame().reset_index().rename(columns={'index':'habitaciones', 'habitaciones':'cantidad'})"
   ]
  },
  {
   "cell_type": "code",
   "execution_count": 40,
   "metadata": {},
   "outputs": [],
   "source": [
    "p5['habitaciones'] = p5['habitaciones'].map(lambda x: str(x) if x < 5 else '5 o más')"
   ]
  },
  {
   "cell_type": "code",
   "execution_count": 41,
   "metadata": {},
   "outputs": [],
   "source": [
    "p5 = p5.groupby('habitaciones').sum().reset_index()"
   ]
  },
  {
   "cell_type": "code",
   "execution_count": 42,
   "metadata": {},
   "outputs": [],
   "source": [
    "p5['porcentual'] = p5['cantidad'].map(lambda x: int((x/(p5['cantidad'].sum()))*100))"
   ]
  },
  {
   "cell_type": "code",
   "execution_count": null,
   "metadata": {},
   "outputs": [],
   "source": []
  },
  {
   "cell_type": "code",
   "execution_count": 43,
   "metadata": {},
   "outputs": [
    {
     "data": {
      "text/html": [
       "<div>\n",
       "<style scoped>\n",
       "    .dataframe tbody tr th:only-of-type {\n",
       "        vertical-align: middle;\n",
       "    }\n",
       "\n",
       "    .dataframe tbody tr th {\n",
       "        vertical-align: top;\n",
       "    }\n",
       "\n",
       "    .dataframe thead th {\n",
       "        text-align: right;\n",
       "    }\n",
       "</style>\n",
       "<table border=\"1\" class=\"dataframe\">\n",
       "  <thead>\n",
       "    <tr style=\"text-align: right;\">\n",
       "      <th></th>\n",
       "      <th>habitaciones</th>\n",
       "      <th>cantidad</th>\n",
       "      <th>porcentual</th>\n",
       "    </tr>\n",
       "  </thead>\n",
       "  <tbody>\n",
       "    <tr>\n",
       "      <td>0</td>\n",
       "      <td>1</td>\n",
       "      <td>5069</td>\n",
       "      <td>2</td>\n",
       "    </tr>\n",
       "    <tr>\n",
       "      <td>1</td>\n",
       "      <td>2</td>\n",
       "      <td>57808</td>\n",
       "      <td>26</td>\n",
       "    </tr>\n",
       "    <tr>\n",
       "      <td>2</td>\n",
       "      <td>3</td>\n",
       "      <td>121887</td>\n",
       "      <td>56</td>\n",
       "    </tr>\n",
       "    <tr>\n",
       "      <td>3</td>\n",
       "      <td>4</td>\n",
       "      <td>25068</td>\n",
       "      <td>11</td>\n",
       "    </tr>\n",
       "    <tr>\n",
       "      <td>4</td>\n",
       "      <td>5 o más</td>\n",
       "      <td>7697</td>\n",
       "      <td>3</td>\n",
       "    </tr>\n",
       "  </tbody>\n",
       "</table>\n",
       "</div>"
      ],
      "text/plain": [
       "  habitaciones  cantidad  porcentual\n",
       "0            1      5069           2\n",
       "1            2     57808          26\n",
       "2            3    121887          56\n",
       "3            4     25068          11\n",
       "4      5 o más      7697           3"
      ]
     },
     "execution_count": 43,
     "metadata": {},
     "output_type": "execute_result"
    }
   ],
   "source": [
    "p5"
   ]
  },
  {
   "cell_type": "code",
   "execution_count": 44,
   "metadata": {},
   "outputs": [],
   "source": [
    "p5['label'] = p5['habitaciones'] + \" \"\n",
    "p5['label'] += \"(\" + p5['porcentual'].map(lambda x: str(x)) + \"%)\""
   ]
  },
  {
   "cell_type": "code",
   "execution_count": 45,
   "metadata": {},
   "outputs": [
    {
     "data": {
      "image/png": "[encoded data removed]",
      "text/plain": [
       "<Figure size 576x576 with 1 Axes>"
      ]
     },
     "metadata": {},
     "output_type": "display_data"
    }
   ],
   "source": [
    "plt.figure(figsize=(8,8))\n",
    "\n",
    "my_circle=plt.Circle( (0,0), 0.5, color='white')\n",
    "\n",
    "plt.title('Distribución cantidad de habitaciones', fontsize=22)\n",
    "plt.pie(p5['porcentual'], labels=p5['label'], colors=[verde, amarillo, rojo, azul, marron],\n",
    "        explode=(0, 0, 0.03, 0, 0), startangle=140)\n",
    "\n",
    "p=plt.gcf()\n",
    "p.gca().add_artist(my_circle)\n",
    "\n",
    "plt.savefig('distribucion cantidad habitaciones.png', transparent=True, bbox_inches='tight')\n"
   ]
  },
  {
   "cell_type": "code",
   "execution_count": null,
   "metadata": {},
   "outputs": [],
   "source": []
  },
  {
   "cell_type": "code",
   "execution_count": null,
   "metadata": {},
   "outputs": [],
   "source": []
  },
  {
   "cell_type": "code",
   "execution_count": null,
   "metadata": {},
   "outputs": [],
   "source": []
  }
 ],
 "metadata": {
  "kernelspec": {
   "display_name": "Python 3",
   "language": "python",
   "name": "python3"
  },
  "language_info": {
   "codemirror_mode": {
    "name": "ipython",
    "version": 3
   },
   "file_extension": ".py",
   "mimetype": "text/x-python",
   "name": "python",
   "nbconvert_exporter": "python",
   "pygments_lexer": "ipython3",
   "version": "3.6.8"
  }
 },
 "nbformat": 4,
 "nbformat_minor": 2
}
