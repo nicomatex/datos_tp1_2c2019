{
 "cells": [
  {
   "cell_type": "markdown",
   "metadata": {},
   "source": [
    "# [TEMPLATE] DATASET DEPURADO"
   ]
  },
  {
   "cell_type": "code",
   "execution_count": 13,
   "metadata": {},
   "outputs": [],
   "source": [
    "import pandas as pd\n",
    "import numpy as np\n",
    "import matplotlib.pyplot as plt\n",
    "import seaborn as sns"
   ]
  },
  {
   "cell_type": "code",
   "execution_count": 14,
   "metadata": {},
   "outputs": [],
   "source": [
    "df = pd.read_csv('./data/train.csv', dtype={'id':'uint32', 'provincia':'category',\n",
    "                                            'tipodepropiedad':'category', 'gimnasio':'bool',\n",
    "                                            'usosmultiples':'bool', 'piscina':'bool', 'escuelascercanas':'bool',\n",
    "                                            'centroscomercialescercanos':'bool'})\n",
    "\n",
    "# OJO, debe tener el archivo train.csv en la carpeta data."
   ]
  },
  {
   "cell_type": "code",
   "execution_count": 15,
   "metadata": {},
   "outputs": [],
   "source": [
    "df['antiguedad'] = df['antiguedad'].fillna(-1)\n",
    "df['antiguedad'] = df['antiguedad'].astype(np.int8)\n",
    "df['habitaciones'] = df['habitaciones'].fillna(-1)\n",
    "df['habitaciones'] = df['habitaciones'].astype(np.int8)\n",
    "df['garages'] = df['garages'].fillna(-1)\n",
    "df['garages'] = df['garages'].astype(np.int8)\n",
    "df['banos'] = df['banos'].fillna(-1)\n",
    "df['banos'] = df['banos'].astype(np.int8)\n",
    "df['idzona'] = df['idzona'].fillna(-1)\n",
    "df['idzona'] = df['idzona'].astype(np.int32)\n",
    "df['metroscubiertos'] = df['metroscubiertos'].fillna(-1)\n",
    "df['metroscubiertos'] = df['metroscubiertos'].astype(np.int16)\n",
    "df['metrostotales'] = df['metrostotales'].fillna(-1)\n",
    "df['metrostotales'] = df['metrostotales'].astype(np.int16)\n",
    "df['precio'] = df['precio'].astype(np.uint32)\n",
    "df['fecha'] = pd.to_datetime(df['fecha'])\n",
    "\n",
    "# OJO, los valores \"-1\" representan nulls."
   ]
  },
  {
   "cell_type": "code",
   "execution_count": 88,
   "metadata": {},
   "outputs": [],
   "source": [
    "# Colores a utilizar\n",
    "\n",
    "amarillo = '#FCAA67'\n",
    "rojo = '#B0413E'\n",
    "verde = '#FFFFC7'\n",
    "azul = '#548687'\n",
    "marron = '#473335'\n",
    "otro = '#FAEFBF'"
   ]
  },
  {
   "cell_type": "markdown",
   "metadata": {},
   "source": [
    "<hr>"
   ]
  },
  {
   "cell_type": "markdown",
   "metadata": {},
   "source": [
    "# Analisis de las diferentes distribuciones de las variables"
   ]
  },
  {
   "cell_type": "code",
   "execution_count": 17,
   "metadata": {},
   "outputs": [
    {
     "data": {
      "text/plain": [
       "Index(['id', 'titulo', 'descripcion', 'tipodepropiedad', 'direccion', 'ciudad',\n",
       "       'provincia', 'antiguedad', 'habitaciones', 'garages', 'banos',\n",
       "       'metroscubiertos', 'metrostotales', 'idzona', 'lat', 'lng', 'fecha',\n",
       "       'gimnasio', 'usosmultiples', 'piscina', 'escuelascercanas',\n",
       "       'centroscomercialescercanos', 'precio'],\n",
       "      dtype='object')"
      ]
     },
     "execution_count": 17,
     "metadata": {},
     "output_type": "execute_result"
    }
   ],
   "source": [
    "df.columns"
   ]
  },
  {
   "cell_type": "code",
   "execution_count": 18,
   "metadata": {},
   "outputs": [],
   "source": [
    "df = df[['tipodepropiedad', 'ciudad', 'provincia', 'antiguedad', 'habitaciones', 'garages', 'banos',\n",
    "         'metroscubiertos', 'metrostotales', 'fecha', 'gimnasio', 'usosmultiples', 'piscina', 'escuelascercanas',\n",
    "         'centroscomercialescercanos', 'precio']]"
   ]
  },
  {
   "cell_type": "markdown",
   "metadata": {},
   "source": [
    "### Distribucion segun tipo de propiedad"
   ]
  },
  {
   "cell_type": "code",
   "execution_count": 161,
   "metadata": {},
   "outputs": [],
   "source": [
    "p1 = df.copy()\n",
    "p1 = p1[['tipodepropiedad']]\n",
    "conservar = ['Casa', 'Apartamento', 'Casa en condominio', 'Terreno']\n",
    "p1['tipodepropiedad'] = p1['tipodepropiedad'].map(lambda x: x if x in conservar else 'Otros')\n",
    "p1 = p1['tipodepropiedad'].value_counts(normalize=True).map(lambda x: round(x*100)).to_frame()\\\n",
    "    .reset_index().rename(columns={'index':'tipodepropiedad','tipodepropiedad':'porcentual'})"
   ]
  },
  {
   "cell_type": "code",
   "execution_count": 162,
   "metadata": {},
   "outputs": [
    {
     "data": {
      "text/html": [
       "<div>\n",
       "<style scoped>\n",
       "    .dataframe tbody tr th:only-of-type {\n",
       "        vertical-align: middle;\n",
       "    }\n",
       "\n",
       "    .dataframe tbody tr th {\n",
       "        vertical-align: top;\n",
       "    }\n",
       "\n",
       "    .dataframe thead th {\n",
       "        text-align: right;\n",
       "    }\n",
       "</style>\n",
       "<table border=\"1\" class=\"dataframe\">\n",
       "  <thead>\n",
       "    <tr style=\"text-align: right;\">\n",
       "      <th></th>\n",
       "      <th>tipodepropiedad</th>\n",
       "      <th>porcentual</th>\n",
       "    </tr>\n",
       "  </thead>\n",
       "  <tbody>\n",
       "    <tr>\n",
       "      <td>0</td>\n",
       "      <td>Casa</td>\n",
       "      <td>59</td>\n",
       "    </tr>\n",
       "    <tr>\n",
       "      <td>1</td>\n",
       "      <td>Apartamento</td>\n",
       "      <td>24</td>\n",
       "    </tr>\n",
       "    <tr>\n",
       "      <td>2</td>\n",
       "      <td>Casa en condominio</td>\n",
       "      <td>8</td>\n",
       "    </tr>\n",
       "    <tr>\n",
       "      <td>3</td>\n",
       "      <td>Otros</td>\n",
       "      <td>5</td>\n",
       "    </tr>\n",
       "    <tr>\n",
       "      <td>4</td>\n",
       "      <td>Terreno</td>\n",
       "      <td>4</td>\n",
       "    </tr>\n",
       "  </tbody>\n",
       "</table>\n",
       "</div>"
      ],
      "text/plain": [
       "      tipodepropiedad  porcentual\n",
       "0                Casa          59\n",
       "1         Apartamento          24\n",
       "2  Casa en condominio           8\n",
       "3               Otros           5\n",
       "4             Terreno           4"
      ]
     },
     "execution_count": 162,
     "metadata": {},
     "output_type": "execute_result"
    }
   ],
   "source": [
    "p1.head()"
   ]
  },
  {
   "cell_type": "code",
   "execution_count": 163,
   "metadata": {},
   "outputs": [],
   "source": [
    "p1['label'] = p1['tipodepropiedad'] + \" \"\n",
    "p1['label'] += \"(\" + p1['porcentual'].map(lambda x: str(x)) + \"%)\""
   ]
  },
  {
   "cell_type": "code",
   "execution_count": 225,
   "metadata": {
    "scrolled": true
   },
   "outputs": [
    {
     "data": {
      "image/png": "[encoded data removed]",
      "text/plain": [
       "<Figure size 648x432 with 1 Axes>"
      ]
     },
     "metadata": {
      "needs_background": "light"
     },
     "output_type": "display_data"
    }
   ],
   "source": [
    "\n",
    "plt.figure(figsize=(9,6))\n",
    "squarify.plot(sizes=p1['porcentual'], label=p1['label'],\n",
    "              color=[verde, rojo, azul, marron, amarillo], edgecolor=marron)\n",
    "plt.title('Distribución de tipos de propiedad', fontsize=14, c=marron)\n",
    "plt.axis('off')\n",
    "\n",
    "plt.savefig('distribucion tipos propiedad 2.png', transparent=True, bbox_inches='tight')"
   ]
  },
  {
   "cell_type": "markdown",
   "metadata": {},
   "source": [
    "### Distribucion segun provincia"
   ]
  },
  {
   "cell_type": "code",
   "execution_count": 231,
   "metadata": {},
   "outputs": [],
   "source": [
    "p2 = df.copy()\n",
    "p2 = p2[['tipodepropiedad']]\n",
    "conservar = ['Casa', 'Apartamento', 'Casa en condominio', 'Terreno', 'Edificio', 'Local Comercial', 'Oficina comercial']\n",
    "p2['tipodepropiedad'] = p2['tipodepropiedad'].map(lambda x: x if x in conservar else 'Otros')\n",
    "p2 = p2['tipodepropiedad'].value_counts(normalize=True).map(lambda x: round(x*100)).to_frame()\\\n",
    "    .reset_index().rename(columns={'index':'tipodepropiedad','tipodepropiedad':'porcentual'})"
   ]
  },
  {
   "cell_type": "code",
   "execution_count": 232,
   "metadata": {},
   "outputs": [],
   "source": [
    "p2['label'] = p2['tipodepropiedad'] + \" \"\n",
    "p2['label'] += \"(\" + p2['porcentual'].map(lambda x: str(x)) + \"%)\""
   ]
  },
  {
   "cell_type": "code",
   "execution_count": 233,
   "metadata": {
    "scrolled": true
   },
   "outputs": [
    {
     "data": {
      "text/html": [
       "<div>\n",
       "<style scoped>\n",
       "    .dataframe tbody tr th:only-of-type {\n",
       "        vertical-align: middle;\n",
       "    }\n",
       "\n",
       "    .dataframe tbody tr th {\n",
       "        vertical-align: top;\n",
       "    }\n",
       "\n",
       "    .dataframe thead th {\n",
       "        text-align: right;\n",
       "    }\n",
       "</style>\n",
       "<table border=\"1\" class=\"dataframe\">\n",
       "  <thead>\n",
       "    <tr style=\"text-align: right;\">\n",
       "      <th></th>\n",
       "      <th>tipodepropiedad</th>\n",
       "      <th>porcentual</th>\n",
       "      <th>label</th>\n",
       "    </tr>\n",
       "  </thead>\n",
       "  <tbody>\n",
       "    <tr>\n",
       "      <td>0</td>\n",
       "      <td>Casa</td>\n",
       "      <td>59</td>\n",
       "      <td>Casa (59%)</td>\n",
       "    </tr>\n",
       "    <tr>\n",
       "      <td>1</td>\n",
       "      <td>Apartamento</td>\n",
       "      <td>24</td>\n",
       "      <td>Apartamento (24%)</td>\n",
       "    </tr>\n",
       "    <tr>\n",
       "      <td>2</td>\n",
       "      <td>Casa en condominio</td>\n",
       "      <td>8</td>\n",
       "      <td>Casa en condominio (8%)</td>\n",
       "    </tr>\n",
       "    <tr>\n",
       "      <td>3</td>\n",
       "      <td>Terreno</td>\n",
       "      <td>4</td>\n",
       "      <td>Terreno (4%)</td>\n",
       "    </tr>\n",
       "    <tr>\n",
       "      <td>4</td>\n",
       "      <td>Otros</td>\n",
       "      <td>2</td>\n",
       "      <td>Otros (2%)</td>\n",
       "    </tr>\n",
       "    <tr>\n",
       "      <td>5</td>\n",
       "      <td>Local Comercial</td>\n",
       "      <td>1</td>\n",
       "      <td>Local Comercial (1%)</td>\n",
       "    </tr>\n",
       "    <tr>\n",
       "      <td>6</td>\n",
       "      <td>Oficina comercial</td>\n",
       "      <td>1</td>\n",
       "      <td>Oficina comercial (1%)</td>\n",
       "    </tr>\n",
       "    <tr>\n",
       "      <td>7</td>\n",
       "      <td>Edificio</td>\n",
       "      <td>1</td>\n",
       "      <td>Edificio (1%)</td>\n",
       "    </tr>\n",
       "  </tbody>\n",
       "</table>\n",
       "</div>"
      ],
      "text/plain": [
       "      tipodepropiedad  porcentual                    label\n",
       "0                Casa          59               Casa (59%)\n",
       "1         Apartamento          24        Apartamento (24%)\n",
       "2  Casa en condominio           8  Casa en condominio (8%)\n",
       "3             Terreno           4             Terreno (4%)\n",
       "4               Otros           2               Otros (2%)\n",
       "5     Local Comercial           1     Local Comercial (1%)\n",
       "6   Oficina comercial           1   Oficina comercial (1%)\n",
       "7            Edificio           1            Edificio (1%)"
      ]
     },
     "execution_count": 233,
     "metadata": {},
     "output_type": "execute_result"
    }
   ],
   "source": [
    "p2"
   ]
  },
  {
   "cell_type": "code",
   "execution_count": 234,
   "metadata": {},
   "outputs": [
    {
     "data": {
      "image/png": "[encoded data removed]",
      "text/plain": [
       "<Figure size 576x576 with 1 Axes>"
      ]
     },
     "metadata": {},
     "output_type": "display_data"
    }
   ],
   "source": [
    "plt.figure(figsize=(8,8))\n",
    "\n",
    "\n",
    "my_circle=plt.Circle( (0,0), 0.5, color='white')\n",
    "\n",
    "plt.pie(p2['porcentual'], labels=p2['label'], colors=[marron, azul, rojo, amarillo, verde])\n",
    "p=plt.gcf()\n",
    "p.gca().add_artist(my_circle)\n",
    "\n",
    "plt.savefig('distribucion tipos propiedad.png', transparent=True, bbox_inches='tight')\n"
   ]
  },
  {
   "cell_type": "code",
   "execution_count": null,
   "metadata": {},
   "outputs": [],
   "source": []
  },
  {
   "cell_type": "code",
   "execution_count": null,
   "metadata": {},
   "outputs": [],
   "source": []
  }
 ],
 "metadata": {
  "kernelspec": {
   "display_name": "Python 3",
   "language": "python",
   "name": "python3"
  },
  "language_info": {
   "codemirror_mode": {
    "name": "ipython",
    "version": 3
   },
   "file_extension": ".py",
   "mimetype": "text/x-python",
   "name": "python",
   "nbconvert_exporter": "python",
   "pygments_lexer": "ipython3",
   "version": "3.6.8"
  }
 },
 "nbformat": 4,
 "nbformat_minor": 2
}
