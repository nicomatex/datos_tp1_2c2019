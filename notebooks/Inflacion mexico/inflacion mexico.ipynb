{
 "cells": [
  {
   "cell_type": "markdown",
   "metadata": {},
   "source": [
    "# [TEMPLATE] DATASET DEPURADO"
   ]
  },
  {
   "cell_type": "code",
   "execution_count": 251,
   "metadata": {},
   "outputs": [],
   "source": [
    "import pandas as pd\n",
    "import numpy as np\n",
    "import matplotlib.pyplot as plt\n",
    "import seaborn as sns"
   ]
  },
  {
   "cell_type": "code",
   "execution_count": 252,
   "metadata": {},
   "outputs": [],
   "source": [
    "df = pd.read_csv('./data/train.csv', dtype={'id':'uint32', 'provincia':'category',\n",
    "                                            'tipodepropiedad':'category', 'gimnasio':'bool',\n",
    "                                            'usosmultiples':'bool', 'piscina':'bool', 'escuelascercanas':'bool',\n",
    "                                            'centroscomercialescercanos':'bool'})\n",
    "\n",
    "# OJO, debe tener el archivo train.csv en la carpeta data."
   ]
  },
  {
   "cell_type": "code",
   "execution_count": 253,
   "metadata": {},
   "outputs": [],
   "source": [
    "df['antiguedad'] = df['antiguedad'].fillna(-1)\n",
    "df['antiguedad'] = df['antiguedad'].astype(np.int8)\n",
    "df['habitaciones'] = df['habitaciones'].fillna(-1)\n",
    "df['habitaciones'] = df['habitaciones'].astype(np.int8)\n",
    "df['garages'] = df['garages'].fillna(-1)\n",
    "df['garages'] = df['garages'].astype(np.int8)\n",
    "df['banos'] = df['banos'].fillna(-1)\n",
    "df['banos'] = df['banos'].astype(np.int8)\n",
    "df['idzona'] = df['idzona'].fillna(-1)\n",
    "df['idzona'] = df['idzona'].astype(np.int32)\n",
    "df['metroscubiertos'] = df['metroscubiertos'].fillna(-1)\n",
    "df['metroscubiertos'] = df['metroscubiertos'].astype(np.int16)\n",
    "df['metrostotales'] = df['metrostotales'].fillna(-1)\n",
    "df['metrostotales'] = df['metrostotales'].astype(np.int16)\n",
    "df['precio'] = df['precio'].astype(np.uint32)\n",
    "#df['fecha'] = pd.to_datetime(df['fecha'])\n",
    "\n",
    "# OJO, los valores \"-1\" representan nulls."
   ]
  },
  {
   "cell_type": "code",
   "execution_count": 254,
   "metadata": {},
   "outputs": [],
   "source": [
    "# Colores a utilizar\n",
    "\n",
    "amarillo = '#FCAA67'\n",
    "rojo = '#B0413E'\n",
    "verde = '#FFFFC7'\n",
    "azul = '#548687'\n",
    "marron = '#473335'"
   ]
  },
  {
   "cell_type": "markdown",
   "metadata": {},
   "source": [
    "<hr>"
   ]
  },
  {
   "cell_type": "markdown",
   "metadata": {},
   "source": [
    "# Distribucion del precio del metro cuadrado"
   ]
  },
  {
   "cell_type": "code",
   "execution_count": 255,
   "metadata": {},
   "outputs": [
    {
     "data": {
      "text/plain": [
       "Index(['id', 'titulo', 'descripcion', 'tipodepropiedad', 'direccion', 'ciudad',\n",
       "       'provincia', 'antiguedad', 'habitaciones', 'garages', 'banos',\n",
       "       'metroscubiertos', 'metrostotales', 'idzona', 'lat', 'lng', 'fecha',\n",
       "       'gimnasio', 'usosmultiples', 'piscina', 'escuelascercanas',\n",
       "       'centroscomercialescercanos', 'precio'],\n",
       "      dtype='object')"
      ]
     },
     "execution_count": 255,
     "metadata": {},
     "output_type": "execute_result"
    }
   ],
   "source": [
    "df.columns"
   ]
  },
  {
   "cell_type": "code",
   "execution_count": 256,
   "metadata": {},
   "outputs": [],
   "source": [
    "#Nos quedamos con las columnas que nos interesan.\n",
    "df = df[['fecha', 'tipodepropiedad', 'ciudad', 'provincia', 'antiguedad', 'habitaciones', 'metroscubiertos', 'metrostotales', 'precio']]"
   ]
  },
  {
   "cell_type": "code",
   "execution_count": 257,
   "metadata": {},
   "outputs": [],
   "source": [
    "# Para calcular el precio por metro cuadrado necesitamos que los datos de metros totales sean coherente\n",
    "# y no sean nulos:"
   ]
  },
  {
   "cell_type": "code",
   "execution_count": 258,
   "metadata": {},
   "outputs": [
    {
     "data": {
      "text/plain": [
       "True     188533\n",
       "False     51467\n",
       "Name: metrostotales, dtype: int64"
      ]
     },
     "execution_count": 258,
     "metadata": {},
     "output_type": "execute_result"
    }
   ],
   "source": [
    "(df['metrostotales'] != -1).value_counts()"
   ]
  },
  {
   "cell_type": "code",
   "execution_count": 259,
   "metadata": {},
   "outputs": [
    {
     "data": {
      "text/plain": [
       "True     222600\n",
       "False     17400\n",
       "Name: metroscubiertos, dtype: int64"
      ]
     },
     "execution_count": 259,
     "metadata": {},
     "output_type": "execute_result"
    }
   ],
   "source": [
    "(df['metroscubiertos'] != -1).value_counts()"
   ]
  },
  {
   "cell_type": "code",
   "execution_count": 260,
   "metadata": {},
   "outputs": [],
   "source": [
    "# Vemos que tenemos un gran indice de valores nulos en cuanto a metros totales, esto puede deberse a que\n",
    "# muchas publicaciones tienen la cantidad de metros totales en donde deberian ir los cubiertos."
   ]
  },
  {
   "cell_type": "code",
   "execution_count": 261,
   "metadata": {},
   "outputs": [],
   "source": [
    "df = df.loc[(df['metroscubiertos'] != -1) & (df['metrostotales'] != -1)]"
   ]
  },
  {
   "cell_type": "code",
   "execution_count": 262,
   "metadata": {},
   "outputs": [
    {
     "data": {
      "text/html": [
       "<div>\n",
       "<style scoped>\n",
       "    .dataframe tbody tr th:only-of-type {\n",
       "        vertical-align: middle;\n",
       "    }\n",
       "\n",
       "    .dataframe tbody tr th {\n",
       "        vertical-align: top;\n",
       "    }\n",
       "\n",
       "    .dataframe thead th {\n",
       "        text-align: right;\n",
       "    }\n",
       "</style>\n",
       "<table border=\"1\" class=\"dataframe\">\n",
       "  <thead>\n",
       "    <tr style=\"text-align: right;\">\n",
       "      <th></th>\n",
       "      <th>fecha</th>\n",
       "      <th>tipodepropiedad</th>\n",
       "      <th>ciudad</th>\n",
       "      <th>provincia</th>\n",
       "      <th>antiguedad</th>\n",
       "      <th>habitaciones</th>\n",
       "      <th>metroscubiertos</th>\n",
       "      <th>metrostotales</th>\n",
       "      <th>precio</th>\n",
       "    </tr>\n",
       "  </thead>\n",
       "  <tbody>\n",
       "    <tr>\n",
       "      <td>1</td>\n",
       "      <td>2013-06-28 00:00:00</td>\n",
       "      <td>Casa en condominio</td>\n",
       "      <td>La Magdalena Contreras</td>\n",
       "      <td>Distrito Federal</td>\n",
       "      <td>10</td>\n",
       "      <td>3</td>\n",
       "      <td>268</td>\n",
       "      <td>180</td>\n",
       "      <td>3600000</td>\n",
       "    </tr>\n",
       "    <tr>\n",
       "      <td>12</td>\n",
       "      <td>2013-08-12 00:00:00</td>\n",
       "      <td>Casa</td>\n",
       "      <td>Querétaro</td>\n",
       "      <td>Querétaro</td>\n",
       "      <td>0</td>\n",
       "      <td>3</td>\n",
       "      <td>170</td>\n",
       "      <td>141</td>\n",
       "      <td>1500000</td>\n",
       "    </tr>\n",
       "    <tr>\n",
       "      <td>13</td>\n",
       "      <td>2015-03-31 00:00:00</td>\n",
       "      <td>Casa</td>\n",
       "      <td>Benito Juárez</td>\n",
       "      <td>Distrito Federal</td>\n",
       "      <td>20</td>\n",
       "      <td>-1</td>\n",
       "      <td>227</td>\n",
       "      <td>185</td>\n",
       "      <td>3000000</td>\n",
       "    </tr>\n",
       "    <tr>\n",
       "      <td>14</td>\n",
       "      <td>2014-11-25 00:00:00</td>\n",
       "      <td>Casa</td>\n",
       "      <td>Zapopan</td>\n",
       "      <td>Jalisco</td>\n",
       "      <td>-1</td>\n",
       "      <td>-1</td>\n",
       "      <td>250</td>\n",
       "      <td>231</td>\n",
       "      <td>5300000</td>\n",
       "    </tr>\n",
       "    <tr>\n",
       "      <td>21</td>\n",
       "      <td>2016-02-01 00:00:00</td>\n",
       "      <td>Casa en condominio</td>\n",
       "      <td>Querétaro</td>\n",
       "      <td>Querétaro</td>\n",
       "      <td>-1</td>\n",
       "      <td>3</td>\n",
       "      <td>181</td>\n",
       "      <td>150</td>\n",
       "      <td>2300000</td>\n",
       "    </tr>\n",
       "    <tr>\n",
       "      <td>...</td>\n",
       "      <td>...</td>\n",
       "      <td>...</td>\n",
       "      <td>...</td>\n",
       "      <td>...</td>\n",
       "      <td>...</td>\n",
       "      <td>...</td>\n",
       "      <td>...</td>\n",
       "      <td>...</td>\n",
       "      <td>...</td>\n",
       "    </tr>\n",
       "    <tr>\n",
       "      <td>239979</td>\n",
       "      <td>2016-03-04 00:00:00</td>\n",
       "      <td>Casa</td>\n",
       "      <td>Miguel Hidalgo</td>\n",
       "      <td>Distrito Federal</td>\n",
       "      <td>10</td>\n",
       "      <td>3</td>\n",
       "      <td>198</td>\n",
       "      <td>122</td>\n",
       "      <td>3300000</td>\n",
       "    </tr>\n",
       "    <tr>\n",
       "      <td>239983</td>\n",
       "      <td>2016-02-09 00:00:00</td>\n",
       "      <td>Casa</td>\n",
       "      <td>San Luis Potosí</td>\n",
       "      <td>San luis Potosí</td>\n",
       "      <td>-1</td>\n",
       "      <td>3</td>\n",
       "      <td>119</td>\n",
       "      <td>59</td>\n",
       "      <td>684338</td>\n",
       "    </tr>\n",
       "    <tr>\n",
       "      <td>239985</td>\n",
       "      <td>2016-12-07 00:00:00</td>\n",
       "      <td>Casa en condominio</td>\n",
       "      <td>Atizapán de Zaragoza</td>\n",
       "      <td>Edo. de México</td>\n",
       "      <td>10</td>\n",
       "      <td>3</td>\n",
       "      <td>145</td>\n",
       "      <td>87</td>\n",
       "      <td>2700000</td>\n",
       "    </tr>\n",
       "    <tr>\n",
       "      <td>239994</td>\n",
       "      <td>2013-07-31 00:00:00</td>\n",
       "      <td>Casa</td>\n",
       "      <td>Zapopan</td>\n",
       "      <td>Jalisco</td>\n",
       "      <td>3</td>\n",
       "      <td>2</td>\n",
       "      <td>160</td>\n",
       "      <td>90</td>\n",
       "      <td>1350000</td>\n",
       "    </tr>\n",
       "    <tr>\n",
       "      <td>239998</td>\n",
       "      <td>2014-12-26 00:00:00</td>\n",
       "      <td>Casa</td>\n",
       "      <td>Iztapalapa</td>\n",
       "      <td>Distrito Federal</td>\n",
       "      <td>20</td>\n",
       "      <td>4</td>\n",
       "      <td>235</td>\n",
       "      <td>137</td>\n",
       "      <td>2890000</td>\n",
       "    </tr>\n",
       "  </tbody>\n",
       "</table>\n",
       "<p>70295 rows × 9 columns</p>\n",
       "</div>"
      ],
      "text/plain": [
       "                      fecha     tipodepropiedad                  ciudad  \\\n",
       "1       2013-06-28 00:00:00  Casa en condominio  La Magdalena Contreras   \n",
       "12      2013-08-12 00:00:00                Casa               Querétaro   \n",
       "13      2015-03-31 00:00:00                Casa           Benito Juárez   \n",
       "14      2014-11-25 00:00:00                Casa                 Zapopan   \n",
       "21      2016-02-01 00:00:00  Casa en condominio               Querétaro   \n",
       "...                     ...                 ...                     ...   \n",
       "239979  2016-03-04 00:00:00                Casa          Miguel Hidalgo   \n",
       "239983  2016-02-09 00:00:00                Casa         San Luis Potosí   \n",
       "239985  2016-12-07 00:00:00  Casa en condominio    Atizapán de Zaragoza   \n",
       "239994  2013-07-31 00:00:00                Casa                 Zapopan   \n",
       "239998  2014-12-26 00:00:00                Casa              Iztapalapa   \n",
       "\n",
       "               provincia  antiguedad  habitaciones  metroscubiertos  \\\n",
       "1       Distrito Federal          10             3              268   \n",
       "12             Querétaro           0             3              170   \n",
       "13      Distrito Federal          20            -1              227   \n",
       "14               Jalisco          -1            -1              250   \n",
       "21             Querétaro          -1             3              181   \n",
       "...                  ...         ...           ...              ...   \n",
       "239979  Distrito Federal          10             3              198   \n",
       "239983   San luis Potosí          -1             3              119   \n",
       "239985    Edo. de México          10             3              145   \n",
       "239994           Jalisco           3             2              160   \n",
       "239998  Distrito Federal          20             4              235   \n",
       "\n",
       "        metrostotales   precio  \n",
       "1                 180  3600000  \n",
       "12                141  1500000  \n",
       "13                185  3000000  \n",
       "14                231  5300000  \n",
       "21                150  2300000  \n",
       "...               ...      ...  \n",
       "239979            122  3300000  \n",
       "239983             59   684338  \n",
       "239985             87  2700000  \n",
       "239994             90  1350000  \n",
       "239998            137  2890000  \n",
       "\n",
       "[70295 rows x 9 columns]"
      ]
     },
     "execution_count": 262,
     "metadata": {},
     "output_type": "execute_result"
    }
   ],
   "source": [
    "df.loc[(df['metroscubiertos'] > df['metrostotales'])]"
   ]
  },
  {
   "cell_type": "code",
   "execution_count": 263,
   "metadata": {},
   "outputs": [],
   "source": [
    "# Como vemos, tenemos muchisimos datos en lo que los metros cubiertos son mayores a los totales, cosa que \n",
    "# no tiene ningun sentido. Lamentablemente, para no tomar ninguna hipotesis erronea, deberemos eliminarlos y\n",
    "# trabajar con los datos cargados correctamente."
   ]
  },
  {
   "cell_type": "code",
   "execution_count": 264,
   "metadata": {},
   "outputs": [],
   "source": [
    "df = df.loc[(df['metroscubiertos'] <=df['metrostotales'])]"
   ]
  },
  {
   "cell_type": "code",
   "execution_count": 265,
   "metadata": {},
   "outputs": [
    {
     "data": {
      "text/plain": [
       "(100838, 9)"
      ]
     },
     "execution_count": 265,
     "metadata": {},
     "output_type": "execute_result"
    }
   ],
   "source": [
    "df.shape"
   ]
  },
  {
   "cell_type": "code",
   "execution_count": 266,
   "metadata": {},
   "outputs": [],
   "source": [
    "mt = 'precio metro cuadrado'\n",
    "mtp = 'precio promedio metro cuadrado'\n",
    "df[mt] = (df['precio'])/(df['metrostotales'])"
   ]
  },
  {
   "cell_type": "code",
   "execution_count": 267,
   "metadata": {},
   "outputs": [
    {
     "data": {
      "text/html": [
       "<div>\n",
       "<style scoped>\n",
       "    .dataframe tbody tr th:only-of-type {\n",
       "        vertical-align: middle;\n",
       "    }\n",
       "\n",
       "    .dataframe tbody tr th {\n",
       "        vertical-align: top;\n",
       "    }\n",
       "\n",
       "    .dataframe thead th {\n",
       "        text-align: right;\n",
       "    }\n",
       "</style>\n",
       "<table border=\"1\" class=\"dataframe\">\n",
       "  <thead>\n",
       "    <tr style=\"text-align: right;\">\n",
       "      <th></th>\n",
       "      <th>fecha</th>\n",
       "      <th>tipodepropiedad</th>\n",
       "      <th>ciudad</th>\n",
       "      <th>provincia</th>\n",
       "      <th>antiguedad</th>\n",
       "      <th>habitaciones</th>\n",
       "      <th>metroscubiertos</th>\n",
       "      <th>metrostotales</th>\n",
       "      <th>precio</th>\n",
       "      <th>precio metro cuadrado</th>\n",
       "    </tr>\n",
       "  </thead>\n",
       "  <tbody>\n",
       "    <tr>\n",
       "      <td>0</td>\n",
       "      <td>2015-08-23 00:00:00</td>\n",
       "      <td>Apartamento</td>\n",
       "      <td>Benito Juárez</td>\n",
       "      <td>Distrito Federal</td>\n",
       "      <td>-1</td>\n",
       "      <td>2</td>\n",
       "      <td>80</td>\n",
       "      <td>80</td>\n",
       "      <td>2273000</td>\n",
       "      <td>28412.500000</td>\n",
       "    </tr>\n",
       "    <tr>\n",
       "      <td>2</td>\n",
       "      <td>2015-10-17 00:00:00</td>\n",
       "      <td>Casa</td>\n",
       "      <td>Tonalá</td>\n",
       "      <td>Jalisco</td>\n",
       "      <td>5</td>\n",
       "      <td>3</td>\n",
       "      <td>144</td>\n",
       "      <td>166</td>\n",
       "      <td>1200000</td>\n",
       "      <td>7228.915663</td>\n",
       "    </tr>\n",
       "    <tr>\n",
       "      <td>3</td>\n",
       "      <td>2012-03-09 00:00:00</td>\n",
       "      <td>Casa</td>\n",
       "      <td>Zinacantepec</td>\n",
       "      <td>Edo. de México</td>\n",
       "      <td>1</td>\n",
       "      <td>2</td>\n",
       "      <td>63</td>\n",
       "      <td>67</td>\n",
       "      <td>650000</td>\n",
       "      <td>9701.492537</td>\n",
       "    </tr>\n",
       "    <tr>\n",
       "      <td>4</td>\n",
       "      <td>2016-06-07 00:00:00</td>\n",
       "      <td>Apartamento</td>\n",
       "      <td>Zapopan</td>\n",
       "      <td>Jalisco</td>\n",
       "      <td>10</td>\n",
       "      <td>2</td>\n",
       "      <td>95</td>\n",
       "      <td>95</td>\n",
       "      <td>1150000</td>\n",
       "      <td>12105.263158</td>\n",
       "    </tr>\n",
       "    <tr>\n",
       "      <td>5</td>\n",
       "      <td>2014-03-18 00:00:00</td>\n",
       "      <td>Apartamento</td>\n",
       "      <td>Coyoacán</td>\n",
       "      <td>Distrito Federal</td>\n",
       "      <td>5</td>\n",
       "      <td>2</td>\n",
       "      <td>75</td>\n",
       "      <td>90</td>\n",
       "      <td>1100000</td>\n",
       "      <td>12222.222222</td>\n",
       "    </tr>\n",
       "    <tr>\n",
       "      <td>...</td>\n",
       "      <td>...</td>\n",
       "      <td>...</td>\n",
       "      <td>...</td>\n",
       "      <td>...</td>\n",
       "      <td>...</td>\n",
       "      <td>...</td>\n",
       "      <td>...</td>\n",
       "      <td>...</td>\n",
       "      <td>...</td>\n",
       "      <td>...</td>\n",
       "    </tr>\n",
       "    <tr>\n",
       "      <td>239991</td>\n",
       "      <td>2015-03-14 00:00:00</td>\n",
       "      <td>Apartamento</td>\n",
       "      <td>Iztacalco</td>\n",
       "      <td>Distrito Federal</td>\n",
       "      <td>20</td>\n",
       "      <td>2</td>\n",
       "      <td>68</td>\n",
       "      <td>68</td>\n",
       "      <td>1450000</td>\n",
       "      <td>21323.529412</td>\n",
       "    </tr>\n",
       "    <tr>\n",
       "      <td>239992</td>\n",
       "      <td>2015-11-23 00:00:00</td>\n",
       "      <td>Casa en condominio</td>\n",
       "      <td>Huixquilucan</td>\n",
       "      <td>Edo. de México</td>\n",
       "      <td>10</td>\n",
       "      <td>3</td>\n",
       "      <td>270</td>\n",
       "      <td>293</td>\n",
       "      <td>5500000</td>\n",
       "      <td>18771.331058</td>\n",
       "    </tr>\n",
       "    <tr>\n",
       "      <td>239993</td>\n",
       "      <td>2015-03-22 00:00:00</td>\n",
       "      <td>Casa</td>\n",
       "      <td>Zapopan</td>\n",
       "      <td>Jalisco</td>\n",
       "      <td>1</td>\n",
       "      <td>3</td>\n",
       "      <td>150</td>\n",
       "      <td>150</td>\n",
       "      <td>1650000</td>\n",
       "      <td>11000.000000</td>\n",
       "    </tr>\n",
       "    <tr>\n",
       "      <td>239996</td>\n",
       "      <td>2014-07-10 00:00:00</td>\n",
       "      <td>Casa</td>\n",
       "      <td>Toluca</td>\n",
       "      <td>Edo. de México</td>\n",
       "      <td>0</td>\n",
       "      <td>3</td>\n",
       "      <td>200</td>\n",
       "      <td>250</td>\n",
       "      <td>1940000</td>\n",
       "      <td>7760.000000</td>\n",
       "    </tr>\n",
       "    <tr>\n",
       "      <td>239997</td>\n",
       "      <td>2015-03-03 00:00:00</td>\n",
       "      <td>Apartamento</td>\n",
       "      <td>Benito Juárez</td>\n",
       "      <td>Distrito Federal</td>\n",
       "      <td>20</td>\n",
       "      <td>2</td>\n",
       "      <td>138</td>\n",
       "      <td>138</td>\n",
       "      <td>3400000</td>\n",
       "      <td>24637.681159</td>\n",
       "    </tr>\n",
       "  </tbody>\n",
       "</table>\n",
       "<p>100838 rows × 10 columns</p>\n",
       "</div>"
      ],
      "text/plain": [
       "                      fecha     tipodepropiedad         ciudad  \\\n",
       "0       2015-08-23 00:00:00         Apartamento  Benito Juárez   \n",
       "2       2015-10-17 00:00:00                Casa         Tonalá   \n",
       "3       2012-03-09 00:00:00                Casa   Zinacantepec   \n",
       "4       2016-06-07 00:00:00         Apartamento        Zapopan   \n",
       "5       2014-03-18 00:00:00         Apartamento       Coyoacán   \n",
       "...                     ...                 ...            ...   \n",
       "239991  2015-03-14 00:00:00         Apartamento      Iztacalco   \n",
       "239992  2015-11-23 00:00:00  Casa en condominio   Huixquilucan   \n",
       "239993  2015-03-22 00:00:00                Casa        Zapopan   \n",
       "239996  2014-07-10 00:00:00                Casa         Toluca   \n",
       "239997  2015-03-03 00:00:00         Apartamento  Benito Juárez   \n",
       "\n",
       "               provincia  antiguedad  habitaciones  metroscubiertos  \\\n",
       "0       Distrito Federal          -1             2               80   \n",
       "2                Jalisco           5             3              144   \n",
       "3         Edo. de México           1             2               63   \n",
       "4                Jalisco          10             2               95   \n",
       "5       Distrito Federal           5             2               75   \n",
       "...                  ...         ...           ...              ...   \n",
       "239991  Distrito Federal          20             2               68   \n",
       "239992    Edo. de México          10             3              270   \n",
       "239993           Jalisco           1             3              150   \n",
       "239996    Edo. de México           0             3              200   \n",
       "239997  Distrito Federal          20             2              138   \n",
       "\n",
       "        metrostotales   precio  precio metro cuadrado  \n",
       "0                  80  2273000           28412.500000  \n",
       "2                 166  1200000            7228.915663  \n",
       "3                  67   650000            9701.492537  \n",
       "4                  95  1150000           12105.263158  \n",
       "5                  90  1100000           12222.222222  \n",
       "...               ...      ...                    ...  \n",
       "239991             68  1450000           21323.529412  \n",
       "239992            293  5500000           18771.331058  \n",
       "239993            150  1650000           11000.000000  \n",
       "239996            250  1940000            7760.000000  \n",
       "239997            138  3400000           24637.681159  \n",
       "\n",
       "[100838 rows x 10 columns]"
      ]
     },
     "execution_count": 267,
     "metadata": {},
     "output_type": "execute_result"
    }
   ],
   "source": [
    "df"
   ]
  },
  {
   "cell_type": "code",
   "execution_count": 268,
   "metadata": {},
   "outputs": [],
   "source": [
    "#Ahora ya podemos calcular algunos parametros de interes:"
   ]
  },
  {
   "cell_type": "markdown",
   "metadata": {},
   "source": [
    "# Precio promedio del metro cuadrado en Mexico"
   ]
  },
  {
   "cell_type": "code",
   "execution_count": 306,
   "metadata": {},
   "outputs": [],
   "source": [
    "prom = df[mt].mean()"
   ]
  },
  {
   "cell_type": "code",
   "execution_count": 307,
   "metadata": {},
   "outputs": [
    {
     "name": "stdout",
     "output_type": "stream",
     "text": [
      "12990.601495203458\n"
     ]
    }
   ],
   "source": [
    "print(prom)"
   ]
  },
  {
   "cell_type": "markdown",
   "metadata": {},
   "source": [
    "# Inflacion en Mexico"
   ]
  },
  {
   "cell_type": "markdown",
   "metadata": {},
   "source": [
    "##### Funcion auxiliar"
   ]
  },
  {
   "cell_type": "code",
   "execution_count": 308,
   "metadata": {},
   "outputs": [],
   "source": [
    "def parser_fecha(fecha):\n",
    "    anio=fecha[0:4]\n",
    "    mes=fecha[5:7]\n",
    "    \n",
    "    meses={'01':'Ene. ', '02':'Feb. ', \n",
    "          '03':'Mar. ', '04':'Abr. ', \n",
    "          '05':'May. ', '06':'Jun. ', \n",
    "          '07':'Jul. ', '08':'Ago. ', \n",
    "          '09':'Sep. ', '10':'Oct. ', \n",
    "          '11':'Nov. ', '12':'Dic. ', }\n",
    "    nuevafecha = \"\"\n",
    "    \n",
    "    nuevafecha+= meses[mes]+anio\n",
    "    \n",
    "    return nuevafecha"
   ]
  },
  {
   "cell_type": "markdown",
   "metadata": {},
   "source": [
    "#### Codigo"
   ]
  },
  {
   "cell_type": "code",
   "execution_count": 309,
   "metadata": {},
   "outputs": [],
   "source": [
    "f = df.copy()\n",
    "f = f[['fecha', 'tipodepropiedad', mt]]"
   ]
  },
  {
   "cell_type": "code",
   "execution_count": 310,
   "metadata": {},
   "outputs": [],
   "source": [
    "f['fecha'] = f['fecha'].map(lambda x: x[0:7])"
   ]
  },
  {
   "cell_type": "code",
   "execution_count": 311,
   "metadata": {},
   "outputs": [],
   "source": [
    "f.sort_values(by='fecha', inplace=True)"
   ]
  },
  {
   "cell_type": "code",
   "execution_count": 312,
   "metadata": {},
   "outputs": [],
   "source": [
    "gral =f.groupby(['fecha'])[mt].agg(['mean']).rename(columns={'mean':'precio promedio metro cuadrado'})\n",
    "\n",
    "#casas = f.loc[f['tipodepropiedad'] == 'Casa'].groupby(['fecha'])[mt].agg(['mean'])\\\n",
    "        #.rename(columns={'mean':'precio promedio metro cuadrado'})\n",
    "\n",
    "#part = f.loc[f['tipodepropiedad'] == 'Apartamento'].groupby(['fecha'])[mt].agg(['mean'])\\\n",
    "        #.rename(columns={'mean':'precio promedio metro cuadrado'})"
   ]
  },
  {
   "cell_type": "code",
   "execution_count": 313,
   "metadata": {
    "scrolled": true
   },
   "outputs": [
    {
     "data": {
      "text/html": [
       "<div>\n",
       "<style scoped>\n",
       "    .dataframe tbody tr th:only-of-type {\n",
       "        vertical-align: middle;\n",
       "    }\n",
       "\n",
       "    .dataframe tbody tr th {\n",
       "        vertical-align: top;\n",
       "    }\n",
       "\n",
       "    .dataframe thead th {\n",
       "        text-align: right;\n",
       "    }\n",
       "</style>\n",
       "<table border=\"1\" class=\"dataframe\">\n",
       "  <thead>\n",
       "    <tr style=\"text-align: right;\">\n",
       "      <th></th>\n",
       "      <th>precio promedio metro cuadrado</th>\n",
       "    </tr>\n",
       "    <tr>\n",
       "      <th>fecha</th>\n",
       "      <th></th>\n",
       "    </tr>\n",
       "  </thead>\n",
       "  <tbody>\n",
       "    <tr>\n",
       "      <td>2012-01</td>\n",
       "      <td>7337.107779</td>\n",
       "    </tr>\n",
       "    <tr>\n",
       "      <td>2012-02</td>\n",
       "      <td>7102.120140</td>\n",
       "    </tr>\n",
       "    <tr>\n",
       "      <td>2012-03</td>\n",
       "      <td>7539.155765</td>\n",
       "    </tr>\n",
       "    <tr>\n",
       "      <td>2012-04</td>\n",
       "      <td>7674.691732</td>\n",
       "    </tr>\n",
       "    <tr>\n",
       "      <td>2012-05</td>\n",
       "      <td>7636.666343</td>\n",
       "    </tr>\n",
       "  </tbody>\n",
       "</table>\n",
       "</div>"
      ],
      "text/plain": [
       "         precio promedio metro cuadrado\n",
       "fecha                                  \n",
       "2012-01                     7337.107779\n",
       "2012-02                     7102.120140\n",
       "2012-03                     7539.155765\n",
       "2012-04                     7674.691732\n",
       "2012-05                     7636.666343"
      ]
     },
     "execution_count": 313,
     "metadata": {},
     "output_type": "execute_result"
    }
   ],
   "source": [
    "gral.head()"
   ]
  },
  {
   "cell_type": "code",
   "execution_count": 314,
   "metadata": {},
   "outputs": [],
   "source": [
    "gral.index = gral.index.map(parser_fecha)"
   ]
  },
  {
   "cell_type": "code",
   "execution_count": 315,
   "metadata": {},
   "outputs": [
    {
     "data": {
      "text/html": [
       "<div>\n",
       "<style scoped>\n",
       "    .dataframe tbody tr th:only-of-type {\n",
       "        vertical-align: middle;\n",
       "    }\n",
       "\n",
       "    .dataframe tbody tr th {\n",
       "        vertical-align: top;\n",
       "    }\n",
       "\n",
       "    .dataframe thead th {\n",
       "        text-align: right;\n",
       "    }\n",
       "</style>\n",
       "<table border=\"1\" class=\"dataframe\">\n",
       "  <thead>\n",
       "    <tr style=\"text-align: right;\">\n",
       "      <th></th>\n",
       "      <th>precio promedio metro cuadrado</th>\n",
       "    </tr>\n",
       "    <tr>\n",
       "      <th>fecha</th>\n",
       "      <th></th>\n",
       "    </tr>\n",
       "  </thead>\n",
       "  <tbody>\n",
       "    <tr>\n",
       "      <td>Ene. 2012</td>\n",
       "      <td>7337.107779</td>\n",
       "    </tr>\n",
       "    <tr>\n",
       "      <td>Feb. 2012</td>\n",
       "      <td>7102.120140</td>\n",
       "    </tr>\n",
       "    <tr>\n",
       "      <td>Mar. 2012</td>\n",
       "      <td>7539.155765</td>\n",
       "    </tr>\n",
       "    <tr>\n",
       "      <td>Abr. 2012</td>\n",
       "      <td>7674.691732</td>\n",
       "    </tr>\n",
       "    <tr>\n",
       "      <td>May. 2012</td>\n",
       "      <td>7636.666343</td>\n",
       "    </tr>\n",
       "  </tbody>\n",
       "</table>\n",
       "</div>"
      ],
      "text/plain": [
       "           precio promedio metro cuadrado\n",
       "fecha                                    \n",
       "Ene. 2012                     7337.107779\n",
       "Feb. 2012                     7102.120140\n",
       "Mar. 2012                     7539.155765\n",
       "Abr. 2012                     7674.691732\n",
       "May. 2012                     7636.666343"
      ]
     },
     "execution_count": 315,
     "metadata": {},
     "output_type": "execute_result"
    }
   ],
   "source": [
    "gral.head()"
   ]
  },
  {
   "cell_type": "code",
   "execution_count": 316,
   "metadata": {},
   "outputs": [
    {
     "data": {
      "image/png": "[encoded data removed]",
      "text/plain": [
       "<Figure size 1080x576 with 1 Axes>"
      ]
     },
     "metadata": {
      "needs_background": "light"
     },
     "output_type": "display_data"
    }
   ],
   "source": [
    "#config\n",
    "plt.rc('axes', axisbelow=True)\n",
    "plt.figure(figsize=(15,8))\n",
    "\n",
    "#plot\n",
    "plt.plot(gral, linewidth=3, color=amarillo)\n",
    "#plt.plot(casas, linewidth=3, color=rojo)\n",
    "#plt.plot(apart, linewidth=3, color=azul)\n",
    "\n",
    "#labels y titulos\n",
    "plt.xlabel(\"Fecha [YYYY-MM]\", fontsize=18)\n",
    "plt.ylabel(\"Precio metro cuadrado promedio [MXN]\", fontsize=18)\n",
    "plt.title(\"Evolución del precio de un metro cuadrado\", fontsize=22)\n",
    "plt.grid(True)\n",
    "plt.tick_params(colors=marron, grid_alpha=0.4, labelsize=12)\n",
    "plt.xticks(rotation=90)\n",
    "\n",
    "#save\n",
    "plt.savefig(\"inflacion mexico.png\", transparent=True, bbox_inches='tight')\n"
   ]
  },
  {
   "cell_type": "code",
   "execution_count": null,
   "metadata": {},
   "outputs": [],
   "source": []
  }
 ],
 "metadata": {
  "kernelspec": {
   "display_name": "Python 3",
   "language": "python",
   "name": "python3"
  },
  "language_info": {
   "codemirror_mode": {
    "name": "ipython",
    "version": 3
   },
   "file_extension": ".py",
   "mimetype": "text/x-python",
   "name": "python",
   "nbconvert_exporter": "python",
   "pygments_lexer": "ipython3",
   "version": "3.6.8"
  }
 },
 "nbformat": 4,
 "nbformat_minor": 2
}
