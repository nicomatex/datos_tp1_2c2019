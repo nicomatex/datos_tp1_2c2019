{
 "cells": [
  {
   "cell_type": "markdown",
   "metadata": {},
   "source": [
    "# [TEMPLATE] DATASET DEPURADO"
   ]
  },
  {
   "cell_type": "code",
   "execution_count": 1,
   "metadata": {},
   "outputs": [],
   "source": [
    "import pandas as pd\n",
    "import numpy as np\n",
    "import matplotlib.pyplot as plt\n",
    "import seaborn as sns"
   ]
  },
  {
   "cell_type": "code",
   "execution_count": 2,
   "metadata": {},
   "outputs": [],
   "source": [
    "df = pd.read_csv('./data/train.csv', dtype={'id':'uint32', 'provincia':'category',\n",
    "                                            'tipodepropiedad':'category', 'gimnasio':'bool',\n",
    "                                            'usosmultiples':'bool', 'piscina':'bool', 'escuelascercanas':'bool',\n",
    "                                            'centroscomercialescercanos':'bool'})\n",
    "\n",
    "# OJO, debe tener el archivo train.csv en la carpeta data."
   ]
  },
  {
   "cell_type": "code",
   "execution_count": 3,
   "metadata": {},
   "outputs": [],
   "source": [
    "df['antiguedad'] = df['antiguedad'].fillna(-1)\n",
    "df['antiguedad'] = df['antiguedad'].astype(np.int8)\n",
    "df['habitaciones'] = df['habitaciones'].fillna(-1)\n",
    "df['habitaciones'] = df['habitaciones'].astype(np.int8)\n",
    "df['garages'] = df['garages'].fillna(-1)\n",
    "df['garages'] = df['garages'].astype(np.int8)\n",
    "df['banos'] = df['banos'].fillna(-1)\n",
    "df['banos'] = df['banos'].astype(np.int8)\n",
    "df['idzona'] = df['idzona'].fillna(-1)\n",
    "df['idzona'] = df['idzona'].astype(np.int32)\n",
    "df['metroscubiertos'] = df['metroscubiertos'].fillna(-1)\n",
    "df['metroscubiertos'] = df['metroscubiertos'].astype(np.int16)\n",
    "df['metrostotales'] = df['metrostotales'].fillna(-1)\n",
    "df['metrostotales'] = df['metrostotales'].astype(np.int16)\n",
    "df['precio'] = df['precio'].astype(np.uint32)\n",
    "df['fecha'] = pd.to_datetime(df['fecha'])\n",
    "\n",
    "# OJO, los valores \"-1\" representan nulls."
   ]
  },
  {
   "cell_type": "code",
   "execution_count": 4,
   "metadata": {},
   "outputs": [],
   "source": [
    "# Colores a utilizar\n",
    "\n",
    "amarillo = '#FCAA67'\n",
    "rojo = '#B0413E'\n",
    "verde = '#FFFFC7'\n",
    "azul = '#548687'\n",
    "marron = '#473335'"
   ]
  },
  {
   "cell_type": "markdown",
   "metadata": {},
   "source": [
    "<hr>"
   ]
  },
  {
   "cell_type": "markdown",
   "metadata": {},
   "source": [
    "# Distribucion del precio del metro cuadrado"
   ]
  },
  {
   "cell_type": "code",
   "execution_count": 5,
   "metadata": {},
   "outputs": [
    {
     "data": {
      "text/plain": [
       "Index(['id', 'titulo', 'descripcion', 'tipodepropiedad', 'direccion', 'ciudad',\n",
       "       'provincia', 'antiguedad', 'habitaciones', 'garages', 'banos',\n",
       "       'metroscubiertos', 'metrostotales', 'idzona', 'lat', 'lng', 'fecha',\n",
       "       'gimnasio', 'usosmultiples', 'piscina', 'escuelascercanas',\n",
       "       'centroscomercialescercanos', 'precio'],\n",
       "      dtype='object')"
      ]
     },
     "execution_count": 5,
     "metadata": {},
     "output_type": "execute_result"
    }
   ],
   "source": [
    "df.columns"
   ]
  },
  {
   "cell_type": "code",
   "execution_count": 6,
   "metadata": {},
   "outputs": [],
   "source": [
    "#Nos quedamos con las columnas que nos interesan.\n",
    "df = df[['fecha', 'tipodepropiedad', 'ciudad', 'provincia', 'antiguedad', 'habitaciones', 'metroscubiertos', 'metrostotales', 'precio']]"
   ]
  },
  {
   "cell_type": "code",
   "execution_count": 7,
   "metadata": {},
   "outputs": [],
   "source": [
    "# Para calcular el precio por metro cuadrado necesitamos que los datos de metros totales sean coherente\n",
    "# y no sean nulos:"
   ]
  },
  {
   "cell_type": "code",
   "execution_count": 8,
   "metadata": {},
   "outputs": [
    {
     "data": {
      "text/plain": [
       "True     188533\n",
       "False     51467\n",
       "Name: metrostotales, dtype: int64"
      ]
     },
     "execution_count": 8,
     "metadata": {},
     "output_type": "execute_result"
    }
   ],
   "source": [
    "(df['metrostotales'] != -1).value_counts()"
   ]
  },
  {
   "cell_type": "code",
   "execution_count": 9,
   "metadata": {},
   "outputs": [
    {
     "data": {
      "text/plain": [
       "True     222600\n",
       "False     17400\n",
       "Name: metroscubiertos, dtype: int64"
      ]
     },
     "execution_count": 9,
     "metadata": {},
     "output_type": "execute_result"
    }
   ],
   "source": [
    "(df['metroscubiertos'] != -1).value_counts()"
   ]
  },
  {
   "cell_type": "code",
   "execution_count": 10,
   "metadata": {},
   "outputs": [],
   "source": [
    "# Vemos que tenemos un gran indice de valores nulos en cuanto a metros totales, esto puede deberse a que\n",
    "# muchas publicaciones tienen la cantidad de metros totales en donde deberian ir los cubiertos."
   ]
  },
  {
   "cell_type": "code",
   "execution_count": 11,
   "metadata": {},
   "outputs": [],
   "source": [
    "df = df.loc[(df['metroscubiertos'] != -1) & (df['metrostotales'] != -1)]"
   ]
  },
  {
   "cell_type": "code",
   "execution_count": 12,
   "metadata": {},
   "outputs": [
    {
     "data": {
      "text/html": [
       "<div>\n",
       "<style scoped>\n",
       "    .dataframe tbody tr th:only-of-type {\n",
       "        vertical-align: middle;\n",
       "    }\n",
       "\n",
       "    .dataframe tbody tr th {\n",
       "        vertical-align: top;\n",
       "    }\n",
       "\n",
       "    .dataframe thead th {\n",
       "        text-align: right;\n",
       "    }\n",
       "</style>\n",
       "<table border=\"1\" class=\"dataframe\">\n",
       "  <thead>\n",
       "    <tr style=\"text-align: right;\">\n",
       "      <th></th>\n",
       "      <th>fecha</th>\n",
       "      <th>tipodepropiedad</th>\n",
       "      <th>ciudad</th>\n",
       "      <th>provincia</th>\n",
       "      <th>antiguedad</th>\n",
       "      <th>habitaciones</th>\n",
       "      <th>metroscubiertos</th>\n",
       "      <th>metrostotales</th>\n",
       "      <th>precio</th>\n",
       "    </tr>\n",
       "  </thead>\n",
       "  <tbody>\n",
       "    <tr>\n",
       "      <td>1</td>\n",
       "      <td>2013-06-28</td>\n",
       "      <td>Casa en condominio</td>\n",
       "      <td>La Magdalena Contreras</td>\n",
       "      <td>Distrito Federal</td>\n",
       "      <td>10</td>\n",
       "      <td>3</td>\n",
       "      <td>268</td>\n",
       "      <td>180</td>\n",
       "      <td>3600000</td>\n",
       "    </tr>\n",
       "    <tr>\n",
       "      <td>12</td>\n",
       "      <td>2013-08-12</td>\n",
       "      <td>Casa</td>\n",
       "      <td>Querétaro</td>\n",
       "      <td>Querétaro</td>\n",
       "      <td>0</td>\n",
       "      <td>3</td>\n",
       "      <td>170</td>\n",
       "      <td>141</td>\n",
       "      <td>1500000</td>\n",
       "    </tr>\n",
       "    <tr>\n",
       "      <td>13</td>\n",
       "      <td>2015-03-31</td>\n",
       "      <td>Casa</td>\n",
       "      <td>Benito Juárez</td>\n",
       "      <td>Distrito Federal</td>\n",
       "      <td>20</td>\n",
       "      <td>-1</td>\n",
       "      <td>227</td>\n",
       "      <td>185</td>\n",
       "      <td>3000000</td>\n",
       "    </tr>\n",
       "    <tr>\n",
       "      <td>14</td>\n",
       "      <td>2014-11-25</td>\n",
       "      <td>Casa</td>\n",
       "      <td>Zapopan</td>\n",
       "      <td>Jalisco</td>\n",
       "      <td>-1</td>\n",
       "      <td>-1</td>\n",
       "      <td>250</td>\n",
       "      <td>231</td>\n",
       "      <td>5300000</td>\n",
       "    </tr>\n",
       "    <tr>\n",
       "      <td>21</td>\n",
       "      <td>2016-02-01</td>\n",
       "      <td>Casa en condominio</td>\n",
       "      <td>Querétaro</td>\n",
       "      <td>Querétaro</td>\n",
       "      <td>-1</td>\n",
       "      <td>3</td>\n",
       "      <td>181</td>\n",
       "      <td>150</td>\n",
       "      <td>2300000</td>\n",
       "    </tr>\n",
       "    <tr>\n",
       "      <td>...</td>\n",
       "      <td>...</td>\n",
       "      <td>...</td>\n",
       "      <td>...</td>\n",
       "      <td>...</td>\n",
       "      <td>...</td>\n",
       "      <td>...</td>\n",
       "      <td>...</td>\n",
       "      <td>...</td>\n",
       "      <td>...</td>\n",
       "    </tr>\n",
       "    <tr>\n",
       "      <td>239979</td>\n",
       "      <td>2016-03-04</td>\n",
       "      <td>Casa</td>\n",
       "      <td>Miguel Hidalgo</td>\n",
       "      <td>Distrito Federal</td>\n",
       "      <td>10</td>\n",
       "      <td>3</td>\n",
       "      <td>198</td>\n",
       "      <td>122</td>\n",
       "      <td>3300000</td>\n",
       "    </tr>\n",
       "    <tr>\n",
       "      <td>239983</td>\n",
       "      <td>2016-02-09</td>\n",
       "      <td>Casa</td>\n",
       "      <td>San Luis Potosí</td>\n",
       "      <td>San luis Potosí</td>\n",
       "      <td>-1</td>\n",
       "      <td>3</td>\n",
       "      <td>119</td>\n",
       "      <td>59</td>\n",
       "      <td>684338</td>\n",
       "    </tr>\n",
       "    <tr>\n",
       "      <td>239985</td>\n",
       "      <td>2016-12-07</td>\n",
       "      <td>Casa en condominio</td>\n",
       "      <td>Atizapán de Zaragoza</td>\n",
       "      <td>Edo. de México</td>\n",
       "      <td>10</td>\n",
       "      <td>3</td>\n",
       "      <td>145</td>\n",
       "      <td>87</td>\n",
       "      <td>2700000</td>\n",
       "    </tr>\n",
       "    <tr>\n",
       "      <td>239994</td>\n",
       "      <td>2013-07-31</td>\n",
       "      <td>Casa</td>\n",
       "      <td>Zapopan</td>\n",
       "      <td>Jalisco</td>\n",
       "      <td>3</td>\n",
       "      <td>2</td>\n",
       "      <td>160</td>\n",
       "      <td>90</td>\n",
       "      <td>1350000</td>\n",
       "    </tr>\n",
       "    <tr>\n",
       "      <td>239998</td>\n",
       "      <td>2014-12-26</td>\n",
       "      <td>Casa</td>\n",
       "      <td>Iztapalapa</td>\n",
       "      <td>Distrito Federal</td>\n",
       "      <td>20</td>\n",
       "      <td>4</td>\n",
       "      <td>235</td>\n",
       "      <td>137</td>\n",
       "      <td>2890000</td>\n",
       "    </tr>\n",
       "  </tbody>\n",
       "</table>\n",
       "<p>70295 rows × 9 columns</p>\n",
       "</div>"
      ],
      "text/plain": [
       "            fecha     tipodepropiedad                  ciudad  \\\n",
       "1      2013-06-28  Casa en condominio  La Magdalena Contreras   \n",
       "12     2013-08-12                Casa               Querétaro   \n",
       "13     2015-03-31                Casa           Benito Juárez   \n",
       "14     2014-11-25                Casa                 Zapopan   \n",
       "21     2016-02-01  Casa en condominio               Querétaro   \n",
       "...           ...                 ...                     ...   \n",
       "239979 2016-03-04                Casa          Miguel Hidalgo   \n",
       "239983 2016-02-09                Casa         San Luis Potosí   \n",
       "239985 2016-12-07  Casa en condominio    Atizapán de Zaragoza   \n",
       "239994 2013-07-31                Casa                 Zapopan   \n",
       "239998 2014-12-26                Casa              Iztapalapa   \n",
       "\n",
       "               provincia  antiguedad  habitaciones  metroscubiertos  \\\n",
       "1       Distrito Federal          10             3              268   \n",
       "12             Querétaro           0             3              170   \n",
       "13      Distrito Federal          20            -1              227   \n",
       "14               Jalisco          -1            -1              250   \n",
       "21             Querétaro          -1             3              181   \n",
       "...                  ...         ...           ...              ...   \n",
       "239979  Distrito Federal          10             3              198   \n",
       "239983   San luis Potosí          -1             3              119   \n",
       "239985    Edo. de México          10             3              145   \n",
       "239994           Jalisco           3             2              160   \n",
       "239998  Distrito Federal          20             4              235   \n",
       "\n",
       "        metrostotales   precio  \n",
       "1                 180  3600000  \n",
       "12                141  1500000  \n",
       "13                185  3000000  \n",
       "14                231  5300000  \n",
       "21                150  2300000  \n",
       "...               ...      ...  \n",
       "239979            122  3300000  \n",
       "239983             59   684338  \n",
       "239985             87  2700000  \n",
       "239994             90  1350000  \n",
       "239998            137  2890000  \n",
       "\n",
       "[70295 rows x 9 columns]"
      ]
     },
     "execution_count": 12,
     "metadata": {},
     "output_type": "execute_result"
    }
   ],
   "source": [
    "df.loc[(df['metroscubiertos'] > df['metrostotales'])]"
   ]
  },
  {
   "cell_type": "code",
   "execution_count": 13,
   "metadata": {},
   "outputs": [],
   "source": [
    "# Como vemos, tenemos muchisimos datos en lo que los metros cubiertos son mayores a los totales, cosa que \n",
    "# no tiene ningun sentido. Lamentablemente, para no tomar ninguna hipotesis erronea, deberemos eliminarlos y\n",
    "# trabajar con los datos cargados correctamente."
   ]
  },
  {
   "cell_type": "code",
   "execution_count": 14,
   "metadata": {},
   "outputs": [],
   "source": [
    "df = df.loc[(df['metroscubiertos'] <=df['metrostotales'])]"
   ]
  },
  {
   "cell_type": "code",
   "execution_count": 15,
   "metadata": {},
   "outputs": [
    {
     "data": {
      "text/plain": [
       "(100838, 9)"
      ]
     },
     "execution_count": 15,
     "metadata": {},
     "output_type": "execute_result"
    }
   ],
   "source": [
    "df.shape"
   ]
  },
  {
   "cell_type": "code",
   "execution_count": 16,
   "metadata": {},
   "outputs": [],
   "source": [
    "mt = 'precio metro cuadrado'\n",
    "mtp = 'precio promedio metro cuadrado'\n",
    "df[mt] = (df['precio'])/(df['metrostotales'])"
   ]
  },
  {
   "cell_type": "code",
   "execution_count": 17,
   "metadata": {},
   "outputs": [
    {
     "data": {
      "text/html": [
       "<div>\n",
       "<style scoped>\n",
       "    .dataframe tbody tr th:only-of-type {\n",
       "        vertical-align: middle;\n",
       "    }\n",
       "\n",
       "    .dataframe tbody tr th {\n",
       "        vertical-align: top;\n",
       "    }\n",
       "\n",
       "    .dataframe thead th {\n",
       "        text-align: right;\n",
       "    }\n",
       "</style>\n",
       "<table border=\"1\" class=\"dataframe\">\n",
       "  <thead>\n",
       "    <tr style=\"text-align: right;\">\n",
       "      <th></th>\n",
       "      <th>fecha</th>\n",
       "      <th>tipodepropiedad</th>\n",
       "      <th>ciudad</th>\n",
       "      <th>provincia</th>\n",
       "      <th>antiguedad</th>\n",
       "      <th>habitaciones</th>\n",
       "      <th>metroscubiertos</th>\n",
       "      <th>metrostotales</th>\n",
       "      <th>precio</th>\n",
       "      <th>precio metro cuadrado</th>\n",
       "    </tr>\n",
       "  </thead>\n",
       "  <tbody>\n",
       "    <tr>\n",
       "      <td>0</td>\n",
       "      <td>2015-08-23</td>\n",
       "      <td>Apartamento</td>\n",
       "      <td>Benito Juárez</td>\n",
       "      <td>Distrito Federal</td>\n",
       "      <td>-1</td>\n",
       "      <td>2</td>\n",
       "      <td>80</td>\n",
       "      <td>80</td>\n",
       "      <td>2273000</td>\n",
       "      <td>28412.500000</td>\n",
       "    </tr>\n",
       "    <tr>\n",
       "      <td>2</td>\n",
       "      <td>2015-10-17</td>\n",
       "      <td>Casa</td>\n",
       "      <td>Tonalá</td>\n",
       "      <td>Jalisco</td>\n",
       "      <td>5</td>\n",
       "      <td>3</td>\n",
       "      <td>144</td>\n",
       "      <td>166</td>\n",
       "      <td>1200000</td>\n",
       "      <td>7228.915663</td>\n",
       "    </tr>\n",
       "    <tr>\n",
       "      <td>3</td>\n",
       "      <td>2012-03-09</td>\n",
       "      <td>Casa</td>\n",
       "      <td>Zinacantepec</td>\n",
       "      <td>Edo. de México</td>\n",
       "      <td>1</td>\n",
       "      <td>2</td>\n",
       "      <td>63</td>\n",
       "      <td>67</td>\n",
       "      <td>650000</td>\n",
       "      <td>9701.492537</td>\n",
       "    </tr>\n",
       "    <tr>\n",
       "      <td>4</td>\n",
       "      <td>2016-06-07</td>\n",
       "      <td>Apartamento</td>\n",
       "      <td>Zapopan</td>\n",
       "      <td>Jalisco</td>\n",
       "      <td>10</td>\n",
       "      <td>2</td>\n",
       "      <td>95</td>\n",
       "      <td>95</td>\n",
       "      <td>1150000</td>\n",
       "      <td>12105.263158</td>\n",
       "    </tr>\n",
       "    <tr>\n",
       "      <td>5</td>\n",
       "      <td>2014-03-18</td>\n",
       "      <td>Apartamento</td>\n",
       "      <td>Coyoacán</td>\n",
       "      <td>Distrito Federal</td>\n",
       "      <td>5</td>\n",
       "      <td>2</td>\n",
       "      <td>75</td>\n",
       "      <td>90</td>\n",
       "      <td>1100000</td>\n",
       "      <td>12222.222222</td>\n",
       "    </tr>\n",
       "    <tr>\n",
       "      <td>...</td>\n",
       "      <td>...</td>\n",
       "      <td>...</td>\n",
       "      <td>...</td>\n",
       "      <td>...</td>\n",
       "      <td>...</td>\n",
       "      <td>...</td>\n",
       "      <td>...</td>\n",
       "      <td>...</td>\n",
       "      <td>...</td>\n",
       "      <td>...</td>\n",
       "    </tr>\n",
       "    <tr>\n",
       "      <td>239991</td>\n",
       "      <td>2015-03-14</td>\n",
       "      <td>Apartamento</td>\n",
       "      <td>Iztacalco</td>\n",
       "      <td>Distrito Federal</td>\n",
       "      <td>20</td>\n",
       "      <td>2</td>\n",
       "      <td>68</td>\n",
       "      <td>68</td>\n",
       "      <td>1450000</td>\n",
       "      <td>21323.529412</td>\n",
       "    </tr>\n",
       "    <tr>\n",
       "      <td>239992</td>\n",
       "      <td>2015-11-23</td>\n",
       "      <td>Casa en condominio</td>\n",
       "      <td>Huixquilucan</td>\n",
       "      <td>Edo. de México</td>\n",
       "      <td>10</td>\n",
       "      <td>3</td>\n",
       "      <td>270</td>\n",
       "      <td>293</td>\n",
       "      <td>5500000</td>\n",
       "      <td>18771.331058</td>\n",
       "    </tr>\n",
       "    <tr>\n",
       "      <td>239993</td>\n",
       "      <td>2015-03-22</td>\n",
       "      <td>Casa</td>\n",
       "      <td>Zapopan</td>\n",
       "      <td>Jalisco</td>\n",
       "      <td>1</td>\n",
       "      <td>3</td>\n",
       "      <td>150</td>\n",
       "      <td>150</td>\n",
       "      <td>1650000</td>\n",
       "      <td>11000.000000</td>\n",
       "    </tr>\n",
       "    <tr>\n",
       "      <td>239996</td>\n",
       "      <td>2014-07-10</td>\n",
       "      <td>Casa</td>\n",
       "      <td>Toluca</td>\n",
       "      <td>Edo. de México</td>\n",
       "      <td>0</td>\n",
       "      <td>3</td>\n",
       "      <td>200</td>\n",
       "      <td>250</td>\n",
       "      <td>1940000</td>\n",
       "      <td>7760.000000</td>\n",
       "    </tr>\n",
       "    <tr>\n",
       "      <td>239997</td>\n",
       "      <td>2015-03-03</td>\n",
       "      <td>Apartamento</td>\n",
       "      <td>Benito Juárez</td>\n",
       "      <td>Distrito Federal</td>\n",
       "      <td>20</td>\n",
       "      <td>2</td>\n",
       "      <td>138</td>\n",
       "      <td>138</td>\n",
       "      <td>3400000</td>\n",
       "      <td>24637.681159</td>\n",
       "    </tr>\n",
       "  </tbody>\n",
       "</table>\n",
       "<p>100838 rows × 10 columns</p>\n",
       "</div>"
      ],
      "text/plain": [
       "            fecha     tipodepropiedad         ciudad         provincia  \\\n",
       "0      2015-08-23         Apartamento  Benito Juárez  Distrito Federal   \n",
       "2      2015-10-17                Casa         Tonalá           Jalisco   \n",
       "3      2012-03-09                Casa   Zinacantepec    Edo. de México   \n",
       "4      2016-06-07         Apartamento        Zapopan           Jalisco   \n",
       "5      2014-03-18         Apartamento       Coyoacán  Distrito Federal   \n",
       "...           ...                 ...            ...               ...   \n",
       "239991 2015-03-14         Apartamento      Iztacalco  Distrito Federal   \n",
       "239992 2015-11-23  Casa en condominio   Huixquilucan    Edo. de México   \n",
       "239993 2015-03-22                Casa        Zapopan           Jalisco   \n",
       "239996 2014-07-10                Casa         Toluca    Edo. de México   \n",
       "239997 2015-03-03         Apartamento  Benito Juárez  Distrito Federal   \n",
       "\n",
       "        antiguedad  habitaciones  metroscubiertos  metrostotales   precio  \\\n",
       "0               -1             2               80             80  2273000   \n",
       "2                5             3              144            166  1200000   \n",
       "3                1             2               63             67   650000   \n",
       "4               10             2               95             95  1150000   \n",
       "5                5             2               75             90  1100000   \n",
       "...            ...           ...              ...            ...      ...   \n",
       "239991          20             2               68             68  1450000   \n",
       "239992          10             3              270            293  5500000   \n",
       "239993           1             3              150            150  1650000   \n",
       "239996           0             3              200            250  1940000   \n",
       "239997          20             2              138            138  3400000   \n",
       "\n",
       "        precio metro cuadrado  \n",
       "0                28412.500000  \n",
       "2                 7228.915663  \n",
       "3                 9701.492537  \n",
       "4                12105.263158  \n",
       "5                12222.222222  \n",
       "...                       ...  \n",
       "239991           21323.529412  \n",
       "239992           18771.331058  \n",
       "239993           11000.000000  \n",
       "239996            7760.000000  \n",
       "239997           24637.681159  \n",
       "\n",
       "[100838 rows x 10 columns]"
      ]
     },
     "execution_count": 17,
     "metadata": {},
     "output_type": "execute_result"
    }
   ],
   "source": [
    "df"
   ]
  },
  {
   "cell_type": "code",
   "execution_count": 18,
   "metadata": {},
   "outputs": [],
   "source": [
    "#Ahora ya podemos calcular algunos parametros de interes:"
   ]
  },
  {
   "cell_type": "markdown",
   "metadata": {},
   "source": [
    "# Precio promedio del metro cuadrado en Mexico"
   ]
  },
  {
   "cell_type": "code",
   "execution_count": 19,
   "metadata": {},
   "outputs": [],
   "source": [
    "prom = df[mt].mean()"
   ]
  },
  {
   "cell_type": "code",
   "execution_count": 20,
   "metadata": {},
   "outputs": [
    {
     "name": "stdout",
     "output_type": "stream",
     "text": [
      "12990.601495203458\n"
     ]
    }
   ],
   "source": [
    "print(prom)"
   ]
  },
  {
   "cell_type": "markdown",
   "metadata": {},
   "source": [
    "Ahora podemos comparar con esta referencia."
   ]
  },
  {
   "cell_type": "markdown",
   "metadata": {},
   "source": [
    "# Precio promedio del metro cuadrado segun provincia:"
   ]
  },
  {
   "cell_type": "code",
   "execution_count": 21,
   "metadata": {},
   "outputs": [],
   "source": [
    "p1 = df.copy()\n",
    "p1 = p1.groupby('provincia')[mt].agg(['mean']).reset_index().rename(columns={'mean':mtp}).sort_values(mtp, ascending=True)"
   ]
  },
  {
   "cell_type": "code",
   "execution_count": 22,
   "metadata": {},
   "outputs": [
    {
     "data": {
      "image/png": "[encoded data removed]",
      "text/plain": [
       "<Figure size 864x648 with 1 Axes>"
      ]
     },
     "metadata": {
      "needs_background": "light"
     },
     "output_type": "display_data"
    }
   ],
   "source": [
    "my_range=range(1,len(p1.index)+1)\n",
    "\n",
    "plt.rc('axes', axisbelow=True)\n",
    "\n",
    "plt.figure(figsize=(12,9))\n",
    "\n",
    "plt.hlines(y=my_range, xmin=0, xmax=p1[mtp], color=amarillo)\n",
    "plt.plot(p1[mtp], my_range, \"H\", color=rojo)\n",
    "plt.yticks(my_range, p1['provincia'])\n",
    "plt.xticks(np.arange(0, 26000, step=2000))\n",
    "plt.xlabel(\"Precio del metro cuadrado promedio [MXN]\", fontsize=18)\n",
    "plt.ylabel(\"Provincia\", fontsize=18)\n",
    "plt.title(\"Precio del metro cuadrado promedio segun provincia\", fontsize=22)\n",
    "plt.grid(True)\n",
    "plt.tick_params(colors=marron, grid_alpha=0.4, labelsize=12)\n",
    "\n",
    "plt.savefig(\"precio mt cuadrado por provincia.png\", transparent=True, bbox_inches='tight')\n"
   ]
  },
  {
   "cell_type": "markdown",
   "metadata": {},
   "source": [
    "##### Diferencia respecto del precio promedio"
   ]
  },
  {
   "cell_type": "code",
   "execution_count": 23,
   "metadata": {},
   "outputs": [],
   "source": [
    "p1['diferencia precio prom'] = p1[mtp] - prom"
   ]
  },
  {
   "cell_type": "code",
   "execution_count": 44,
   "metadata": {},
   "outputs": [
    {
     "data": {
      "image/png": "[encoded data removed]",
      "text/plain": [
       "<Figure size 864x648 with 1 Axes>"
      ]
     },
     "metadata": {
      "needs_background": "light"
     },
     "output_type": "display_data"
    }
   ],
   "source": [
    "values = p1['diferencia precio prom']\n",
    "provincias = p1['provincia']\n",
    "my_color=np.where(values > 0, rojo, azul)\n",
    "\n",
    "plt.rc('axes', axisbelow=True)\n",
    "plt.figure(figsize=(12,9))\n",
    "\n",
    "plt.hlines(y=provincias, xmin=0, xmax=values, color=my_color, linewidth=9)\n",
    "\n",
    "plt.xlabel(\"Diferencia vs precio promedio del metro cuadrado [MXN]\", fontsize=18)\n",
    "plt.ylabel(\"Provincia\", fontsize=18)\n",
    "plt.title(\"Diferencia del precio del metro cuadrado vs el precio promedio, segun la Provincia\", fontsize=22)\n",
    "plt.grid(True)\n",
    "plt.xticks(np.arange(-10000, 12000, step=1000), rotation=45)\n",
    "plt.tick_params(colors=marron, grid_alpha=0.4, labelsize=12)\n",
    "\n",
    "plt.savefig(\"diferencia precio vs prom por provincia.png\", transparent=True, bbox_inches='tight')\n"
   ]
  },
  {
   "cell_type": "code",
   "execution_count": null,
   "metadata": {},
   "outputs": [],
   "source": []
  }
 ],
 "metadata": {
  "kernelspec": {
   "display_name": "Python 3",
   "language": "python",
   "name": "python3"
  },
  "language_info": {
   "codemirror_mode": {
    "name": "ipython",
    "version": 3
   },
   "file_extension": ".py",
   "mimetype": "text/x-python",
   "name": "python",
   "nbconvert_exporter": "python",
   "pygments_lexer": "ipython3",
   "version": "3.6.8"
  }
 },
 "nbformat": 4,
 "nbformat_minor": 2
}
