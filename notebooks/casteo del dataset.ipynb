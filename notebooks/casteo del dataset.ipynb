{
 "cells": [
  {
   "cell_type": "code",
   "execution_count": 2,
   "metadata": {},
   "outputs": [],
   "source": [
    "import pandas as pd\n",
    "import numpy as np"
   ]
  },
  {
   "cell_type": "code",
   "execution_count": 3,
   "metadata": {},
   "outputs": [],
   "source": [
    "df = pd.read_csv('./data/train.csv', dtype={'id':'uint32', 'provincia':'category', 'tipodepropiedad':'category', 'gimnasio':'bool', 'usosmultiples':'bool', 'piscina':'bool', 'escuelascercanas':'bool', 'centroscomercialescercanos':'bool'})"
   ]
  },
  {
   "cell_type": "markdown",
   "metadata": {},
   "source": [
    "### Objetivo\n",
    "Reducir el uso de memoria innecesaria"
   ]
  },
  {
   "cell_type": "code",
   "execution_count": 3,
   "metadata": {
    "scrolled": true
   },
   "outputs": [
    {
     "data": {
      "text/plain": [
       "id                            False\n",
       "titulo                         True\n",
       "descripcion                    True\n",
       "tipodepropiedad                True\n",
       "direccion                      True\n",
       "ciudad                         True\n",
       "provincia                      True\n",
       "antiguedad                     True\n",
       "habitaciones                   True\n",
       "garages                        True\n",
       "banos                          True\n",
       "metroscubiertos                True\n",
       "metrostotales                  True\n",
       "idzona                         True\n",
       "lat                            True\n",
       "lng                            True\n",
       "fecha                         False\n",
       "gimnasio                      False\n",
       "usosmultiples                 False\n",
       "piscina                       False\n",
       "escuelascercanas              False\n",
       "centroscomercialescercanos    False\n",
       "precio                        False\n",
       "dtype: bool"
      ]
     },
     "execution_count": 3,
     "metadata": {},
     "output_type": "execute_result"
    }
   ],
   "source": [
    "# Todos aquellas columnas que no tengan valores nulos pueden ser casteadas directamente en la lectura del archivo.\n",
    "df.isnull().any()"
   ]
  },
  {
   "cell_type": "code",
   "execution_count": 4,
   "metadata": {
    "scrolled": true
   },
   "outputs": [
    {
     "data": {
      "text/plain": [
       "False    225006\n",
       "True      14994\n",
       "Name: gimnasio, dtype: int64"
      ]
     },
     "execution_count": 4,
     "metadata": {},
     "output_type": "execute_result"
    }
   ],
   "source": [
    "df.gimnasio.value_counts()"
   ]
  },
  {
   "cell_type": "code",
   "execution_count": 5,
   "metadata": {},
   "outputs": [],
   "source": [
    "# Casteamos gimnasio a bool"
   ]
  },
  {
   "cell_type": "code",
   "execution_count": 6,
   "metadata": {},
   "outputs": [
    {
     "data": {
      "text/plain": [
       "False    226778\n",
       "True      13222\n",
       "Name: usosmultiples, dtype: int64"
      ]
     },
     "execution_count": 6,
     "metadata": {},
     "output_type": "execute_result"
    }
   ],
   "source": [
    "df.usosmultiples.value_counts()"
   ]
  },
  {
   "cell_type": "code",
   "execution_count": 7,
   "metadata": {},
   "outputs": [],
   "source": [
    "# Casteamos usos multiples a bool"
   ]
  },
  {
   "cell_type": "code",
   "execution_count": 8,
   "metadata": {},
   "outputs": [
    {
     "data": {
      "text/plain": [
       "False    219028\n",
       "True      20972\n",
       "Name: piscina, dtype: int64"
      ]
     },
     "execution_count": 8,
     "metadata": {},
     "output_type": "execute_result"
    }
   ],
   "source": [
    "df.piscina.value_counts()"
   ]
  },
  {
   "cell_type": "code",
   "execution_count": 9,
   "metadata": {},
   "outputs": [],
   "source": [
    "# Casteamos piscina a bool"
   ]
  },
  {
   "cell_type": "code",
   "execution_count": 10,
   "metadata": {},
   "outputs": [
    {
     "data": {
      "text/plain": [
       "False    133406\n",
       "True     106594\n",
       "Name: escuelascercanas, dtype: int64"
      ]
     },
     "execution_count": 10,
     "metadata": {},
     "output_type": "execute_result"
    }
   ],
   "source": [
    "df.escuelascercanas.value_counts()"
   ]
  },
  {
   "cell_type": "code",
   "execution_count": 11,
   "metadata": {},
   "outputs": [],
   "source": [
    "# Casteamos escuelas cercanas a bool"
   ]
  },
  {
   "cell_type": "code",
   "execution_count": 12,
   "metadata": {},
   "outputs": [
    {
     "data": {
      "text/plain": [
       "False    144832\n",
       "True      95168\n",
       "Name: centroscomercialescercanos, dtype: int64"
      ]
     },
     "execution_count": 12,
     "metadata": {},
     "output_type": "execute_result"
    }
   ],
   "source": [
    "df.centroscomercialescercanos.value_counts()"
   ]
  },
  {
   "cell_type": "code",
   "execution_count": 13,
   "metadata": {},
   "outputs": [],
   "source": [
    "# Casteamos centros comerciales cercanos a bool"
   ]
  },
  {
   "cell_type": "code",
   "execution_count": 14,
   "metadata": {},
   "outputs": [],
   "source": [
    "# Ahora casteamos los tipos que pueden ser de tipo categorico, como es el caso de 'provincia' y 'tipodepropiedad'."
   ]
  },
  {
   "cell_type": "code",
   "execution_count": 15,
   "metadata": {},
   "outputs": [
    {
     "name": "stdout",
     "output_type": "stream",
     "text": [
      "<class 'pandas.core.frame.DataFrame'>\n",
      "RangeIndex: 240000 entries, 0 to 239999\n",
      "Data columns (total 23 columns):\n",
      "id                            240000 non-null uint32\n",
      "titulo                        234613 non-null object\n",
      "descripcion                   238381 non-null object\n",
      "tipodepropiedad               239954 non-null category\n",
      "direccion                     186928 non-null object\n",
      "ciudad                        239628 non-null object\n",
      "provincia                     239845 non-null category\n",
      "antiguedad                    196445 non-null float64\n",
      "habitaciones                  217529 non-null float64\n",
      "garages                       202235 non-null float64\n",
      "banos                         213779 non-null float64\n",
      "metroscubiertos               222600 non-null float64\n",
      "metrostotales                 188533 non-null float64\n",
      "idzona                        211379 non-null float64\n",
      "lat                           116512 non-null float64\n",
      "lng                           116512 non-null float64\n",
      "fecha                         240000 non-null object\n",
      "gimnasio                      240000 non-null bool\n",
      "usosmultiples                 240000 non-null bool\n",
      "piscina                       240000 non-null bool\n",
      "escuelascercanas              240000 non-null bool\n",
      "centroscomercialescercanos    240000 non-null bool\n",
      "precio                        240000 non-null float64\n",
      "dtypes: bool(5), category(2), float64(10), object(5), uint32(1)\n",
      "memory usage: 30.0+ MB\n"
     ]
    }
   ],
   "source": [
    "df.info()"
   ]
  },
  {
   "cell_type": "code",
   "execution_count": 16,
   "metadata": {},
   "outputs": [
    {
     "data": {
      "text/plain": [
       "80.0"
      ]
     },
     "execution_count": 16,
     "metadata": {},
     "output_type": "execute_result"
    }
   ],
   "source": [
    "# Ahora vamos a castear los datos de tipo float64 que no necesitan esta precision a enteros, o flotantes de menor\n",
    "# precision, segun corresponda.\n",
    "\n",
    "df['antiguedad'].max()"
   ]
  },
  {
   "cell_type": "code",
   "execution_count": 54,
   "metadata": {},
   "outputs": [],
   "source": [
    "# Vemos que antiguedad tiene un valor maximo de 80 y son valores enteros, por lo que con int8 nos alcanza.\n",
    "# Como antiguedad tiene valores nulos, no podremos hacer una conversion directa, sin antes tener en cuenta\n",
    "# estos valores. Para eso, les pondremos el valor '-1' para poder convertir.\n",
    "\n",
    "# Repetiremos el mismo proceso para habitaciones, garages, y banos. Todos estos valores son enteros positivos,\n",
    "# reescribiremos los NaN como -1."
   ]
  },
  {
   "cell_type": "code",
   "execution_count": 55,
   "metadata": {},
   "outputs": [
    {
     "data": {
      "text/plain": [
       "False    240000\n",
       "Name: antiguedad, dtype: int64"
      ]
     },
     "execution_count": 55,
     "metadata": {},
     "output_type": "execute_result"
    }
   ],
   "source": [
    "df['antiguedad'].isnull().value_counts()"
   ]
  },
  {
   "cell_type": "code",
   "execution_count": 56,
   "metadata": {},
   "outputs": [
    {
     "data": {
      "text/plain": [
       "10"
      ]
     },
     "execution_count": 56,
     "metadata": {},
     "output_type": "execute_result"
    }
   ],
   "source": [
    "df['habitaciones'].max()"
   ]
  },
  {
   "cell_type": "code",
   "execution_count": 57,
   "metadata": {},
   "outputs": [
    {
     "data": {
      "text/plain": [
       "3"
      ]
     },
     "execution_count": 57,
     "metadata": {},
     "output_type": "execute_result"
    }
   ],
   "source": [
    "df['garages'].max()"
   ]
  },
  {
   "cell_type": "code",
   "execution_count": 58,
   "metadata": {},
   "outputs": [
    {
     "data": {
      "text/plain": [
       "4"
      ]
     },
     "execution_count": 58,
     "metadata": {},
     "output_type": "execute_result"
    }
   ],
   "source": [
    "df['banos'].max()"
   ]
  },
  {
   "cell_type": "code",
   "execution_count": 80,
   "metadata": {},
   "outputs": [],
   "source": [
    "df['antiguedad'] = df['antiguedad'].fillna(-1)\n",
    "df['antiguedad'] = df['antiguedad'].astype(np.int8)"
   ]
  },
  {
   "cell_type": "code",
   "execution_count": 60,
   "metadata": {
    "scrolled": false
   },
   "outputs": [],
   "source": [
    "df['habitaciones'] = df['habitaciones'].fillna(-1)\n",
    "df['habitaciones'] = df['habitaciones'].astype(np.int8)"
   ]
  },
  {
   "cell_type": "code",
   "execution_count": 61,
   "metadata": {},
   "outputs": [],
   "source": [
    "df['garages'] = df['garages'].fillna(-1)\n",
    "df['garages'] = df['garages'].astype(np.int8)"
   ]
  },
  {
   "cell_type": "code",
   "execution_count": 62,
   "metadata": {},
   "outputs": [],
   "source": [
    "df['banos'] = df['banos'].fillna(-1)\n",
    "df['banos'] = df['banos'].astype(np.int8)"
   ]
  },
  {
   "cell_type": "code",
   "execution_count": 63,
   "metadata": {},
   "outputs": [
    {
     "name": "stdout",
     "output_type": "stream",
     "text": [
      "<class 'pandas.core.frame.DataFrame'>\n",
      "RangeIndex: 240000 entries, 0 to 239999\n",
      "Data columns (total 23 columns):\n",
      "id                            240000 non-null uint32\n",
      "titulo                        234613 non-null object\n",
      "descripcion                   238381 non-null object\n",
      "tipodepropiedad               239954 non-null category\n",
      "direccion                     186928 non-null object\n",
      "ciudad                        239628 non-null object\n",
      "provincia                     239845 non-null category\n",
      "antiguedad                    240000 non-null float16\n",
      "habitaciones                  240000 non-null int8\n",
      "garages                       240000 non-null int8\n",
      "banos                         240000 non-null int8\n",
      "metroscubiertos               240000 non-null int16\n",
      "metrostotales                 240000 non-null int16\n",
      "idzona                        240000 non-null int32\n",
      "lat                           116512 non-null float64\n",
      "lng                           116512 non-null float64\n",
      "fecha                         240000 non-null datetime64[ns]\n",
      "gimnasio                      240000 non-null bool\n",
      "usosmultiples                 240000 non-null bool\n",
      "piscina                       240000 non-null bool\n",
      "escuelascercanas              240000 non-null bool\n",
      "centroscomercialescercanos    240000 non-null bool\n",
      "precio                        240000 non-null uint32\n",
      "dtypes: bool(5), category(2), datetime64[ns](1), float16(1), float64(2), int16(2), int32(1), int8(3), object(4), uint32(2)\n",
      "memory usage: 19.2+ MB\n"
     ]
    }
   ],
   "source": [
    "df.info()"
   ]
  },
  {
   "cell_type": "code",
   "execution_count": 64,
   "metadata": {},
   "outputs": [
    {
     "data": {
      "text/plain": [
       "False"
      ]
     },
     "execution_count": 64,
     "metadata": {},
     "output_type": "execute_result"
    }
   ],
   "source": [
    "df['precio'].map(lambda x: np.uint32(x) != x).any()"
   ]
  },
  {
   "cell_type": "code",
   "execution_count": 65,
   "metadata": {},
   "outputs": [],
   "source": [
    "# Como vemos, el precio puede ser convertido a un entero unsigned de 32 sin perder datos.\n",
    "df['precio'] = df['precio'].astype('uint32')"
   ]
  },
  {
   "cell_type": "code",
   "execution_count": 66,
   "metadata": {},
   "outputs": [
    {
     "data": {
      "text/plain": [
       "id                                    uint32\n",
       "titulo                                object\n",
       "descripcion                           object\n",
       "tipodepropiedad                     category\n",
       "direccion                             object\n",
       "ciudad                                object\n",
       "provincia                           category\n",
       "antiguedad                           float16\n",
       "habitaciones                            int8\n",
       "garages                                 int8\n",
       "banos                                   int8\n",
       "metroscubiertos                        int16\n",
       "metrostotales                          int16\n",
       "idzona                                 int32\n",
       "lat                                  float64\n",
       "lng                                  float64\n",
       "fecha                         datetime64[ns]\n",
       "gimnasio                                bool\n",
       "usosmultiples                           bool\n",
       "piscina                                 bool\n",
       "escuelascercanas                        bool\n",
       "centroscomercialescercanos              bool\n",
       "precio                                uint32\n",
       "dtype: object"
      ]
     },
     "execution_count": 66,
     "metadata": {},
     "output_type": "execute_result"
    }
   ],
   "source": [
    "df.dtypes"
   ]
  },
  {
   "cell_type": "code",
   "execution_count": 67,
   "metadata": {},
   "outputs": [],
   "source": [
    "df['fecha'] = pd.to_datetime(df['fecha'])"
   ]
  },
  {
   "cell_type": "code",
   "execution_count": 68,
   "metadata": {},
   "outputs": [
    {
     "name": "stdout",
     "output_type": "stream",
     "text": [
      "<class 'pandas.core.frame.DataFrame'>\n",
      "RangeIndex: 240000 entries, 0 to 239999\n",
      "Data columns (total 23 columns):\n",
      "id                            240000 non-null uint32\n",
      "titulo                        234613 non-null object\n",
      "descripcion                   238381 non-null object\n",
      "tipodepropiedad               239954 non-null category\n",
      "direccion                     186928 non-null object\n",
      "ciudad                        239628 non-null object\n",
      "provincia                     239845 non-null category\n",
      "antiguedad                    240000 non-null float16\n",
      "habitaciones                  240000 non-null int8\n",
      "garages                       240000 non-null int8\n",
      "banos                         240000 non-null int8\n",
      "metroscubiertos               240000 non-null int16\n",
      "metrostotales                 240000 non-null int16\n",
      "idzona                        240000 non-null int32\n",
      "lat                           116512 non-null float64\n",
      "lng                           116512 non-null float64\n",
      "fecha                         240000 non-null datetime64[ns]\n",
      "gimnasio                      240000 non-null bool\n",
      "usosmultiples                 240000 non-null bool\n",
      "piscina                       240000 non-null bool\n",
      "escuelascercanas              240000 non-null bool\n",
      "centroscomercialescercanos    240000 non-null bool\n",
      "precio                        240000 non-null uint32\n",
      "dtypes: bool(5), category(2), datetime64[ns](1), float16(1), float64(2), int16(2), int32(1), int8(3), object(4), uint32(2)\n",
      "memory usage: 19.2+ MB\n"
     ]
    }
   ],
   "source": [
    "df.info()"
   ]
  },
  {
   "cell_type": "code",
   "execution_count": 69,
   "metadata": {},
   "outputs": [
    {
     "data": {
      "text/plain": [
       "False    240000\n",
       "Name: idzona, dtype: int64"
      ]
     },
     "execution_count": 69,
     "metadata": {},
     "output_type": "execute_result"
    }
   ],
   "source": [
    "df['idzona'].isnull().value_counts()"
   ]
  },
  {
   "cell_type": "code",
   "execution_count": 70,
   "metadata": {},
   "outputs": [],
   "source": [
    "# Para idzonas, vamos a llenar los valores NaN con el valor -1, y castear los floats de 64 a ints de 32."
   ]
  },
  {
   "cell_type": "code",
   "execution_count": 71,
   "metadata": {},
   "outputs": [
    {
     "data": {
      "text/plain": [
       "False"
      ]
     },
     "execution_count": 71,
     "metadata": {},
     "output_type": "execute_result"
    }
   ],
   "source": [
    "df['idzona'] = df['idzona'].fillna(-1)\n",
    "df['idzona'].map(lambda x: np.int32(x) != x).any()"
   ]
  },
  {
   "cell_type": "code",
   "execution_count": 72,
   "metadata": {
    "scrolled": true
   },
   "outputs": [],
   "source": [
    "# Vemos que podemos castear a enteros de 32 bits sin perder data.\n",
    "df['idzona'] = df['idzona'].astype(np.int32)"
   ]
  },
  {
   "cell_type": "code",
   "execution_count": 73,
   "metadata": {},
   "outputs": [],
   "source": [
    "#Repetimos el procedimiento para metroscubiertos y metrostotales."
   ]
  },
  {
   "cell_type": "code",
   "execution_count": 74,
   "metadata": {},
   "outputs": [
    {
     "data": {
      "text/plain": [
       "False"
      ]
     },
     "execution_count": 74,
     "metadata": {},
     "output_type": "execute_result"
    }
   ],
   "source": [
    "df['metroscubiertos'] = df['metroscubiertos'].fillna(-1)\n",
    "df['metroscubiertos'].map(lambda x: np.int16(x) != x).any()"
   ]
  },
  {
   "cell_type": "code",
   "execution_count": 75,
   "metadata": {},
   "outputs": [],
   "source": [
    "df['metroscubiertos'] = df['metroscubiertos'].astype(np.int16)"
   ]
  },
  {
   "cell_type": "code",
   "execution_count": 76,
   "metadata": {},
   "outputs": [
    {
     "data": {
      "text/plain": [
       "False"
      ]
     },
     "execution_count": 76,
     "metadata": {},
     "output_type": "execute_result"
    }
   ],
   "source": [
    "df['metrostotales'] = df['metrostotales'].fillna(-1)\n",
    "df['metrostotales'].map(lambda x: np.int16(x) != x).any()"
   ]
  },
  {
   "cell_type": "code",
   "execution_count": 77,
   "metadata": {},
   "outputs": [],
   "source": [
    "df['metrostotales'] = df['metrostotales'].astype(np.int16)"
   ]
  },
  {
   "cell_type": "code",
   "execution_count": 81,
   "metadata": {
    "scrolled": false
   },
   "outputs": [
    {
     "name": "stdout",
     "output_type": "stream",
     "text": [
      "<class 'pandas.core.frame.DataFrame'>\n",
      "RangeIndex: 240000 entries, 0 to 239999\n",
      "Data columns (total 23 columns):\n",
      "id                            240000 non-null uint32\n",
      "titulo                        234613 non-null object\n",
      "descripcion                   238381 non-null object\n",
      "tipodepropiedad               239954 non-null category\n",
      "direccion                     186928 non-null object\n",
      "ciudad                        239628 non-null object\n",
      "provincia                     239845 non-null category\n",
      "antiguedad                    240000 non-null int8\n",
      "habitaciones                  240000 non-null int8\n",
      "garages                       240000 non-null int8\n",
      "banos                         240000 non-null int8\n",
      "metroscubiertos               240000 non-null int16\n",
      "metrostotales                 240000 non-null int16\n",
      "idzona                        240000 non-null int32\n",
      "lat                           116512 non-null float64\n",
      "lng                           116512 non-null float64\n",
      "fecha                         240000 non-null datetime64[ns]\n",
      "gimnasio                      240000 non-null bool\n",
      "usosmultiples                 240000 non-null bool\n",
      "piscina                       240000 non-null bool\n",
      "escuelascercanas              240000 non-null bool\n",
      "centroscomercialescercanos    240000 non-null bool\n",
      "precio                        240000 non-null uint32\n",
      "dtypes: bool(5), category(2), datetime64[ns](1), float64(2), int16(2), int32(1), int8(4), object(4), uint32(2)\n",
      "memory usage: 19.0+ MB\n"
     ]
    }
   ],
   "source": [
    "df.info()"
   ]
  },
  {
   "cell_type": "code",
   "execution_count": 83,
   "metadata": {},
   "outputs": [],
   "source": [
    "# Como vemos, hemos reducido el uso de memoria a solo 19MB. Trabajaremos sobre esto para el resto del trabajo."
   ]
  },
  {
   "cell_type": "code",
   "execution_count": null,
   "metadata": {},
   "outputs": [],
   "source": []
  }
 ],
 "metadata": {
  "kernelspec": {
   "display_name": "Python 3",
   "language": "python",
   "name": "python3"
  },
  "language_info": {
   "codemirror_mode": {
    "name": "ipython",
    "version": 3
   },
   "file_extension": ".py",
   "mimetype": "text/x-python",
   "name": "python",
   "nbconvert_exporter": "python",
   "pygments_lexer": "ipython3",
   "version": "3.6.8"
  }
 },
 "nbformat": 4,
 "nbformat_minor": 2
}
