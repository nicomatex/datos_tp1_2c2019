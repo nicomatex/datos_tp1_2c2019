{
 "cells": [
  {
   "cell_type": "markdown",
   "metadata": {},
   "source": [
    "# [TEMPLATE] DATASET DEPURADO"
   ]
  },
  {
   "cell_type": "code",
   "execution_count": 1,
   "metadata": {},
   "outputs": [],
   "source": [
    "import pandas as pd\n",
    "import numpy as np"
   ]
  },
  {
   "cell_type": "code",
   "execution_count": 2,
   "metadata": {},
   "outputs": [],
   "source": [
    "df = pd.read_csv('./data/train.csv', dtype={'id':'uint32', 'provincia':'category',\n",
    "                                            'tipodepropiedad':'category', 'gimnasio':'bool',\n",
    "                                            'usosmultiples':'bool', 'piscina':'bool', 'escuelascercanas':'bool',\n",
    "                                            'centroscomercialescercanos':'bool'})\n",
    "\n",
    "# OJO, debe tener el archivo train.csv en la carpeta data."
   ]
  },
  {
   "cell_type": "code",
   "execution_count": 3,
   "metadata": {},
   "outputs": [],
   "source": [
    "df['antiguedad'] = df['antiguedad'].fillna(-1)\n",
    "df['antiguedad'] = df['antiguedad'].astype(np.int8)\n",
    "df['habitaciones'] = df['habitaciones'].fillna(-1)\n",
    "df['habitaciones'] = df['habitaciones'].astype(np.int8)\n",
    "df['garages'] = df['garages'].fillna(-1)\n",
    "df['garages'] = df['garages'].astype(np.int8)\n",
    "df['banos'] = df['banos'].fillna(-1)\n",
    "df['banos'] = df['banos'].astype(np.int8)\n",
    "df['idzona'] = df['idzona'].fillna(-1)\n",
    "df['idzona'] = df['idzona'].astype(np.int32)\n",
    "df['metroscubiertos'] = df['metroscubiertos'].fillna(-1)\n",
    "df['metroscubiertos'] = df['metroscubiertos'].astype(np.int16)\n",
    "df['metrostotales'] = df['metrostotales'].fillna(-1)\n",
    "df['metrostotales'] = df['metrostotales'].astype(np.int16)\n",
    "df['precio'] = df['precio'].astype(np.uint32)\n",
    "df['fecha'] = pd.to_datetime(df['fecha'])\n",
    "\n",
    "# OJO, los valores \"-1\" representan nulls."
   ]
  },
  {
   "cell_type": "markdown",
   "metadata": {},
   "source": [
    "<hr>"
   ]
  },
  {
   "cell_type": "markdown",
   "metadata": {},
   "source": [
    "# Correlacion: Precio en funcion de Habitaciones\n",
    "\n",
    "- **Categoria:** `Habitaciones`.\n",
    "- **Objetivo:** Investigar la influencia que tiene el numero de habitaciones sobre el precio."
   ]
  },
  {
   "cell_type": "code",
   "execution_count": 4,
   "metadata": {},
   "outputs": [],
   "source": [
    "# Colores a utilizar\n",
    "\n",
    "amarillo = '#FCAA67'\n",
    "rojo = '#B0413E'\n",
    "verde = '#FFFFC7'\n",
    "azul = '#548687'\n",
    "marron = '#473335'"
   ]
  },
  {
   "cell_type": "code",
   "execution_count": 5,
   "metadata": {
    "scrolled": true
   },
   "outputs": [
    {
     "data": {
      "text/plain": [
       " 3     121887\n",
       " 2      57808\n",
       " 4      25068\n",
       "-1      22471\n",
       " 1       5069\n",
       " 5       4596\n",
       " 6       1669\n",
       " 7        539\n",
       " 8        398\n",
       " 10       316\n",
       " 9        179\n",
       "Name: habitaciones, dtype: int64"
      ]
     },
     "execution_count": 5,
     "metadata": {},
     "output_type": "execute_result"
    }
   ],
   "source": [
    "hab = df.copy()\n",
    "hab['habitaciones'].value_counts()"
   ]
  },
  {
   "cell_type": "code",
   "execution_count": 6,
   "metadata": {},
   "outputs": [],
   "source": [
    "# Como vemos, hay 22471 valores nulos (definidos como -1), por lo que vamos a empezar por eliminar dichos datos."
   ]
  },
  {
   "cell_type": "code",
   "execution_count": 7,
   "metadata": {},
   "outputs": [],
   "source": [
    "hab = hab.loc[df['habitaciones'] != -1][['id', 'tipodepropiedad', 'ciudad', 'provincia', 'habitaciones', 'precio']]"
   ]
  },
  {
   "cell_type": "code",
   "execution_count": 8,
   "metadata": {
    "scrolled": true
   },
   "outputs": [
    {
     "data": {
      "text/plain": [
       "(217529, 6)"
      ]
     },
     "execution_count": 8,
     "metadata": {},
     "output_type": "execute_result"
    }
   ],
   "source": [
    "hab.shape"
   ]
  },
  {
   "cell_type": "code",
   "execution_count": 9,
   "metadata": {
    "scrolled": true
   },
   "outputs": [
    {
     "data": {
      "text/html": [
       "<div>\n",
       "<style scoped>\n",
       "    .dataframe tbody tr th:only-of-type {\n",
       "        vertical-align: middle;\n",
       "    }\n",
       "\n",
       "    .dataframe tbody tr th {\n",
       "        vertical-align: top;\n",
       "    }\n",
       "\n",
       "    .dataframe thead th {\n",
       "        text-align: right;\n",
       "    }\n",
       "</style>\n",
       "<table border=\"1\" class=\"dataframe\">\n",
       "  <thead>\n",
       "    <tr style=\"text-align: right;\">\n",
       "      <th></th>\n",
       "      <th>id</th>\n",
       "      <th>tipodepropiedad</th>\n",
       "      <th>ciudad</th>\n",
       "      <th>provincia</th>\n",
       "      <th>habitaciones</th>\n",
       "      <th>precio</th>\n",
       "    </tr>\n",
       "  </thead>\n",
       "  <tbody>\n",
       "    <tr>\n",
       "      <td>0</td>\n",
       "      <td>254099</td>\n",
       "      <td>Apartamento</td>\n",
       "      <td>Benito Juárez</td>\n",
       "      <td>Distrito Federal</td>\n",
       "      <td>2</td>\n",
       "      <td>2273000</td>\n",
       "    </tr>\n",
       "    <tr>\n",
       "      <td>1</td>\n",
       "      <td>53461</td>\n",
       "      <td>Casa en condominio</td>\n",
       "      <td>La Magdalena Contreras</td>\n",
       "      <td>Distrito Federal</td>\n",
       "      <td>3</td>\n",
       "      <td>3600000</td>\n",
       "    </tr>\n",
       "    <tr>\n",
       "      <td>2</td>\n",
       "      <td>247984</td>\n",
       "      <td>Casa</td>\n",
       "      <td>Tonalá</td>\n",
       "      <td>Jalisco</td>\n",
       "      <td>3</td>\n",
       "      <td>1200000</td>\n",
       "    </tr>\n",
       "    <tr>\n",
       "      <td>3</td>\n",
       "      <td>209067</td>\n",
       "      <td>Casa</td>\n",
       "      <td>Zinacantepec</td>\n",
       "      <td>Edo. de México</td>\n",
       "      <td>2</td>\n",
       "      <td>650000</td>\n",
       "    </tr>\n",
       "    <tr>\n",
       "      <td>4</td>\n",
       "      <td>185997</td>\n",
       "      <td>Apartamento</td>\n",
       "      <td>Zapopan</td>\n",
       "      <td>Jalisco</td>\n",
       "      <td>2</td>\n",
       "      <td>1150000</td>\n",
       "    </tr>\n",
       "  </tbody>\n",
       "</table>\n",
       "</div>"
      ],
      "text/plain": [
       "       id     tipodepropiedad                  ciudad         provincia  \\\n",
       "0  254099         Apartamento           Benito Juárez  Distrito Federal   \n",
       "1   53461  Casa en condominio  La Magdalena Contreras  Distrito Federal   \n",
       "2  247984                Casa                  Tonalá           Jalisco   \n",
       "3  209067                Casa            Zinacantepec    Edo. de México   \n",
       "4  185997         Apartamento                 Zapopan           Jalisco   \n",
       "\n",
       "   habitaciones   precio  \n",
       "0             2  2273000  \n",
       "1             3  3600000  \n",
       "2             3  1200000  \n",
       "3             2   650000  \n",
       "4             2  1150000  "
      ]
     },
     "execution_count": 9,
     "metadata": {},
     "output_type": "execute_result"
    }
   ],
   "source": [
    "hab.head()"
   ]
  },
  {
   "cell_type": "code",
   "execution_count": 10,
   "metadata": {},
   "outputs": [],
   "source": [
    "# Nos puede interesar mostrar en un mismo grafico la relacion entre habitaciones y precio, para\n",
    "# los distintos tipos de propiedad. Para esto, nos fijaremos cuales son los tipos de propiedad mas \n",
    "# comunes."
   ]
  },
  {
   "cell_type": "code",
   "execution_count": 11,
   "metadata": {},
   "outputs": [
    {
     "data": {
      "text/plain": [
       "Casa                             63.622236\n",
       "Apartamento                      25.906548\n",
       "Casa en condominio                8.773293\n",
       "Casa uso de suelo                 0.230804\n",
       "Terreno                           0.219769\n",
       "Local Comercial                   0.172413\n",
       "Quinta Vacacional                 0.166436\n",
       "Duplex                            0.156321\n",
       "Oficina comercial                 0.148965\n",
       "Edificio                          0.139310\n",
       "Villa                             0.139310\n",
       "Bodega comercial                  0.072184\n",
       "Rancho                            0.065287\n",
       "Departamento Compartido           0.062988\n",
       "Inmuebles productivos urbanos     0.038161\n",
       "Terreno comercial                 0.033103\n",
       "Otros                             0.031724\n",
       "Local en centro comercial         0.010115\n",
       "Nave industrial                   0.005977\n",
       "Huerta                            0.003218\n",
       "Terreno industrial                0.001379\n",
       "Hospedaje                         0.000460\n",
       "Lote                              0.000000\n",
       "Garage                            0.000000\n",
       "Name: tipodepropiedad, dtype: float64"
      ]
     },
     "execution_count": 11,
     "metadata": {},
     "output_type": "execute_result"
    }
   ],
   "source": [
    "hab['tipodepropiedad'].value_counts(normalize=True).map(lambda x: x*100)"
   ]
  },
  {
   "cell_type": "code",
   "execution_count": 12,
   "metadata": {},
   "outputs": [],
   "source": [
    "# Vemos que practicamente el 90% de los datos se distribuyen entre solamente dos tipos, por lo que reagruparemos:"
   ]
  },
  {
   "cell_type": "code",
   "execution_count": 13,
   "metadata": {},
   "outputs": [],
   "source": [
    "hab['tipodepropiedad'] = hab['tipodepropiedad'].map(lambda x: x if x in ['Casa', 'Apartamento'] else 'Otros')"
   ]
  },
  {
   "cell_type": "code",
   "execution_count": 14,
   "metadata": {},
   "outputs": [
    {
     "data": {
      "text/plain": [
       "3     56.032529\n",
       "2     26.574847\n",
       "4     11.523981\n",
       "1      2.330264\n",
       "5      2.112822\n",
       "6      0.767254\n",
       "7      0.247783\n",
       "8      0.182964\n",
       "10     0.145268\n",
       "9      0.082288\n",
       "Name: habitaciones, dtype: float64"
      ]
     },
     "execution_count": 14,
     "metadata": {},
     "output_type": "execute_result"
    }
   ],
   "source": [
    "# Tambien podemos ver que la mayoria de las casas tienen 4 o menos habitaciones:\n",
    "hab['habitaciones'].value_counts(normalize=True).map(lambda x: x*100)"
   ]
  },
  {
   "cell_type": "code",
   "execution_count": 15,
   "metadata": {},
   "outputs": [],
   "source": [
    "hab['habitaciones'] = hab['habitaciones'].map(lambda x: str(x) if x in [1, 2, 3, 4] else '5 o mas')"
   ]
  },
  {
   "cell_type": "code",
   "execution_count": 16,
   "metadata": {
    "scrolled": false
   },
   "outputs": [],
   "source": [
    "#hab.groupby('habitaciones')['precio'].agg(['mean']).astype({'mean':'uint32'})\n",
    "hab = hab.groupby(['habitaciones', 'tipodepropiedad'])['precio'].agg(['mean']).astype({'mean':'uint32'})"
   ]
  },
  {
   "cell_type": "code",
   "execution_count": 17,
   "metadata": {
    "scrolled": true
   },
   "outputs": [
    {
     "data": {
      "text/html": [
       "<div>\n",
       "<style scoped>\n",
       "    .dataframe tbody tr th:only-of-type {\n",
       "        vertical-align: middle;\n",
       "    }\n",
       "\n",
       "    .dataframe tbody tr th {\n",
       "        vertical-align: top;\n",
       "    }\n",
       "\n",
       "    .dataframe thead th {\n",
       "        text-align: right;\n",
       "    }\n",
       "</style>\n",
       "<table border=\"1\" class=\"dataframe\">\n",
       "  <thead>\n",
       "    <tr style=\"text-align: right;\">\n",
       "      <th></th>\n",
       "      <th>Casa</th>\n",
       "      <th>Apartamento</th>\n",
       "      <th>Otros</th>\n",
       "    </tr>\n",
       "    <tr>\n",
       "      <th>habitaciones</th>\n",
       "      <th></th>\n",
       "      <th></th>\n",
       "      <th></th>\n",
       "    </tr>\n",
       "  </thead>\n",
       "  <tbody>\n",
       "    <tr>\n",
       "      <td>1</td>\n",
       "      <td>1056945</td>\n",
       "      <td>2185763</td>\n",
       "      <td>1926405</td>\n",
       "    </tr>\n",
       "    <tr>\n",
       "      <td>2</td>\n",
       "      <td>970532</td>\n",
       "      <td>2152655</td>\n",
       "      <td>1437405</td>\n",
       "    </tr>\n",
       "    <tr>\n",
       "      <td>3</td>\n",
       "      <td>2507186</td>\n",
       "      <td>3552820</td>\n",
       "      <td>3080215</td>\n",
       "    </tr>\n",
       "    <tr>\n",
       "      <td>4</td>\n",
       "      <td>3345206</td>\n",
       "      <td>5387999</td>\n",
       "      <td>4181437</td>\n",
       "    </tr>\n",
       "    <tr>\n",
       "      <td>5 o mas</td>\n",
       "      <td>3190014</td>\n",
       "      <td>4259473</td>\n",
       "      <td>4432406</td>\n",
       "    </tr>\n",
       "  </tbody>\n",
       "</table>\n",
       "</div>"
      ],
      "text/plain": [
       "                 Casa  Apartamento    Otros\n",
       "habitaciones                               \n",
       "1             1056945      2185763  1926405\n",
       "2              970532      2152655  1437405\n",
       "3             2507186      3552820  3080215\n",
       "4             3345206      5387999  4181437\n",
       "5 o mas       3190014      4259473  4432406"
      ]
     },
     "execution_count": 17,
     "metadata": {},
     "output_type": "execute_result"
    }
   ],
   "source": [
    "hab = hab.unstack()\n",
    "hab.columns = ['Apartamento', 'Casa', 'Otros']\n",
    "hab = hab[['Casa', 'Apartamento', 'Otros']]\n",
    "hab"
   ]
  },
  {
   "cell_type": "code",
   "execution_count": 18,
   "metadata": {},
   "outputs": [
    {
     "data": {
      "text/plain": [
       "[1056945, 970532, 2507186, 3345206, 3190014]"
      ]
     },
     "execution_count": 18,
     "metadata": {},
     "output_type": "execute_result"
    }
   ],
   "source": [
    "hab['Casa'].to_list()"
   ]
  },
  {
   "cell_type": "code",
   "execution_count": 24,
   "metadata": {
    "scrolled": true
   },
   "outputs": [
    {
     "data": {
      "image/png": "[encoded data removed]",
      "text/plain": [
       "<Figure size 864x648 with 1 Axes>"
      ]
     },
     "metadata": {
      "needs_background": "light"
     },
     "output_type": "display_data"
    }
   ],
   "source": [
    "import matplotlib.pyplot as plt\n",
    "\n",
    "plt.rcParams[\"figure.figsize\"] = [12,9]\n",
    "plt.rc('axes', axisbelow=True)\n",
    "\n",
    "barWidth = 0.25\n",
    "bars1 = hab['Casa'].to_list()\n",
    "bars2 = hab['Apartamento'].to_list()\n",
    "bars3 = hab['Otros'].to_list()\n",
    " \n",
    "r1 = np.arange(len(bars1))\n",
    "r2 = [x + barWidth for x in r1]\n",
    "r3 = [x + barWidth for x in r2]\n",
    "\n",
    "plt.bar(r1, bars1, color=rojo, width=barWidth, label='Casa')\n",
    "plt.bar(r2, bars2, color=azul, width=barWidth, label='Apartamento')\n",
    "plt.bar(r3, bars3, color=marron, width=barWidth, label='Otros')\n",
    "\n",
    "plt.title(\"Barplot (Precio promedio x Cantidad de Habitaciones)\", fontsize=20)\n",
    "plt.xlabel('Cantidad de Habitaciones', fontsize=15)\n",
    "plt.ylabel('Precio promedio [MXN]', fontsize=15)\n",
    "plt.xticks([r + barWidth for r in range(len(bars1))], ['1', '2', '3', '4', '5 o más'])\n",
    "plt.grid(True, axis='y')\n",
    "plt.legend()\n",
    "\n",
    "plt.savefig('./precio_habitaciones.png', transparent=True, bbox_inches = \"tight\")\n",
    "plt.savefig('./precio_habitaciones.jpg', bbox_inches = \"tight\")"
   ]
  },
  {
   "cell_type": "code",
   "execution_count": 20,
   "metadata": {},
   "outputs": [],
   "source": [
    "# Como vemos, obtuvimos los resultados esperados: linealidad entre las variables."
   ]
  },
  {
   "cell_type": "code",
   "execution_count": null,
   "metadata": {},
   "outputs": [],
   "source": []
  }
 ],
 "metadata": {
  "kernelspec": {
   "display_name": "Python 3",
   "language": "python",
   "name": "python3"
  },
  "language_info": {
   "codemirror_mode": {
    "name": "ipython",
    "version": 3
   },
   "file_extension": ".py",
   "mimetype": "text/x-python",
   "name": "python",
   "nbconvert_exporter": "python",
   "pygments_lexer": "ipython3",
   "version": "3.6.8"
  }
 },
 "nbformat": 4,
 "nbformat_minor": 2
}
