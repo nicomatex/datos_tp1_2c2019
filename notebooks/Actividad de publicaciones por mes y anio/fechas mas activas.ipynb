{
 "cells": [
  {
   "cell_type": "markdown",
   "metadata": {},
   "source": [
    "# [TEMPLATE] DATASET DEPURADO"
   ]
  },
  {
   "cell_type": "code",
   "execution_count": 2,
   "metadata": {},
   "outputs": [
    {
     "name": "stderr",
     "output_type": "stream",
     "text": [
      "/home/nicolas/.local/lib/python3.6/site-packages/matplotlib/__init__.py:886: MatplotlibDeprecationWarning: \n",
      "examples.directory is deprecated; in the future, examples will be found relative to the 'datapath' directory.\n",
      "  \"found relative to the 'datapath' directory.\".format(key))\n"
     ]
    }
   ],
   "source": [
    "import pandas as pd\n",
    "import numpy as np\n",
    "import seaborn as sns\n",
    "import matplotlib.pyplot as plt\n",
    "plt.style.use('default') # haciendo los graficos un poco mas bonitos en matplotlib\n",
    "#plt.rcParams['figure.figsize'] = (20, 10)\n",
    "\n",
    "sns.set(style=\"whitegrid\") # seteando tipo de grid en seaborn"
   ]
  },
  {
   "cell_type": "code",
   "execution_count": 3,
   "metadata": {},
   "outputs": [],
   "source": [
    "df = pd.read_csv('./data/train.csv', dtype={'id':'uint32', 'provincia':'category',\n",
    "                                            'tipodepropiedad':'category', 'gimnasio':'bool',\n",
    "                                            'usosmultiples':'bool', 'piscina':'bool', 'escuelascercanas':'bool',\n",
    "                                            'centroscomercialescercanos':'bool'})\n",
    "\n",
    "# OJO, debe tener el archivo train.csv en la carpeta data."
   ]
  },
  {
   "cell_type": "code",
   "execution_count": 4,
   "metadata": {},
   "outputs": [],
   "source": [
    "df['antiguedad'] = df['antiguedad'].fillna(-1)\n",
    "df['antiguedad'] = df['antiguedad'].astype(np.int8)\n",
    "df['habitaciones'] = df['habitaciones'].fillna(-1)\n",
    "df['habitaciones'] = df['habitaciones'].astype(np.int8)\n",
    "df['garages'] = df['garages'].fillna(-1)\n",
    "df['garages'] = df['garages'].astype(np.int8)\n",
    "df['banos'] = df['banos'].fillna(-1)\n",
    "df['banos'] = df['banos'].astype(np.int8)\n",
    "df['idzona'] = df['idzona'].fillna(-1)\n",
    "df['idzona'] = df['idzona'].astype(np.int32)\n",
    "df['metroscubiertos'] = df['metroscubiertos'].fillna(-1)\n",
    "df['metroscubiertos'] = df['metroscubiertos'].astype(np.int16)\n",
    "df['metrostotales'] = df['metrostotales'].fillna(-1)\n",
    "df['metrostotales'] = df['metrostotales'].astype(np.int16)\n",
    "df['precio'] = df['precio'].astype(np.uint32)\n",
    "df['fecha'] = pd.to_datetime(df['fecha'])\n",
    "\n",
    "# OJO, los valores \"-1\" representan nulls."
   ]
  },
  {
   "cell_type": "code",
   "execution_count": 5,
   "metadata": {},
   "outputs": [],
   "source": [
    "df['anio'] = df['fecha'].dt.year"
   ]
  },
  {
   "cell_type": "code",
   "execution_count": 6,
   "metadata": {},
   "outputs": [],
   "source": [
    "df['mes'] = df['fecha'].dt.month"
   ]
  },
  {
   "cell_type": "code",
   "execution_count": 7,
   "metadata": {},
   "outputs": [],
   "source": [
    "df['aux'] = 1"
   ]
  },
  {
   "cell_type": "code",
   "execution_count": 9,
   "metadata": {},
   "outputs": [],
   "source": [
    "pubs_por_mes_anio = df.pivot_table(index='anio', columns='mes', values='aux', aggfunc='sum')"
   ]
  },
  {
   "cell_type": "code",
   "execution_count": 32,
   "metadata": {},
   "outputs": [
    {
     "data": {
      "image/png": "[encoded data removed]",
      "text/plain": [
       "<Figure size 864x432 with 2 Axes>"
      ]
     },
     "metadata": {
      "needs_background": "light"
     },
     "output_type": "display_data"
    }
   ],
   "source": [
    "plt.figure(figsize=(12, 6))\n",
    "g = sns.heatmap(pubs_por_mes_anio, cmap='Greens')\n",
    "g.set_title(\"Cantidad de publicaciones por mes y año\", fontsize=22)\n",
    "g.set_xlabel(\"Mes\",fontsize=18)\n",
    "g.set_ylabel(\"Año\", fontsize=18)\n",
    "g.figure.savefig(\"Banios segun antiguedad.png\", bbox_inches='tight')\n",
    "g.figure.savefig(\"heatmap publicaciones por anio.png\", bbox_inches='tight')"
   ]
  },
  {
   "cell_type": "code",
   "execution_count": 19,
   "metadata": {},
   "outputs": [
    {
     "data": {
      "text/html": [
       "<div>\n",
       "<style scoped>\n",
       "    .dataframe tbody tr th:only-of-type {\n",
       "        vertical-align: middle;\n",
       "    }\n",
       "\n",
       "    .dataframe tbody tr th {\n",
       "        vertical-align: top;\n",
       "    }\n",
       "\n",
       "    .dataframe thead th {\n",
       "        text-align: right;\n",
       "    }\n",
       "</style>\n",
       "<table border=\"1\" class=\"dataframe\">\n",
       "  <thead>\n",
       "    <tr style=\"text-align: right;\">\n",
       "      <th>mes</th>\n",
       "      <th>1</th>\n",
       "      <th>2</th>\n",
       "      <th>3</th>\n",
       "      <th>4</th>\n",
       "      <th>5</th>\n",
       "      <th>6</th>\n",
       "      <th>7</th>\n",
       "      <th>8</th>\n",
       "      <th>9</th>\n",
       "      <th>10</th>\n",
       "      <th>11</th>\n",
       "      <th>12</th>\n",
       "    </tr>\n",
       "    <tr>\n",
       "      <th>anio</th>\n",
       "      <th></th>\n",
       "      <th></th>\n",
       "      <th></th>\n",
       "      <th></th>\n",
       "      <th></th>\n",
       "      <th></th>\n",
       "      <th></th>\n",
       "      <th></th>\n",
       "      <th></th>\n",
       "      <th></th>\n",
       "      <th></th>\n",
       "      <th></th>\n",
       "    </tr>\n",
       "  </thead>\n",
       "  <tbody>\n",
       "    <tr>\n",
       "      <td>2012</td>\n",
       "      <td>1528</td>\n",
       "      <td>1327</td>\n",
       "      <td>1103</td>\n",
       "      <td>1434</td>\n",
       "      <td>1857</td>\n",
       "      <td>1524</td>\n",
       "      <td>1973</td>\n",
       "      <td>3971</td>\n",
       "      <td>2598</td>\n",
       "      <td>3161</td>\n",
       "      <td>1608</td>\n",
       "      <td>1450</td>\n",
       "    </tr>\n",
       "    <tr>\n",
       "      <td>2013</td>\n",
       "      <td>1993</td>\n",
       "      <td>1401</td>\n",
       "      <td>1734</td>\n",
       "      <td>1829</td>\n",
       "      <td>2000</td>\n",
       "      <td>2016</td>\n",
       "      <td>2524</td>\n",
       "      <td>2374</td>\n",
       "      <td>3321</td>\n",
       "      <td>4056</td>\n",
       "      <td>4012</td>\n",
       "      <td>3126</td>\n",
       "    </tr>\n",
       "    <tr>\n",
       "      <td>2014</td>\n",
       "      <td>2403</td>\n",
       "      <td>2534</td>\n",
       "      <td>2916</td>\n",
       "      <td>2780</td>\n",
       "      <td>3071</td>\n",
       "      <td>3082</td>\n",
       "      <td>3125</td>\n",
       "      <td>3583</td>\n",
       "      <td>3911</td>\n",
       "      <td>3811</td>\n",
       "      <td>4613</td>\n",
       "      <td>4743</td>\n",
       "    </tr>\n",
       "    <tr>\n",
       "      <td>2015</td>\n",
       "      <td>4310</td>\n",
       "      <td>3869</td>\n",
       "      <td>3957</td>\n",
       "      <td>3783</td>\n",
       "      <td>3696</td>\n",
       "      <td>3804</td>\n",
       "      <td>3875</td>\n",
       "      <td>4526</td>\n",
       "      <td>4863</td>\n",
       "      <td>5552</td>\n",
       "      <td>4906</td>\n",
       "      <td>4329</td>\n",
       "    </tr>\n",
       "    <tr>\n",
       "      <td>2016</td>\n",
       "      <td>5775</td>\n",
       "      <td>4592</td>\n",
       "      <td>5022</td>\n",
       "      <td>6640</td>\n",
       "      <td>5438</td>\n",
       "      <td>6795</td>\n",
       "      <td>6013</td>\n",
       "      <td>6443</td>\n",
       "      <td>5929</td>\n",
       "      <td>6726</td>\n",
       "      <td>6086</td>\n",
       "      <td>28579</td>\n",
       "    </tr>\n",
       "  </tbody>\n",
       "</table>\n",
       "</div>"
      ],
      "text/plain": [
       "mes     1     2     3     4     5     6     7     8     9     10    11     12\n",
       "anio                                                                         \n",
       "2012  1528  1327  1103  1434  1857  1524  1973  3971  2598  3161  1608   1450\n",
       "2013  1993  1401  1734  1829  2000  2016  2524  2374  3321  4056  4012   3126\n",
       "2014  2403  2534  2916  2780  3071  3082  3125  3583  3911  3811  4613   4743\n",
       "2015  4310  3869  3957  3783  3696  3804  3875  4526  4863  5552  4906   4329\n",
       "2016  5775  4592  5022  6640  5438  6795  6013  6443  5929  6726  6086  28579"
      ]
     },
     "execution_count": 19,
     "metadata": {},
     "output_type": "execute_result"
    }
   ],
   "source": [
    "pubs_por_mes_anio"
   ]
  },
  {
   "cell_type": "markdown",
   "metadata": {},
   "source": [
    "# Mismo heatmap que el anterior pero sin 2016"
   ]
  },
  {
   "cell_type": "code",
   "execution_count": 26,
   "metadata": {},
   "outputs": [],
   "source": [
    "df2 = df.loc[df['anio'] != 2016]"
   ]
  },
  {
   "cell_type": "code",
   "execution_count": 28,
   "metadata": {},
   "outputs": [],
   "source": [
    "pubs_por_mes_anio_2 = df2.pivot_table(index='anio', columns='mes', values='aux', aggfunc='sum')"
   ]
  },
  {
   "cell_type": "code",
   "execution_count": 30,
   "metadata": {},
   "outputs": [
    {
     "data": {
      "text/html": [
       "<div>\n",
       "<style scoped>\n",
       "    .dataframe tbody tr th:only-of-type {\n",
       "        vertical-align: middle;\n",
       "    }\n",
       "\n",
       "    .dataframe tbody tr th {\n",
       "        vertical-align: top;\n",
       "    }\n",
       "\n",
       "    .dataframe thead th {\n",
       "        text-align: right;\n",
       "    }\n",
       "</style>\n",
       "<table border=\"1\" class=\"dataframe\">\n",
       "  <thead>\n",
       "    <tr style=\"text-align: right;\">\n",
       "      <th>mes</th>\n",
       "      <th>1</th>\n",
       "      <th>2</th>\n",
       "      <th>3</th>\n",
       "      <th>4</th>\n",
       "      <th>5</th>\n",
       "      <th>6</th>\n",
       "      <th>7</th>\n",
       "      <th>8</th>\n",
       "      <th>9</th>\n",
       "      <th>10</th>\n",
       "      <th>11</th>\n",
       "      <th>12</th>\n",
       "    </tr>\n",
       "    <tr>\n",
       "      <th>anio</th>\n",
       "      <th></th>\n",
       "      <th></th>\n",
       "      <th></th>\n",
       "      <th></th>\n",
       "      <th></th>\n",
       "      <th></th>\n",
       "      <th></th>\n",
       "      <th></th>\n",
       "      <th></th>\n",
       "      <th></th>\n",
       "      <th></th>\n",
       "      <th></th>\n",
       "    </tr>\n",
       "  </thead>\n",
       "  <tbody>\n",
       "    <tr>\n",
       "      <td>2012</td>\n",
       "      <td>1528</td>\n",
       "      <td>1327</td>\n",
       "      <td>1103</td>\n",
       "      <td>1434</td>\n",
       "      <td>1857</td>\n",
       "      <td>1524</td>\n",
       "      <td>1973</td>\n",
       "      <td>3971</td>\n",
       "      <td>2598</td>\n",
       "      <td>3161</td>\n",
       "      <td>1608</td>\n",
       "      <td>1450</td>\n",
       "    </tr>\n",
       "    <tr>\n",
       "      <td>2013</td>\n",
       "      <td>1993</td>\n",
       "      <td>1401</td>\n",
       "      <td>1734</td>\n",
       "      <td>1829</td>\n",
       "      <td>2000</td>\n",
       "      <td>2016</td>\n",
       "      <td>2524</td>\n",
       "      <td>2374</td>\n",
       "      <td>3321</td>\n",
       "      <td>4056</td>\n",
       "      <td>4012</td>\n",
       "      <td>3126</td>\n",
       "    </tr>\n",
       "    <tr>\n",
       "      <td>2014</td>\n",
       "      <td>2403</td>\n",
       "      <td>2534</td>\n",
       "      <td>2916</td>\n",
       "      <td>2780</td>\n",
       "      <td>3071</td>\n",
       "      <td>3082</td>\n",
       "      <td>3125</td>\n",
       "      <td>3583</td>\n",
       "      <td>3911</td>\n",
       "      <td>3811</td>\n",
       "      <td>4613</td>\n",
       "      <td>4743</td>\n",
       "    </tr>\n",
       "    <tr>\n",
       "      <td>2015</td>\n",
       "      <td>4310</td>\n",
       "      <td>3869</td>\n",
       "      <td>3957</td>\n",
       "      <td>3783</td>\n",
       "      <td>3696</td>\n",
       "      <td>3804</td>\n",
       "      <td>3875</td>\n",
       "      <td>4526</td>\n",
       "      <td>4863</td>\n",
       "      <td>5552</td>\n",
       "      <td>4906</td>\n",
       "      <td>4329</td>\n",
       "    </tr>\n",
       "  </tbody>\n",
       "</table>\n",
       "</div>"
      ],
      "text/plain": [
       "mes     1     2     3     4     5     6     7     8     9     10    11    12\n",
       "anio                                                                        \n",
       "2012  1528  1327  1103  1434  1857  1524  1973  3971  2598  3161  1608  1450\n",
       "2013  1993  1401  1734  1829  2000  2016  2524  2374  3321  4056  4012  3126\n",
       "2014  2403  2534  2916  2780  3071  3082  3125  3583  3911  3811  4613  4743\n",
       "2015  4310  3869  3957  3783  3696  3804  3875  4526  4863  5552  4906  4329"
      ]
     },
     "execution_count": 30,
     "metadata": {},
     "output_type": "execute_result"
    }
   ],
   "source": [
    "pubs_por_mes_anio_2"
   ]
  },
  {
   "cell_type": "code",
   "execution_count": 33,
   "metadata": {},
   "outputs": [
    {
     "data": {
      "image/png": "[encoded data removed]",
      "text/plain": [
       "<Figure size 864x432 with 2 Axes>"
      ]
     },
     "metadata": {
      "needs_background": "light"
     },
     "output_type": "display_data"
    }
   ],
   "source": [
    "plt.figure(figsize=(12, 6))\n",
    "g = sns.heatmap(pubs_por_mes_anio_2, cmap='Greens')\n",
    "g.set_title(\"Cantidad de publicaciones por mes y año\", fontsize=22)\n",
    "g.set_xlabel(\"Mes\",fontsize=18)\n",
    "g.set_ylabel(\"Año\", fontsize=18)\n",
    "g.figure.savefig(\"heatmap publicaciones por anio sin 2016.png\", bbox_inches='tight')"
   ]
  },
  {
   "cell_type": "code",
   "execution_count": null,
   "metadata": {},
   "outputs": [],
   "source": []
  }
 ],
 "metadata": {
  "kernelspec": {
   "display_name": "Python 3",
   "language": "python",
   "name": "python3"
  },
  "language_info": {
   "codemirror_mode": {
    "name": "ipython",
    "version": 3
   },
   "file_extension": ".py",
   "mimetype": "text/x-python",
   "name": "python",
   "nbconvert_exporter": "python",
   "pygments_lexer": "ipython3",
   "version": "3.6.8"
  }
 },
 "nbformat": 4,
 "nbformat_minor": 2
}
